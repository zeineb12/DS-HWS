{
 "cells": [
  {
   "cell_type": "code",
   "execution_count": 1,
   "metadata": {},
   "outputs": [],
   "source": [
    "import string\n",
    "from tqdm import tqdm\n",
    "import hashlib"
   ]
  },
  {
   "cell_type": "code",
   "execution_count": 20,
   "metadata": {},
   "outputs": [],
   "source": [
    "encoded_passwords=[\"0bd9a9e765b1228b65851010078b82c37628670a0c2d590e43b4d7b6b030a352\",\n",
    "\"ca5db405c360097eb16807726cc2ec656886cf342a576b5b975690d33542bb34\",\n",
    "\"4a77f5050d6f9d834e4d90be76544635e81e69d4d96edaf5838b7b95e8ebf009\",\n",
    "\"aa9cdbcd558e71878909f228f13c22d1308ad441b7d979846d96dd6a343b90fa\",\n",
    "\"d043bf9027cac7a89719f9b9bbd309eec5e170a88a892cc394913bf80179c8ee\",\n",
    "\"22f3760e093d6fed094a813052862cb94087eadf12e50644164afcfb7f39a389\",\n",
    "\"c6cfa462e1219f94b141f3d3c9aa8ec88c9fd8b83dddb5442a21bb1edcafa3b8\",\n",
    "\"0b8472e20358b7fa619c623f5a97b269fad0113bc025e9f0d1cac991f0a6d363\",\n",
    "\"c3c870ab62753f1d77aed96fc1e48532e156f5d638e37a00af1665dd1fbc55bf\",\n",
    "\"dcf777db3031a5538111e853c1f76f5963388f3f320b9b7d4334b6fa6d5fc69e\"]\n",
    "clear_psswords = list()"
   ]
  },
  {
   "cell_type": "code",
   "execution_count": 3,
   "metadata": {},
   "outputs": [],
   "source": [
    "with open(\"rockyou.txt\", errors = 'ignore') as f:\n",
    "    file = f.readlines()\n",
    "file=list(map(lambda x:x.strip(),file))"
   ]
  },
  {
   "cell_type": "code",
   "execution_count": 5,
   "metadata": {},
   "outputs": [
    {
     "name": "stderr",
     "output_type": "stream",
     "text": [
      "  7%|▋         | 949244/14344391 [00:02<00:26, 497842.42it/s]"
     ]
    },
    {
     "name": "stdout",
     "output_type": "stream",
     "text": [
      "('Love2209', 'd043bf9027cac7a89719f9b9bbd309eec5e170a88a892cc394913bf80179c8ee')\n"
     ]
    },
    {
     "name": "stderr",
     "output_type": "stream",
     "text": [
      " 17%|█▋        | 2489277/14344391 [00:05<00:29, 401548.53it/s]"
     ]
    },
    {
     "name": "stdout",
     "output_type": "stream",
     "text": [
      "('0816136020', '4a77f5050d6f9d834e4d90be76544635e81e69d4d96edaf5838b7b95e8ebf009')\n"
     ]
    },
    {
     "name": "stderr",
     "output_type": "stream",
     "text": [
      " 88%|████████▊ | 12581799/14344391 [00:24<00:02, 863787.98it/s]"
     ]
    },
    {
     "name": "stdout",
     "output_type": "stream",
     "text": [
      "('3Gen2004', 'ca5db405c360097eb16807726cc2ec656886cf342a576b5b975690d33542bb34')\n",
      "('3006001742', 'dcf777db3031a5538111e853c1f76f5963388f3f320b9b7d4334b6fa6d5fc69e')\n"
     ]
    },
    {
     "name": "stderr",
     "output_type": "stream",
     "text": [
      "100%|██████████| 14344391/14344391 [00:26<00:00, 546226.91it/s]\n"
     ]
    }
   ],
   "source": [
    "aux=list(map(lambda x:x.title(),file))\n",
    "encoded=[(s,hashlib.sha256(s.encode()).hexdigest()) for s in aux]\n",
    "for s in tqdm(encoded):\n",
    "    if s[1] in encoded_passwords:\n",
    "        clear_psswords.append(s[0])\n",
    "        print(s)"
   ]
  },
  {
   "cell_type": "code",
   "execution_count": 17,
   "metadata": {},
   "outputs": [
    {
     "name": "stderr",
     "output_type": "stream",
     "text": [
      " 18%|█▊        | 2511556/14344391 [00:04<00:30, 388598.46it/s]"
     ]
    },
    {
     "name": "stdout",
     "output_type": "stream",
     "text": [
      "('0816136020', '4a77f5050d6f9d834e4d90be76544635e81e69d4d96edaf5838b7b95e8ebf009')\n"
     ]
    },
    {
     "name": "stderr",
     "output_type": "stream",
     "text": [
      " 26%|██▌       | 3755846/14344391 [00:07<00:28, 374801.45it/s]"
     ]
    },
    {
     "name": "stdout",
     "output_type": "stream",
     "text": [
      "('slp8nxf7', 'c3c870ab62753f1d77aed96fc1e48532e156f5d638e37a00af1665dd1fbc55bf')\n"
     ]
    },
    {
     "name": "stderr",
     "output_type": "stream",
     "text": [
      " 89%|████████▊ | 12695611/14344391 [00:29<00:03, 442739.92it/s]"
     ]
    },
    {
     "name": "stdout",
     "output_type": "stream",
     "text": [
      "('3006001742', 'dcf777db3031a5538111e853c1f76f5963388f3f320b9b7d4334b6fa6d5fc69e')\n"
     ]
    },
    {
     "name": "stderr",
     "output_type": "stream",
     "text": [
      "100%|██████████| 14344391/14344391 [00:33<00:00, 423943.69it/s]\n"
     ]
    }
   ],
   "source": [
    "aux=list(map(lambda x:x.replace('e','3'),file))\n",
    "encoded=[(s,hashlib.sha256(s.encode()).hexdigest()) for s in aux]\n",
    "for s in tqdm(encoded):\n",
    "    if s[1] in encoded_passwords:\n",
    "        clear_psswords.append(s[0])\n",
    "        print(s)"
   ]
  },
  {
   "cell_type": "code",
   "execution_count": 19,
   "metadata": {},
   "outputs": [
    {
     "name": "stderr",
     "output_type": "stream",
     "text": [
      "  8%|▊         | 1088578/14344391 [00:04<00:36, 360017.41it/s]"
     ]
    },
    {
     "name": "stdout",
     "output_type": "stream",
     "text": [
      "('anjelle', '22f3760e093d6fed094a813052862cb94087eadf12e50644164afcfb7f39a389')\n"
     ]
    },
    {
     "name": "stderr",
     "output_type": "stream",
     "text": [
      " 17%|█▋        | 2496485/14344391 [00:07<00:24, 480055.09it/s]"
     ]
    },
    {
     "name": "stdout",
     "output_type": "stream",
     "text": [
      "('0816136020', '4a77f5050d6f9d834e4d90be76544635e81e69d4d96edaf5838b7b95e8ebf009')\n"
     ]
    },
    {
     "name": "stderr",
     "output_type": "stream",
     "text": [
      " 26%|██▋       | 3792416/14344391 [00:11<00:24, 438297.35it/s]"
     ]
    },
    {
     "name": "stdout",
     "output_type": "stream",
     "text": [
      "('slp8nxf7', 'c3c870ab62753f1d77aed96fc1e48532e156f5d638e37a00af1665dd1fbc55bf')\n"
     ]
    },
    {
     "name": "stderr",
     "output_type": "stream",
     "text": [
      " 54%|█████▎    | 7686278/14344391 [00:22<00:14, 450993.30it/s]"
     ]
    },
    {
     "name": "stdout",
     "output_type": "stream",
     "text": [
      "('heavy112', '0b8472e20358b7fa619c623f5a97b269fad0113bc025e9f0d1cac991f0a6d363')\n"
     ]
    },
    {
     "name": "stderr",
     "output_type": "stream",
     "text": [
      " 68%|██████▊   | 9772276/14344391 [00:34<00:09, 465281.69it/s]"
     ]
    },
    {
     "name": "stdout",
     "output_type": "stream",
     "text": [
      "('bere471', '0bd9a9e765b1228b65851010078b82c37628670a0c2d590e43b4d7b6b030a352')\n"
     ]
    },
    {
     "name": "stderr",
     "output_type": "stream",
     "text": [
      " 88%|████████▊ | 12684813/14344391 [00:41<00:04, 413170.27it/s]"
     ]
    },
    {
     "name": "stdout",
     "output_type": "stream",
     "text": [
      "('3006001742', 'dcf777db3031a5538111e853c1f76f5963388f3f320b9b7d4334b6fa6d5fc69e')\n"
     ]
    },
    {
     "name": "stderr",
     "output_type": "stream",
     "text": [
      "100%|██████████| 14344391/14344391 [00:47<00:00, 301776.00it/s]\n"
     ]
    }
   ],
   "source": [
    "aux=list(map(lambda x:x.replace('o','0'),file))\n",
    "encoded=[(s,hashlib.sha256(s.encode()).hexdigest()) for s in aux]\n",
    "for s in tqdm(encoded):\n",
    "    if s[1] in encoded_passwords:\n",
    "        clear_psswords.append(s[0])\n",
    "        print(s)"
   ]
  },
  {
   "cell_type": "code",
   "execution_count": 29,
   "metadata": {},
   "outputs": [
    {
     "name": "stderr",
     "output_type": "stream",
     "text": [
      "  8%|▊         | 1085338/14344391 [00:05<00:44, 296975.89it/s]"
     ]
    },
    {
     "name": "stdout",
     "output_type": "stream",
     "text": [
      "('anjelle', '22f3760e093d6fed094a813052862cb94087eadf12e50644164afcfb7f39a389')\n"
     ]
    },
    {
     "name": "stderr",
     "output_type": "stream",
     "text": [
      " 18%|█▊        | 2511556/14344391 [00:10<00:24, 478301.71it/s]"
     ]
    },
    {
     "name": "stdout",
     "output_type": "stream",
     "text": [
      "('0816136020', '4a77f5050d6f9d834e4d90be76544635e81e69d4d96edaf5838b7b95e8ebf009')\n"
     ]
    },
    {
     "name": "stderr",
     "output_type": "stream",
     "text": [
      " 26%|██▋       | 3770983/14344391 [00:13<00:23, 458781.42it/s]"
     ]
    },
    {
     "name": "stdout",
     "output_type": "stream",
     "text": [
      "('slp8nxf7', 'c3c870ab62753f1d77aed96fc1e48532e156f5d638e37a00af1665dd1fbc55bf')\n"
     ]
    },
    {
     "name": "stderr",
     "output_type": "stream",
     "text": [
      " 52%|█████▏    | 7480981/14344391 [00:22<00:15, 435005.88it/s]"
     ]
    },
    {
     "name": "stdout",
     "output_type": "stream",
     "text": [
      "('1l0veedw4', 'aa9cdbcd558e71878909f228f13c22d1308ad441b7d979846d96dd6a343b90fa')\n"
     ]
    },
    {
     "name": "stderr",
     "output_type": "stream",
     "text": [
      " 54%|█████▎    | 7685178/14344391 [00:23<00:14, 458583.48it/s]"
     ]
    },
    {
     "name": "stdout",
     "output_type": "stream",
     "text": [
      "('heavy112', '0b8472e20358b7fa619c623f5a97b269fad0113bc025e9f0d1cac991f0a6d363')\n"
     ]
    },
    {
     "name": "stderr",
     "output_type": "stream",
     "text": [
      " 68%|██████▊   | 9741338/14344391 [00:28<00:10, 426919.15it/s]"
     ]
    },
    {
     "name": "stdout",
     "output_type": "stream",
     "text": [
      "('bere471', '0bd9a9e765b1228b65851010078b82c37628670a0c2d590e43b4d7b6b030a352')\n"
     ]
    },
    {
     "name": "stderr",
     "output_type": "stream",
     "text": [
      " 89%|████████▊ | 12697696/14344391 [00:35<00:04, 383796.94it/s]"
     ]
    },
    {
     "name": "stdout",
     "output_type": "stream",
     "text": [
      "('3006001742', 'dcf777db3031a5538111e853c1f76f5963388f3f320b9b7d4334b6fa6d5fc69e')\n"
     ]
    },
    {
     "name": "stderr",
     "output_type": "stream",
     "text": [
      "100%|██████████| 14344391/14344391 [00:39<00:00, 365246.20it/s]\n"
     ]
    }
   ],
   "source": [
    "#aux=list(map(lambda x:x.title(),file))\n",
    "#aux=list(map(lambda x:x.replace('e','3'),aux))\n",
    "aux=list(map(lambda x:x.replace('o','0'),file))\n",
    "aux=list(map(lambda x:x.replace('i','1'),aux))\n",
    "encoded=[(s,hashlib.sha256(s.encode()).hexdigest()) for s in aux]\n",
    "for s in tqdm(encoded):\n",
    "    if s[1] in encoded_passwords:\n",
    "        clear_psswords.append(s[0])\n",
    "        print(s)"
   ]
  },
  {
   "cell_type": "code",
   "execution_count": 26,
   "metadata": {},
   "outputs": [
    {
     "name": "stdout",
     "output_type": "stream",
     "text": [
      "{'heavy112', '0816136020', 'slp8nxf7', '3006001742', 'R3dx3r', 'anjelle', 'bere471', '3Gen2004'}\n"
     ]
    }
   ],
   "source": [
    "print(set(clear_psswords))"
   ]
  },
  {
   "cell_type": "code",
   "execution_count": null,
   "metadata": {},
   "outputs": [],
   "source": []
  }
 ],
 "metadata": {
  "kernelspec": {
   "display_name": "Python 3",
   "language": "python",
   "name": "python3"
  },
  "language_info": {
   "codemirror_mode": {
    "name": "ipython",
    "version": 3
   },
   "file_extension": ".py",
   "mimetype": "text/x-python",
   "name": "python",
   "nbconvert_exporter": "python",
   "pygments_lexer": "ipython3",
   "version": "3.7.1"
  }
 },
 "nbformat": 4,
 "nbformat_minor": 2
}
