{
 "cells": [
  {
   "cell_type": "markdown",
   "metadata": {},
   "source": [
    "# DSFB Assignment 1"
   ]
  },
  {
   "cell_type": "markdown",
   "metadata": {},
   "source": [
    "In this assignment, you will work with data, examine distributions of some variables, and make some simple predictions. These basic operations are important in any data science project. \n",
    "\n",
    "[Pandas](https://pandas.pydata.org/) is a Python package built for data analysis. It includes many useful functions, including one to read comma-separated (.csv) files. We will use this package as it's both easy to use and very powerful.\n",
    "\n",
    "First, we need to import Pandas. As you will be learning (or already know), popular Python packages have common abbreviates. These abbreviations are used as a short-hand for that package throughout a Python script. Some of these common abbreviations include:\n",
    "\n",
    "- `import pandas as pd`\n",
    "- `import numpy as np`\n",
    "- `import tensorflow as tf`\n",
    "- etc.\n",
    "\n",
    "Second, we can call any function in the Pandas package as `pd.someFunction`. The `pd` keyword is reserved for Pandas and must not be used by any other variable. \n",
    "\n",
    "Third, `import` statements are generally located at the top of a script, even though they might only be used at a later stage.\n",
    "\n",
    "Finally, do not hesitate to search the [Pandas documentation](https://pandas.pydata.org/pandas-docs/stable/) for help.\n"
   ]
  },
  {
   "cell_type": "code",
   "execution_count": 1,
   "metadata": {},
   "outputs": [],
   "source": [
    "import os\n",
    "\n",
    "from math import log\n",
    " \n",
    "import numpy as np    \n",
    "import pandas as pd\n",
    "\n",
    "import matplotlib.pyplot as plt\n",
    "\n",
    "from sklearn.linear_model import LinearRegression\n",
    "from sklearn.linear_model import LogisticRegression\n",
    "\n",
    "\n",
    "import matplotlib\n",
    "import matplotlib.pyplot as plt\n",
    "%matplotlib inline\n",
    "\n",
    "import seaborn as sns\n",
    "\n",
    "from scipy.stats import lognorm\n",
    "from scipy.stats import gamma\n",
    "from scipy.stats import beta\n",
    "from scipy.special import expit"
   ]
  },
  {
   "cell_type": "markdown",
   "metadata": {},
   "source": [
    "# PART 1: WORK WITH A TAB-SEPARATED TEXT FILE\n",
    "\n",
    "In this section, you will load in a plain text file where columns have been separated by a tab character. The tab character is represented in code as the: `\\t` symbol.   \n",
    "\n",
    "Tab separated data is typical for government data or legacy data coming out of old mainframe systems.  \n",
    "\n",
    "We will us data from the US Patent Office (USPTO). The file contains two columns:\n",
    "\n",
    "- id: patent sub-class id\n",
    "- title: patent sub-class title"
   ]
  },
  {
   "cell_type": "markdown",
   "metadata": {},
   "source": [
    "**PROBLEM**: Open and read in the `USPTOsubclasses.txt` file using the native Python `open()` command."
   ]
  },
  {
   "cell_type": "code",
   "execution_count": 2,
   "metadata": {},
   "outputs": [
    {
     "data": {
      "text/plain": [
       "'id\\ttitle\\n-0T/74\\tNULL\\n01L/294.8\\tNULL\\n01L/298.8\\tNULL\\n01L/299.0\\tNULL\\n1/1\\tUnclassified\\n100/1\\tBINDING\\n100'"
      ]
     },
     "execution_count": 2,
     "metadata": {},
     "output_type": "execute_result"
    }
   ],
   "source": [
    "# open the .txt file\n",
    "file = open(\"data/USPTOsubclasses.txt\",\"r\")\n",
    "data = file.read()\n",
    "data[:100]"
   ]
  },
  {
   "cell_type": "markdown",
   "metadata": {},
   "source": [
    "**PROBLEM**: Make a list of lists. First, split the data by line, and the split it again by column. "
   ]
  },
  {
   "cell_type": "code",
   "execution_count": 3,
   "metadata": {},
   "outputs": [
    {
     "data": {
      "text/plain": [
       "['id\\ttitle',\n",
       " '-0T/74\\tNULL',\n",
       " '01L/294.8\\tNULL',\n",
       " '01L/298.8\\tNULL',\n",
       " '01L/299.0\\tNULL']"
      ]
     },
     "execution_count": 3,
     "metadata": {},
     "output_type": "execute_result"
    }
   ],
   "source": [
    "# split the raw text by the new line character \"\\n\" )\n",
    "data = data.split(\"\\n\") \n",
    "data[:5]"
   ]
  },
  {
   "cell_type": "code",
   "execution_count": 4,
   "metadata": {},
   "outputs": [
    {
     "data": {
      "text/plain": [
       "[['id', 'title'],\n",
       " ['-0T/74', 'NULL'],\n",
       " ['01L/294.8', 'NULL'],\n",
       " ['01L/298.8', 'NULL'],\n",
       " ['01L/299.0', 'NULL'],\n",
       " ['1/1', 'Unclassified'],\n",
       " ['100/1', 'BINDING'],\n",
       " ['100/10', 'With precutting of binder to length'],\n",
       " ['100/10.*1', 'WITH ADDITIONAL TREATMENT OF MATERIAL (100/70 R)'],\n",
       " ['100/100', 'WITH GROUND']]"
      ]
     },
     "execution_count": 4,
     "metadata": {},
     "output_type": "execute_result"
    }
   ],
   "source": [
    "# create a \"list of lists\" \n",
    "#   each entry in the \"outer\" list is a row from the file; \n",
    "#   each row can be split into an \"inner\" list of tab-separated columns\n",
    "data = [x.split(\"\\t\") for x in data]\n",
    "data[:10]"
   ]
  },
  {
   "cell_type": "code",
   "execution_count": 5,
   "metadata": {},
   "outputs": [],
   "source": [
    "#what's the sub-class \"1/1\" called?  hint: look at first 10 elements of your list..."
   ]
  },
  {
   "cell_type": "markdown",
   "metadata": {},
   "source": [
    "The class '1/1' represents missing data."
   ]
  },
  {
   "cell_type": "markdown",
   "metadata": {},
   "source": [
    "**PROBLEM**: Turn the data into a Pandas dataframe and draw a random sample of 5 rows. "
   ]
  },
  {
   "cell_type": "code",
   "execution_count": 6,
   "metadata": {},
   "outputs": [],
   "source": [
    "# Hint: remember to split the header row from the data. It will be the first element in your list of lists\n",
    "data = data[1:]\n",
    "\n",
    "# move data into a Pandas dataframe for easier manipulation\n",
    "dataframe = pd.DataFrame(data[1:],columns=[\"ID\",\"Title\"])"
   ]
  },
  {
   "cell_type": "code",
   "execution_count": 7,
   "metadata": {},
   "outputs": [
    {
     "data": {
      "text/html": [
       "<div>\n",
       "<style scoped>\n",
       "    .dataframe tbody tr th:only-of-type {\n",
       "        vertical-align: middle;\n",
       "    }\n",
       "\n",
       "    .dataframe tbody tr th {\n",
       "        vertical-align: top;\n",
       "    }\n",
       "\n",
       "    .dataframe thead th {\n",
       "        text-align: right;\n",
       "    }\n",
       "</style>\n",
       "<table border=\"1\" class=\"dataframe\">\n",
       "  <thead>\n",
       "    <tr style=\"text-align: right;\">\n",
       "      <th></th>\n",
       "      <th>ID</th>\n",
       "      <th>Title</th>\n",
       "    </tr>\n",
       "  </thead>\n",
       "  <tbody>\n",
       "    <tr>\n",
       "      <td>0</td>\n",
       "      <td>01L/294.8</td>\n",
       "      <td>NULL</td>\n",
       "    </tr>\n",
       "    <tr>\n",
       "      <td>1</td>\n",
       "      <td>01L/298.8</td>\n",
       "      <td>NULL</td>\n",
       "    </tr>\n",
       "    <tr>\n",
       "      <td>2</td>\n",
       "      <td>01L/299.0</td>\n",
       "      <td>NULL</td>\n",
       "    </tr>\n",
       "    <tr>\n",
       "      <td>3</td>\n",
       "      <td>1/1</td>\n",
       "      <td>Unclassified</td>\n",
       "    </tr>\n",
       "    <tr>\n",
       "      <td>4</td>\n",
       "      <td>100/1</td>\n",
       "      <td>BINDING</td>\n",
       "    </tr>\n",
       "  </tbody>\n",
       "</table>\n",
       "</div>"
      ],
      "text/plain": [
       "          ID         Title\n",
       "0  01L/294.8          NULL\n",
       "1  01L/298.8          NULL\n",
       "2  01L/299.0          NULL\n",
       "3        1/1  Unclassified\n",
       "4      100/1       BINDING"
      ]
     },
     "execution_count": 7,
     "metadata": {},
     "output_type": "execute_result"
    }
   ],
   "source": [
    "# look at the dataframe\n",
    "dataframe.head()"
   ]
  },
  {
   "cell_type": "markdown",
   "metadata": {},
   "source": [
    "# PART 2: WORK WITH A CSV FILE IN PANDAS\n",
    "\n",
    "In this section, we load data from the `data/epfl.csv` file into a pandas dataframe.  \n",
    "\n",
    "The CSV file contains the courses offered at EPFL with the following two columns: \n",
    "\n",
    "  - course: full course name\n",
    "  - code: course code, including field of study\n"
   ]
  },
  {
   "cell_type": "markdown",
   "metadata": {},
   "source": [
    "**PROBLEM**: Load the data from `data/epfl.csv` into a Pandas dataframe."
   ]
  },
  {
   "cell_type": "code",
   "execution_count": 8,
   "metadata": {},
   "outputs": [],
   "source": [
    "# load the CSV \n",
    "epfl_data = pd.read_csv(\"data/epfl.csv\")"
   ]
  },
  {
   "cell_type": "code",
   "execution_count": 9,
   "metadata": {},
   "outputs": [
    {
     "data": {
      "text/plain": [
       "(1758, 2)"
      ]
     },
     "execution_count": 9,
     "metadata": {},
     "output_type": "execute_result"
    }
   ],
   "source": [
    "# look at the number of rows and columns (i.e., the shape)\n",
    "epfl_data.shape"
   ]
  },
  {
   "cell_type": "markdown",
   "metadata": {},
   "source": [
    "**PROBLEM**: Look at the data."
   ]
  },
  {
   "cell_type": "code",
   "execution_count": 10,
   "metadata": {},
   "outputs": [
    {
     "data": {
      "text/html": [
       "<div>\n",
       "<style scoped>\n",
       "    .dataframe tbody tr th:only-of-type {\n",
       "        vertical-align: middle;\n",
       "    }\n",
       "\n",
       "    .dataframe tbody tr th {\n",
       "        vertical-align: top;\n",
       "    }\n",
       "\n",
       "    .dataframe thead th {\n",
       "        text-align: right;\n",
       "    }\n",
       "</style>\n",
       "<table border=\"1\" class=\"dataframe\">\n",
       "  <thead>\n",
       "    <tr style=\"text-align: right;\">\n",
       "      <th></th>\n",
       "      <th>course</th>\n",
       "      <th>code</th>\n",
       "    </tr>\n",
       "  </thead>\n",
       "  <tbody>\n",
       "    <tr>\n",
       "      <td>0</td>\n",
       "      <td>Accounting for finance</td>\n",
       "      <td>FIN-411</td>\n",
       "    </tr>\n",
       "    <tr>\n",
       "      <td>1</td>\n",
       "      <td>Advanced algorithms</td>\n",
       "      <td>CS-450</td>\n",
       "    </tr>\n",
       "    <tr>\n",
       "      <td>2</td>\n",
       "      <td>Advanced analog and rf integrated circuits des...</td>\n",
       "      <td>EE-520</td>\n",
       "    </tr>\n",
       "    <tr>\n",
       "      <td>3</td>\n",
       "      <td>Advanced analog and rf integrated circuits des...</td>\n",
       "      <td>EE-521</td>\n",
       "    </tr>\n",
       "    <tr>\n",
       "      <td>4</td>\n",
       "      <td>Advanced analysis i</td>\n",
       "      <td>MATH-400</td>\n",
       "    </tr>\n",
       "  </tbody>\n",
       "</table>\n",
       "</div>"
      ],
      "text/plain": [
       "                                              course      code\n",
       "0                             Accounting for finance   FIN-411\n",
       "1                                Advanced algorithms    CS-450\n",
       "2  Advanced analog and rf integrated circuits des...    EE-520\n",
       "3  Advanced analog and rf integrated circuits des...    EE-521\n",
       "4                                Advanced analysis i  MATH-400"
      ]
     },
     "execution_count": 10,
     "metadata": {},
     "output_type": "execute_result"
    }
   ],
   "source": [
    "# look at the first 5 rows\n",
    "epfl_data[:5]"
   ]
  },
  {
   "cell_type": "code",
   "execution_count": 11,
   "metadata": {},
   "outputs": [
    {
     "data": {
      "text/html": [
       "<div>\n",
       "<style scoped>\n",
       "    .dataframe tbody tr th:only-of-type {\n",
       "        vertical-align: middle;\n",
       "    }\n",
       "\n",
       "    .dataframe tbody tr th {\n",
       "        vertical-align: top;\n",
       "    }\n",
       "\n",
       "    .dataframe thead th {\n",
       "        text-align: right;\n",
       "    }\n",
       "</style>\n",
       "<table border=\"1\" class=\"dataframe\">\n",
       "  <thead>\n",
       "    <tr style=\"text-align: right;\">\n",
       "      <th></th>\n",
       "      <th>course</th>\n",
       "      <th>code</th>\n",
       "    </tr>\n",
       "  </thead>\n",
       "  <tbody>\n",
       "    <tr>\n",
       "      <td>1753</td>\n",
       "      <td>Water resources engineering</td>\n",
       "      <td>ENV-424</td>\n",
       "    </tr>\n",
       "    <tr>\n",
       "      <td>1754</td>\n",
       "      <td>Wave propagation along transmission lines</td>\n",
       "      <td>EE-575</td>\n",
       "    </tr>\n",
       "    <tr>\n",
       "      <td>1755</td>\n",
       "      <td>Wind energy</td>\n",
       "      <td>ETH-432</td>\n",
       "    </tr>\n",
       "    <tr>\n",
       "      <td>1756</td>\n",
       "      <td>Wireless receivers: algorithms and architectures</td>\n",
       "      <td>EE-442</td>\n",
       "    </tr>\n",
       "    <tr>\n",
       "      <td>1757</td>\n",
       "      <td>Wood structures, properties and uses</td>\n",
       "      <td>MSE-466</td>\n",
       "    </tr>\n",
       "  </tbody>\n",
       "</table>\n",
       "</div>"
      ],
      "text/plain": [
       "                                                course     code\n",
       "1753                       Water resources engineering  ENV-424\n",
       "1754         Wave propagation along transmission lines   EE-575\n",
       "1755                                       Wind energy  ETH-432\n",
       "1756  Wireless receivers: algorithms and architectures   EE-442\n",
       "1757              Wood structures, properties and uses  MSE-466"
      ]
     },
     "execution_count": 11,
     "metadata": {},
     "output_type": "execute_result"
    }
   ],
   "source": [
    "# look at the last 5 rows\n",
    "epfl_data.tail(5)"
   ]
  },
  {
   "cell_type": "code",
   "execution_count": 12,
   "metadata": {},
   "outputs": [
    {
     "data": {
      "text/html": [
       "<div>\n",
       "<style scoped>\n",
       "    .dataframe tbody tr th:only-of-type {\n",
       "        vertical-align: middle;\n",
       "    }\n",
       "\n",
       "    .dataframe tbody tr th {\n",
       "        vertical-align: top;\n",
       "    }\n",
       "\n",
       "    .dataframe thead th {\n",
       "        text-align: right;\n",
       "    }\n",
       "</style>\n",
       "<table border=\"1\" class=\"dataframe\">\n",
       "  <thead>\n",
       "    <tr style=\"text-align: right;\">\n",
       "      <th></th>\n",
       "      <th>course</th>\n",
       "      <th>code</th>\n",
       "    </tr>\n",
       "  </thead>\n",
       "  <tbody>\n",
       "    <tr>\n",
       "      <td>648</td>\n",
       "      <td>Histoire de l'architecture ii</td>\n",
       "      <td>AR-124</td>\n",
       "    </tr>\n",
       "    <tr>\n",
       "      <td>776</td>\n",
       "      <td>Introduction to chemical engineering</td>\n",
       "      <td>ChE-201</td>\n",
       "    </tr>\n",
       "    <tr>\n",
       "      <td>933</td>\n",
       "      <td>Mèditerranèe: grands textes et mythes fondateu...</td>\n",
       "      <td>HUM-237</td>\n",
       "    </tr>\n",
       "    <tr>\n",
       "      <td>1382</td>\n",
       "      <td>Safety of chemical processes</td>\n",
       "      <td>ENG-431</td>\n",
       "    </tr>\n",
       "    <tr>\n",
       "      <td>1718</td>\n",
       "      <td>Ue c : architecture et archèologie</td>\n",
       "      <td>AR-420</td>\n",
       "    </tr>\n",
       "  </tbody>\n",
       "</table>\n",
       "</div>"
      ],
      "text/plain": [
       "                                                 course     code\n",
       "648                       Histoire de l'architecture ii   AR-124\n",
       "776                Introduction to chemical engineering  ChE-201\n",
       "933   Mèditerranèe: grands textes et mythes fondateu...  HUM-237\n",
       "1382                       Safety of chemical processes  ENG-431\n",
       "1718                 Ue c : architecture et archèologie   AR-420"
      ]
     },
     "execution_count": 12,
     "metadata": {},
     "output_type": "execute_result"
    }
   ],
   "source": [
    "# look at a random sample of 5 rows\n",
    "epfl_data.sample(5)"
   ]
  },
  {
   "cell_type": "markdown",
   "metadata": {},
   "source": [
    "## Create a new column: \" `field` \" \n",
    "\n",
    "The next set of problems are intended to extract the field code (e.g.: CS, EE, MATH) from the course code column and put it in a new column called `field`."
   ]
  },
  {
   "cell_type": "markdown",
   "metadata": {},
   "source": [
    "**PROBLEM**: Create a new column called `field` and fill it with zeros."
   ]
  },
  {
   "cell_type": "code",
   "execution_count": 13,
   "metadata": {},
   "outputs": [
    {
     "data": {
      "text/html": [
       "<div>\n",
       "<style scoped>\n",
       "    .dataframe tbody tr th:only-of-type {\n",
       "        vertical-align: middle;\n",
       "    }\n",
       "\n",
       "    .dataframe tbody tr th {\n",
       "        vertical-align: top;\n",
       "    }\n",
       "\n",
       "    .dataframe thead th {\n",
       "        text-align: right;\n",
       "    }\n",
       "</style>\n",
       "<table border=\"1\" class=\"dataframe\">\n",
       "  <thead>\n",
       "    <tr style=\"text-align: right;\">\n",
       "      <th></th>\n",
       "      <th>course</th>\n",
       "      <th>code</th>\n",
       "      <th>field</th>\n",
       "    </tr>\n",
       "  </thead>\n",
       "  <tbody>\n",
       "    <tr>\n",
       "      <td>0</td>\n",
       "      <td>Accounting for finance</td>\n",
       "      <td>FIN-411</td>\n",
       "      <td>NaN</td>\n",
       "    </tr>\n",
       "    <tr>\n",
       "      <td>1</td>\n",
       "      <td>Advanced algorithms</td>\n",
       "      <td>CS-450</td>\n",
       "      <td>NaN</td>\n",
       "    </tr>\n",
       "    <tr>\n",
       "      <td>2</td>\n",
       "      <td>Advanced analog and rf integrated circuits des...</td>\n",
       "      <td>EE-520</td>\n",
       "      <td>NaN</td>\n",
       "    </tr>\n",
       "    <tr>\n",
       "      <td>3</td>\n",
       "      <td>Advanced analog and rf integrated circuits des...</td>\n",
       "      <td>EE-521</td>\n",
       "      <td>NaN</td>\n",
       "    </tr>\n",
       "    <tr>\n",
       "      <td>4</td>\n",
       "      <td>Advanced analysis i</td>\n",
       "      <td>MATH-400</td>\n",
       "      <td>NaN</td>\n",
       "    </tr>\n",
       "    <tr>\n",
       "      <td>...</td>\n",
       "      <td>...</td>\n",
       "      <td>...</td>\n",
       "      <td>...</td>\n",
       "    </tr>\n",
       "    <tr>\n",
       "      <td>1753</td>\n",
       "      <td>Water resources engineering</td>\n",
       "      <td>ENV-424</td>\n",
       "      <td>NaN</td>\n",
       "    </tr>\n",
       "    <tr>\n",
       "      <td>1754</td>\n",
       "      <td>Wave propagation along transmission lines</td>\n",
       "      <td>EE-575</td>\n",
       "      <td>NaN</td>\n",
       "    </tr>\n",
       "    <tr>\n",
       "      <td>1755</td>\n",
       "      <td>Wind energy</td>\n",
       "      <td>ETH-432</td>\n",
       "      <td>NaN</td>\n",
       "    </tr>\n",
       "    <tr>\n",
       "      <td>1756</td>\n",
       "      <td>Wireless receivers: algorithms and architectures</td>\n",
       "      <td>EE-442</td>\n",
       "      <td>NaN</td>\n",
       "    </tr>\n",
       "    <tr>\n",
       "      <td>1757</td>\n",
       "      <td>Wood structures, properties and uses</td>\n",
       "      <td>MSE-466</td>\n",
       "      <td>NaN</td>\n",
       "    </tr>\n",
       "  </tbody>\n",
       "</table>\n",
       "<p>1758 rows × 3 columns</p>\n",
       "</div>"
      ],
      "text/plain": [
       "                                                 course      code  field\n",
       "0                                Accounting for finance   FIN-411    NaN\n",
       "1                                   Advanced algorithms    CS-450    NaN\n",
       "2     Advanced analog and rf integrated circuits des...    EE-520    NaN\n",
       "3     Advanced analog and rf integrated circuits des...    EE-521    NaN\n",
       "4                                   Advanced analysis i  MATH-400    NaN\n",
       "...                                                 ...       ...    ...\n",
       "1753                        Water resources engineering   ENV-424    NaN\n",
       "1754          Wave propagation along transmission lines    EE-575    NaN\n",
       "1755                                        Wind energy   ETH-432    NaN\n",
       "1756   Wireless receivers: algorithms and architectures    EE-442    NaN\n",
       "1757               Wood structures, properties and uses   MSE-466    NaN\n",
       "\n",
       "[1758 rows x 3 columns]"
      ]
     },
     "execution_count": 13,
     "metadata": {},
     "output_type": "execute_result"
    }
   ],
   "source": [
    "# create a dummy column called 'field' filled with a marker to indicate the value is currently missing\n",
    "#   hint: the numpy package defines a special value called NaN to indicate Not a Number... \n",
    "#         so set the new column to `np.nan`\n",
    "epfl_data['field']=np.NaN\n",
    "epfl_data"
   ]
  },
  {
   "cell_type": "markdown",
   "metadata": {},
   "source": [
    "**PROBLEM**: Fill the new column with the field of the course. What symbol do you split on?"
   ]
  },
  {
   "cell_type": "code",
   "execution_count": 14,
   "metadata": {},
   "outputs": [
    {
     "data": {
      "text/plain": [
       "0        FIN-411\n",
       "1         CS-450\n",
       "2         EE-520\n",
       "3         EE-521\n",
       "4       MATH-400\n",
       "          ...   \n",
       "1753     ENV-424\n",
       "1754      EE-575\n",
       "1755     ETH-432\n",
       "1756      EE-442\n",
       "1757     MSE-466\n",
       "Name: code, Length: 1758, dtype: object"
      ]
     },
     "execution_count": 14,
     "metadata": {},
     "output_type": "execute_result"
    }
   ],
   "source": [
    "epfl_data['code']"
   ]
  },
  {
   "cell_type": "code",
   "execution_count": 15,
   "metadata": {},
   "outputs": [
    {
     "data": {
      "text/html": [
       "<div>\n",
       "<style scoped>\n",
       "    .dataframe tbody tr th:only-of-type {\n",
       "        vertical-align: middle;\n",
       "    }\n",
       "\n",
       "    .dataframe tbody tr th {\n",
       "        vertical-align: top;\n",
       "    }\n",
       "\n",
       "    .dataframe thead th {\n",
       "        text-align: right;\n",
       "    }\n",
       "</style>\n",
       "<table border=\"1\" class=\"dataframe\">\n",
       "  <thead>\n",
       "    <tr style=\"text-align: right;\">\n",
       "      <th></th>\n",
       "      <th>course</th>\n",
       "      <th>code</th>\n",
       "      <th>field</th>\n",
       "    </tr>\n",
       "  </thead>\n",
       "  <tbody>\n",
       "    <tr>\n",
       "      <td>0</td>\n",
       "      <td>Accounting for finance</td>\n",
       "      <td>411</td>\n",
       "      <td>FIN</td>\n",
       "    </tr>\n",
       "    <tr>\n",
       "      <td>1</td>\n",
       "      <td>Advanced algorithms</td>\n",
       "      <td>450</td>\n",
       "      <td>CS</td>\n",
       "    </tr>\n",
       "    <tr>\n",
       "      <td>2</td>\n",
       "      <td>Advanced analog and rf integrated circuits des...</td>\n",
       "      <td>520</td>\n",
       "      <td>EE</td>\n",
       "    </tr>\n",
       "    <tr>\n",
       "      <td>3</td>\n",
       "      <td>Advanced analog and rf integrated circuits des...</td>\n",
       "      <td>521</td>\n",
       "      <td>EE</td>\n",
       "    </tr>\n",
       "    <tr>\n",
       "      <td>4</td>\n",
       "      <td>Advanced analysis i</td>\n",
       "      <td>400</td>\n",
       "      <td>MATH</td>\n",
       "    </tr>\n",
       "    <tr>\n",
       "      <td>...</td>\n",
       "      <td>...</td>\n",
       "      <td>...</td>\n",
       "      <td>...</td>\n",
       "    </tr>\n",
       "    <tr>\n",
       "      <td>1753</td>\n",
       "      <td>Water resources engineering</td>\n",
       "      <td>424</td>\n",
       "      <td>ENV</td>\n",
       "    </tr>\n",
       "    <tr>\n",
       "      <td>1754</td>\n",
       "      <td>Wave propagation along transmission lines</td>\n",
       "      <td>575</td>\n",
       "      <td>EE</td>\n",
       "    </tr>\n",
       "    <tr>\n",
       "      <td>1755</td>\n",
       "      <td>Wind energy</td>\n",
       "      <td>432</td>\n",
       "      <td>ETH</td>\n",
       "    </tr>\n",
       "    <tr>\n",
       "      <td>1756</td>\n",
       "      <td>Wireless receivers: algorithms and architectures</td>\n",
       "      <td>442</td>\n",
       "      <td>EE</td>\n",
       "    </tr>\n",
       "    <tr>\n",
       "      <td>1757</td>\n",
       "      <td>Wood structures, properties and uses</td>\n",
       "      <td>466</td>\n",
       "      <td>MSE</td>\n",
       "    </tr>\n",
       "  </tbody>\n",
       "</table>\n",
       "<p>1758 rows × 3 columns</p>\n",
       "</div>"
      ],
      "text/plain": [
       "                                                 course code field\n",
       "0                                Accounting for finance  411   FIN\n",
       "1                                   Advanced algorithms  450    CS\n",
       "2     Advanced analog and rf integrated circuits des...  520    EE\n",
       "3     Advanced analog and rf integrated circuits des...  521    EE\n",
       "4                                   Advanced analysis i  400  MATH\n",
       "...                                                 ...  ...   ...\n",
       "1753                        Water resources engineering  424   ENV\n",
       "1754          Wave propagation along transmission lines  575    EE\n",
       "1755                                        Wind energy  432   ETH\n",
       "1756   Wireless receivers: algorithms and architectures  442    EE\n",
       "1757               Wood structures, properties and uses  466   MSE\n",
       "\n",
       "[1758 rows x 3 columns]"
      ]
     },
     "execution_count": 15,
     "metadata": {},
     "output_type": "execute_result"
    }
   ],
   "source": [
    "# fill the 'field' column with the split code\n",
    "epfl_data[['field','code']] = epfl_data['code'].str.split('-',expand=True)\n",
    "epfl_data"
   ]
  },
  {
   "cell_type": "code",
   "execution_count": 16,
   "metadata": {},
   "outputs": [
    {
     "data": {
      "text/html": [
       "<div>\n",
       "<style scoped>\n",
       "    .dataframe tbody tr th:only-of-type {\n",
       "        vertical-align: middle;\n",
       "    }\n",
       "\n",
       "    .dataframe tbody tr th {\n",
       "        vertical-align: top;\n",
       "    }\n",
       "\n",
       "    .dataframe thead th {\n",
       "        text-align: right;\n",
       "    }\n",
       "</style>\n",
       "<table border=\"1\" class=\"dataframe\">\n",
       "  <thead>\n",
       "    <tr style=\"text-align: right;\">\n",
       "      <th></th>\n",
       "      <th>course</th>\n",
       "      <th>code</th>\n",
       "    </tr>\n",
       "    <tr>\n",
       "      <th>field</th>\n",
       "      <th></th>\n",
       "      <th></th>\n",
       "    </tr>\n",
       "  </thead>\n",
       "  <tbody>\n",
       "    <tr>\n",
       "      <td>AR</td>\n",
       "      <td>Architecture and existing buildings</td>\n",
       "      <td>424(b)</td>\n",
       "    </tr>\n",
       "    <tr>\n",
       "      <td>BIO</td>\n",
       "      <td>Biological chemistry ii (for sv)</td>\n",
       "      <td>212</td>\n",
       "    </tr>\n",
       "    <tr>\n",
       "      <td>BIOENG</td>\n",
       "      <td>Advanced bioengineering methods laboratory</td>\n",
       "      <td>444</td>\n",
       "    </tr>\n",
       "    <tr>\n",
       "      <td>CH</td>\n",
       "      <td>Advanced materials for photovoltaics and lighting</td>\n",
       "      <td>447</td>\n",
       "    </tr>\n",
       "    <tr>\n",
       "      <td>CIVIL</td>\n",
       "      <td>Advanced composites in engineering structures</td>\n",
       "      <td>443</td>\n",
       "    </tr>\n",
       "    <tr>\n",
       "      <td>COM</td>\n",
       "      <td>Advanced cryptography</td>\n",
       "      <td>501</td>\n",
       "    </tr>\n",
       "    <tr>\n",
       "      <td>CS</td>\n",
       "      <td>Advanced algorithms</td>\n",
       "      <td>450</td>\n",
       "    </tr>\n",
       "    <tr>\n",
       "      <td>ChE</td>\n",
       "      <td>Advanced diffusional separation processes</td>\n",
       "      <td>402</td>\n",
       "    </tr>\n",
       "    <tr>\n",
       "      <td>DH</td>\n",
       "      <td>Data corpora</td>\n",
       "      <td>401</td>\n",
       "    </tr>\n",
       "    <tr>\n",
       "      <td>EE</td>\n",
       "      <td>Advanced analog and rf integrated circuits des...</td>\n",
       "      <td>520</td>\n",
       "    </tr>\n",
       "    <tr>\n",
       "      <td>ENG</td>\n",
       "      <td>Chemistry of food processes</td>\n",
       "      <td>435</td>\n",
       "    </tr>\n",
       "    <tr>\n",
       "      <td>ENV</td>\n",
       "      <td>Advanced satellite positioning</td>\n",
       "      <td>542</td>\n",
       "    </tr>\n",
       "    <tr>\n",
       "      <td>EPFL</td>\n",
       "      <td>Projet de master pour ètudiant venant en èchan...</td>\n",
       "      <td>401</td>\n",
       "    </tr>\n",
       "    <tr>\n",
       "      <td>ETH</td>\n",
       "      <td>Advanced techniques for the risk analysis of t...</td>\n",
       "      <td>441</td>\n",
       "    </tr>\n",
       "    <tr>\n",
       "      <td>FIN</td>\n",
       "      <td>Accounting for finance</td>\n",
       "      <td>411</td>\n",
       "    </tr>\n",
       "    <tr>\n",
       "      <td>HEP</td>\n",
       "      <td>Altèritès et intègrations</td>\n",
       "      <td>401</td>\n",
       "    </tr>\n",
       "    <tr>\n",
       "      <td>HUM</td>\n",
       "      <td>Afrique contemporaine</td>\n",
       "      <td>261</td>\n",
       "    </tr>\n",
       "    <tr>\n",
       "      <td>MATH</td>\n",
       "      <td>Advanced analysis i</td>\n",
       "      <td>400</td>\n",
       "    </tr>\n",
       "    <tr>\n",
       "      <td>ME</td>\n",
       "      <td>Advanced control systems</td>\n",
       "      <td>524</td>\n",
       "    </tr>\n",
       "    <tr>\n",
       "      <td>MGT</td>\n",
       "      <td>Applied corporate &amp; industry analysis (mte mas...</td>\n",
       "      <td>410</td>\n",
       "    </tr>\n",
       "    <tr>\n",
       "      <td>MICRO</td>\n",
       "      <td>Advanced machine learning</td>\n",
       "      <td>570</td>\n",
       "    </tr>\n",
       "    <tr>\n",
       "      <td>MSE</td>\n",
       "      <td>Advanced metallurgy</td>\n",
       "      <td>422</td>\n",
       "    </tr>\n",
       "    <tr>\n",
       "      <td>PENS</td>\n",
       "      <td>Architecture &amp; ènergie solaire</td>\n",
       "      <td>301</td>\n",
       "    </tr>\n",
       "    <tr>\n",
       "      <td>PHYS</td>\n",
       "      <td>Astrophysics iii : stellar and galactic dynamics</td>\n",
       "      <td>401</td>\n",
       "    </tr>\n",
       "    <tr>\n",
       "      <td>PREPA</td>\n",
       "      <td>Algëbre linèaire (pour cms)</td>\n",
       "      <td>001</td>\n",
       "    </tr>\n",
       "  </tbody>\n",
       "</table>\n",
       "</div>"
      ],
      "text/plain": [
       "                                                   course    code\n",
       "field                                                            \n",
       "AR                    Architecture and existing buildings  424(b)\n",
       "BIO                      Biological chemistry ii (for sv)     212\n",
       "BIOENG         Advanced bioengineering methods laboratory     444\n",
       "CH      Advanced materials for photovoltaics and lighting     447\n",
       "CIVIL       Advanced composites in engineering structures     443\n",
       "COM                                 Advanced cryptography     501\n",
       "CS                                    Advanced algorithms     450\n",
       "ChE             Advanced diffusional separation processes     402\n",
       "DH                                           Data corpora     401\n",
       "EE      Advanced analog and rf integrated circuits des...     520\n",
       "ENG                           Chemistry of food processes     435\n",
       "ENV                        Advanced satellite positioning     542\n",
       "EPFL    Projet de master pour ètudiant venant en èchan...     401\n",
       "ETH     Advanced techniques for the risk analysis of t...     441\n",
       "FIN                                Accounting for finance     411\n",
       "HEP                             Altèritès et intègrations     401\n",
       "HUM                                 Afrique contemporaine     261\n",
       "MATH                                  Advanced analysis i     400\n",
       "ME                               Advanced control systems     524\n",
       "MGT     Applied corporate & industry analysis (mte mas...     410\n",
       "MICRO                           Advanced machine learning     570\n",
       "MSE                                   Advanced metallurgy     422\n",
       "PENS                       Architecture & ènergie solaire     301\n",
       "PHYS     Astrophysics iii : stellar and galactic dynamics     401\n",
       "PREPA                         Algëbre linèaire (pour cms)     001"
      ]
     },
     "execution_count": 16,
     "metadata": {},
     "output_type": "execute_result"
    }
   ],
   "source": [
    "# select the first list element (index 0) for each field entry\n",
    "epfl_data.groupby(['field']).first()"
   ]
  },
  {
   "cell_type": "markdown",
   "metadata": {},
   "source": [
    "## Now clean the dataset, find missing fields, and remove those entries."
   ]
  },
  {
   "cell_type": "markdown",
   "metadata": {},
   "source": [
    "**PROBLEM**: Look at some examples where a value for `field` is missing. What's a course without a code/field?"
   ]
  },
  {
   "cell_type": "code",
   "execution_count": 17,
   "metadata": {},
   "outputs": [
    {
     "data": {
      "text/html": [
       "<div>\n",
       "<style scoped>\n",
       "    .dataframe tbody tr th:only-of-type {\n",
       "        vertical-align: middle;\n",
       "    }\n",
       "\n",
       "    .dataframe tbody tr th {\n",
       "        vertical-align: top;\n",
       "    }\n",
       "\n",
       "    .dataframe thead th {\n",
       "        text-align: right;\n",
       "    }\n",
       "</style>\n",
       "<table border=\"1\" class=\"dataframe\">\n",
       "  <thead>\n",
       "    <tr style=\"text-align: right;\">\n",
       "      <th></th>\n",
       "      <th>course</th>\n",
       "      <th>code</th>\n",
       "      <th>field</th>\n",
       "    </tr>\n",
       "  </thead>\n",
       "  <tbody>\n",
       "    <tr>\n",
       "      <td>161</td>\n",
       "      <td>Autre contribution ‡ l'enseignement</td>\n",
       "      <td>NaN</td>\n",
       "      <td>NaN</td>\n",
       "    </tr>\n",
       "    <tr>\n",
       "      <td>162</td>\n",
       "      <td>Autre contribution ‡ l'enseignement</td>\n",
       "      <td>NaN</td>\n",
       "      <td>NaN</td>\n",
       "    </tr>\n",
       "    <tr>\n",
       "      <td>244</td>\n",
       "      <td>Chimie gènèrale avancèe (‡ choix)</td>\n",
       "      <td>NaN</td>\n",
       "      <td>NaN</td>\n",
       "    </tr>\n",
       "    <tr>\n",
       "      <td>334</td>\n",
       "      <td>Cours ethz</td>\n",
       "      <td>NaN</td>\n",
       "      <td>NaN</td>\n",
       "    </tr>\n",
       "    <tr>\n",
       "      <td>335</td>\n",
       "      <td>Cours ethz</td>\n",
       "      <td>NaN</td>\n",
       "      <td>NaN</td>\n",
       "    </tr>\n",
       "    <tr>\n",
       "      <td>...</td>\n",
       "      <td>...</td>\n",
       "      <td>...</td>\n",
       "      <td>...</td>\n",
       "    </tr>\n",
       "    <tr>\n",
       "      <td>1536</td>\n",
       "      <td>Stage supplèmentaire 5</td>\n",
       "      <td>NaN</td>\n",
       "      <td>NaN</td>\n",
       "    </tr>\n",
       "    <tr>\n",
       "      <td>1574</td>\n",
       "      <td>Suivi de mooc externe</td>\n",
       "      <td>NaN</td>\n",
       "      <td>NaN</td>\n",
       "    </tr>\n",
       "    <tr>\n",
       "      <td>1575</td>\n",
       "      <td>Suivi de mooc externe</td>\n",
       "      <td>NaN</td>\n",
       "      <td>NaN</td>\n",
       "    </tr>\n",
       "    <tr>\n",
       "      <td>1708</td>\n",
       "      <td>Travail pratique de laboratoire (30 crèdits)</td>\n",
       "      <td>NaN</td>\n",
       "      <td>NaN</td>\n",
       "    </tr>\n",
       "    <tr>\n",
       "      <td>1709</td>\n",
       "      <td>Travail pratique de laboratoire (30 crèdits)</td>\n",
       "      <td>NaN</td>\n",
       "      <td>NaN</td>\n",
       "    </tr>\n",
       "  </tbody>\n",
       "</table>\n",
       "<p>81 rows × 3 columns</p>\n",
       "</div>"
      ],
      "text/plain": [
       "                                            course code field\n",
       "161            Autre contribution ‡ l'enseignement  NaN   NaN\n",
       "162            Autre contribution ‡ l'enseignement  NaN   NaN\n",
       "244              Chimie gènèrale avancèe (‡ choix)  NaN   NaN\n",
       "334                                     Cours ethz  NaN   NaN\n",
       "335                                     Cours ethz  NaN   NaN\n",
       "...                                            ...  ...   ...\n",
       "1536                        Stage supplèmentaire 5  NaN   NaN\n",
       "1574                         Suivi de mooc externe  NaN   NaN\n",
       "1575                         Suivi de mooc externe  NaN   NaN\n",
       "1708  Travail pratique de laboratoire (30 crèdits)  NaN   NaN\n",
       "1709  Travail pratique de laboratoire (30 crèdits)  NaN   NaN\n",
       "\n",
       "[81 rows x 3 columns]"
      ]
     },
     "execution_count": 17,
     "metadata": {},
     "output_type": "execute_result"
    }
   ],
   "source": [
    "# look at the entries without a field\n",
    "bool_series = pd.isnull(epfl_data['field'])\n",
    "epfl_data[bool_series]"
   ]
  },
  {
   "cell_type": "markdown",
   "metadata": {},
   "source": [
    "**The courses where field/code are missing don't really correspond to courses, we can drop them**"
   ]
  },
  {
   "cell_type": "markdown",
   "metadata": {},
   "source": [
    "**PROBLEM**: How many rows are removed by dropping all rows without a value for `field`?"
   ]
  },
  {
   "cell_type": "code",
   "execution_count": 18,
   "metadata": {},
   "outputs": [
    {
     "data": {
      "text/plain": [
       "(81, 3)"
      ]
     },
     "execution_count": 18,
     "metadata": {},
     "output_type": "execute_result"
    }
   ],
   "source": [
    "# inspect the shape of data before removing missing values\n",
    "epfl_data[bool_series].shape"
   ]
  },
  {
   "cell_type": "code",
   "execution_count": 19,
   "metadata": {},
   "outputs": [],
   "source": [
    "# remove entries without a description\n",
    "epfl_data.dropna(subset=['field'],inplace=True)"
   ]
  },
  {
   "cell_type": "code",
   "execution_count": 20,
   "metadata": {},
   "outputs": [
    {
     "data": {
      "text/plain": [
       "(1677, 3)"
      ]
     },
     "execution_count": 20,
     "metadata": {},
     "output_type": "execute_result"
    }
   ],
   "source": [
    "# after removing entries, inspect the shape of data again\n",
    "epfl_data.shape"
   ]
  },
  {
   "cell_type": "markdown",
   "metadata": {},
   "source": [
    "**The number of rows decreased by exactly 81 which is the number of null values 1758=1677+81**"
   ]
  },
  {
   "cell_type": "code",
   "execution_count": 21,
   "metadata": {},
   "outputs": [
    {
     "data": {
      "text/html": [
       "<div>\n",
       "<style scoped>\n",
       "    .dataframe tbody tr th:only-of-type {\n",
       "        vertical-align: middle;\n",
       "    }\n",
       "\n",
       "    .dataframe tbody tr th {\n",
       "        vertical-align: top;\n",
       "    }\n",
       "\n",
       "    .dataframe thead th {\n",
       "        text-align: right;\n",
       "    }\n",
       "</style>\n",
       "<table border=\"1\" class=\"dataframe\">\n",
       "  <thead>\n",
       "    <tr style=\"text-align: right;\">\n",
       "      <th></th>\n",
       "      <th>course</th>\n",
       "      <th>code</th>\n",
       "      <th>field</th>\n",
       "    </tr>\n",
       "  </thead>\n",
       "  <tbody>\n",
       "  </tbody>\n",
       "</table>\n",
       "</div>"
      ],
      "text/plain": [
       "Empty DataFrame\n",
       "Columns: [course, code, field]\n",
       "Index: []"
      ]
     },
     "execution_count": 21,
     "metadata": {},
     "output_type": "execute_result"
    }
   ],
   "source": [
    "# make sure that entries were indeed removed\n",
    "bool_series = pd.isnull(epfl_data['field'])\n",
    "epfl_data[bool_series]"
   ]
  },
  {
   "cell_type": "markdown",
   "metadata": {},
   "source": [
    "## Now find out how many courses EPFL offers in each field. "
   ]
  },
  {
   "cell_type": "markdown",
   "metadata": {},
   "source": [
    "**PROBLEM**: Count the number of course entries by field  "
   ]
  },
  {
   "cell_type": "code",
   "execution_count": 22,
   "metadata": {},
   "outputs": [
    {
     "data": {
      "text/html": [
       "<div>\n",
       "<style scoped>\n",
       "    .dataframe tbody tr th:only-of-type {\n",
       "        vertical-align: middle;\n",
       "    }\n",
       "\n",
       "    .dataframe tbody tr th {\n",
       "        vertical-align: top;\n",
       "    }\n",
       "\n",
       "    .dataframe thead th {\n",
       "        text-align: right;\n",
       "    }\n",
       "</style>\n",
       "<table border=\"1\" class=\"dataframe\">\n",
       "  <thead>\n",
       "    <tr style=\"text-align: right;\">\n",
       "      <th></th>\n",
       "      <th>total</th>\n",
       "    </tr>\n",
       "    <tr>\n",
       "      <th>field</th>\n",
       "      <th></th>\n",
       "    </tr>\n",
       "  </thead>\n",
       "  <tbody>\n",
       "    <tr>\n",
       "      <td>AR</td>\n",
       "      <td>130</td>\n",
       "    </tr>\n",
       "    <tr>\n",
       "      <td>BIO</td>\n",
       "      <td>76</td>\n",
       "    </tr>\n",
       "    <tr>\n",
       "      <td>BIOENG</td>\n",
       "      <td>29</td>\n",
       "    </tr>\n",
       "    <tr>\n",
       "      <td>CH</td>\n",
       "      <td>88</td>\n",
       "    </tr>\n",
       "    <tr>\n",
       "      <td>CIVIL</td>\n",
       "      <td>85</td>\n",
       "    </tr>\n",
       "    <tr>\n",
       "      <td>COM</td>\n",
       "      <td>38</td>\n",
       "    </tr>\n",
       "    <tr>\n",
       "      <td>CS</td>\n",
       "      <td>92</td>\n",
       "    </tr>\n",
       "    <tr>\n",
       "      <td>ChE</td>\n",
       "      <td>30</td>\n",
       "    </tr>\n",
       "    <tr>\n",
       "      <td>DH</td>\n",
       "      <td>5</td>\n",
       "    </tr>\n",
       "    <tr>\n",
       "      <td>EE</td>\n",
       "      <td>139</td>\n",
       "    </tr>\n",
       "    <tr>\n",
       "      <td>ENG</td>\n",
       "      <td>25</td>\n",
       "    </tr>\n",
       "    <tr>\n",
       "      <td>ENV</td>\n",
       "      <td>76</td>\n",
       "    </tr>\n",
       "    <tr>\n",
       "      <td>EPFL</td>\n",
       "      <td>2</td>\n",
       "    </tr>\n",
       "    <tr>\n",
       "      <td>ETH</td>\n",
       "      <td>18</td>\n",
       "    </tr>\n",
       "    <tr>\n",
       "      <td>FIN</td>\n",
       "      <td>23</td>\n",
       "    </tr>\n",
       "    <tr>\n",
       "      <td>HEP</td>\n",
       "      <td>12</td>\n",
       "    </tr>\n",
       "    <tr>\n",
       "      <td>HUM</td>\n",
       "      <td>178</td>\n",
       "    </tr>\n",
       "    <tr>\n",
       "      <td>MATH</td>\n",
       "      <td>162</td>\n",
       "    </tr>\n",
       "    <tr>\n",
       "      <td>ME</td>\n",
       "      <td>86</td>\n",
       "    </tr>\n",
       "    <tr>\n",
       "      <td>MGT</td>\n",
       "      <td>44</td>\n",
       "    </tr>\n",
       "    <tr>\n",
       "      <td>MICRO</td>\n",
       "      <td>76</td>\n",
       "    </tr>\n",
       "    <tr>\n",
       "      <td>MSE</td>\n",
       "      <td>80</td>\n",
       "    </tr>\n",
       "    <tr>\n",
       "      <td>PENS</td>\n",
       "      <td>28</td>\n",
       "    </tr>\n",
       "    <tr>\n",
       "      <td>PHYS</td>\n",
       "      <td>125</td>\n",
       "    </tr>\n",
       "    <tr>\n",
       "      <td>PREPA</td>\n",
       "      <td>30</td>\n",
       "    </tr>\n",
       "  </tbody>\n",
       "</table>\n",
       "</div>"
      ],
      "text/plain": [
       "        total\n",
       "field        \n",
       "AR        130\n",
       "BIO        76\n",
       "BIOENG     29\n",
       "CH         88\n",
       "CIVIL      85\n",
       "COM        38\n",
       "CS         92\n",
       "ChE        30\n",
       "DH          5\n",
       "EE        139\n",
       "ENG        25\n",
       "ENV        76\n",
       "EPFL        2\n",
       "ETH        18\n",
       "FIN        23\n",
       "HEP        12\n",
       "HUM       178\n",
       "MATH      162\n",
       "ME         86\n",
       "MGT        44\n",
       "MICRO      76\n",
       "MSE        80\n",
       "PENS       28\n",
       "PHYS      125\n",
       "PREPA      30"
      ]
     },
     "execution_count": 22,
     "metadata": {},
     "output_type": "execute_result"
    }
   ],
   "source": [
    "# Count the number of course entries. Hint: Use Pandas `.groupby()` function to aggregate by field\n",
    "courses = epfl_data.groupby(['field']).count().drop(['course'],axis=1). rename(columns={'code':'total'})\n",
    "courses"
   ]
  },
  {
   "cell_type": "markdown",
   "metadata": {},
   "source": [
    "**PROBLEM**: How many Architecture (AR) courses are offered at EPFL?  "
   ]
  },
  {
   "cell_type": "code",
   "execution_count": 23,
   "metadata": {},
   "outputs": [
    {
     "name": "stdout",
     "output_type": "stream",
     "text": [
      "Number of Architecture (AR) courses offered at EPFL:  130\n"
     ]
    }
   ],
   "source": [
    "# You could just manually look at the results from above, or....\n",
    "#   hint: the .loc['AR'] access method of a dataframe will find all results for 'AR' (of which there is one )\n",
    "#         or the .at['AR','course'] access method will find the result for 'AR' for the aggregated value in 'course'\n",
    "print(\"Number of Architecture (AR) courses offered at EPFL: \", int( courses.loc['AR'] ) )"
   ]
  },
  {
   "cell_type": "markdown",
   "metadata": {},
   "source": [
    "**PROBLEM**: What field has the most courses?"
   ]
  },
  {
   "cell_type": "code",
   "execution_count": 24,
   "metadata": {},
   "outputs": [
    {
     "data": {
      "text/html": [
       "<div>\n",
       "<style scoped>\n",
       "    .dataframe tbody tr th:only-of-type {\n",
       "        vertical-align: middle;\n",
       "    }\n",
       "\n",
       "    .dataframe tbody tr th {\n",
       "        vertical-align: top;\n",
       "    }\n",
       "\n",
       "    .dataframe thead th {\n",
       "        text-align: right;\n",
       "    }\n",
       "</style>\n",
       "<table border=\"1\" class=\"dataframe\">\n",
       "  <thead>\n",
       "    <tr style=\"text-align: right;\">\n",
       "      <th></th>\n",
       "      <th>total</th>\n",
       "    </tr>\n",
       "    <tr>\n",
       "      <th>field</th>\n",
       "      <th></th>\n",
       "    </tr>\n",
       "  </thead>\n",
       "  <tbody>\n",
       "    <tr>\n",
       "      <td>HUM</td>\n",
       "      <td>178</td>\n",
       "    </tr>\n",
       "    <tr>\n",
       "      <td>MATH</td>\n",
       "      <td>162</td>\n",
       "    </tr>\n",
       "    <tr>\n",
       "      <td>EE</td>\n",
       "      <td>139</td>\n",
       "    </tr>\n",
       "    <tr>\n",
       "      <td>AR</td>\n",
       "      <td>130</td>\n",
       "    </tr>\n",
       "    <tr>\n",
       "      <td>PHYS</td>\n",
       "      <td>125</td>\n",
       "    </tr>\n",
       "    <tr>\n",
       "      <td>CS</td>\n",
       "      <td>92</td>\n",
       "    </tr>\n",
       "    <tr>\n",
       "      <td>CH</td>\n",
       "      <td>88</td>\n",
       "    </tr>\n",
       "    <tr>\n",
       "      <td>ME</td>\n",
       "      <td>86</td>\n",
       "    </tr>\n",
       "    <tr>\n",
       "      <td>CIVIL</td>\n",
       "      <td>85</td>\n",
       "    </tr>\n",
       "    <tr>\n",
       "      <td>MSE</td>\n",
       "      <td>80</td>\n",
       "    </tr>\n",
       "    <tr>\n",
       "      <td>MICRO</td>\n",
       "      <td>76</td>\n",
       "    </tr>\n",
       "    <tr>\n",
       "      <td>ENV</td>\n",
       "      <td>76</td>\n",
       "    </tr>\n",
       "    <tr>\n",
       "      <td>BIO</td>\n",
       "      <td>76</td>\n",
       "    </tr>\n",
       "    <tr>\n",
       "      <td>MGT</td>\n",
       "      <td>44</td>\n",
       "    </tr>\n",
       "    <tr>\n",
       "      <td>COM</td>\n",
       "      <td>38</td>\n",
       "    </tr>\n",
       "    <tr>\n",
       "      <td>PREPA</td>\n",
       "      <td>30</td>\n",
       "    </tr>\n",
       "    <tr>\n",
       "      <td>ChE</td>\n",
       "      <td>30</td>\n",
       "    </tr>\n",
       "    <tr>\n",
       "      <td>BIOENG</td>\n",
       "      <td>29</td>\n",
       "    </tr>\n",
       "    <tr>\n",
       "      <td>PENS</td>\n",
       "      <td>28</td>\n",
       "    </tr>\n",
       "    <tr>\n",
       "      <td>ENG</td>\n",
       "      <td>25</td>\n",
       "    </tr>\n",
       "    <tr>\n",
       "      <td>FIN</td>\n",
       "      <td>23</td>\n",
       "    </tr>\n",
       "    <tr>\n",
       "      <td>ETH</td>\n",
       "      <td>18</td>\n",
       "    </tr>\n",
       "    <tr>\n",
       "      <td>HEP</td>\n",
       "      <td>12</td>\n",
       "    </tr>\n",
       "    <tr>\n",
       "      <td>DH</td>\n",
       "      <td>5</td>\n",
       "    </tr>\n",
       "    <tr>\n",
       "      <td>EPFL</td>\n",
       "      <td>2</td>\n",
       "    </tr>\n",
       "  </tbody>\n",
       "</table>\n",
       "</div>"
      ],
      "text/plain": [
       "        total\n",
       "field        \n",
       "HUM       178\n",
       "MATH      162\n",
       "EE        139\n",
       "AR        130\n",
       "PHYS      125\n",
       "CS         92\n",
       "CH         88\n",
       "ME         86\n",
       "CIVIL      85\n",
       "MSE        80\n",
       "MICRO      76\n",
       "ENV        76\n",
       "BIO        76\n",
       "MGT        44\n",
       "COM        38\n",
       "PREPA      30\n",
       "ChE        30\n",
       "BIOENG     29\n",
       "PENS       28\n",
       "ENG        25\n",
       "FIN        23\n",
       "ETH        18\n",
       "HEP        12\n",
       "DH          5\n",
       "EPFL        2"
      ]
     },
     "execution_count": 24,
     "metadata": {},
     "output_type": "execute_result"
    }
   ],
   "source": [
    "# Hint: sort the grouped_bydata in descending order to find out what the most common fields are\n",
    "courses.sort_values(by=['total'], ascending=False, inplace=True)\n",
    "courses"
   ]
  },
  {
   "cell_type": "markdown",
   "metadata": {},
   "source": [
    "**HUM has the largest number of courses corresponding to 178**"
   ]
  },
  {
   "cell_type": "markdown",
   "metadata": {},
   "source": [
    "### Finally, write the results back to disk\n",
    "\n",
    "In this part, write the number of courses per field to disk as an Excel file and as a comma separated (.csv) file."
   ]
  },
  {
   "cell_type": "code",
   "execution_count": 25,
   "metadata": {},
   "outputs": [
    {
     "data": {
      "text/html": [
       "<div>\n",
       "<style scoped>\n",
       "    .dataframe tbody tr th:only-of-type {\n",
       "        vertical-align: middle;\n",
       "    }\n",
       "\n",
       "    .dataframe tbody tr th {\n",
       "        vertical-align: top;\n",
       "    }\n",
       "\n",
       "    .dataframe thead th {\n",
       "        text-align: right;\n",
       "    }\n",
       "</style>\n",
       "<table border=\"1\" class=\"dataframe\">\n",
       "  <thead>\n",
       "    <tr style=\"text-align: right;\">\n",
       "      <th></th>\n",
       "      <th>field</th>\n",
       "      <th>course_count</th>\n",
       "    </tr>\n",
       "  </thead>\n",
       "  <tbody>\n",
       "    <tr>\n",
       "      <td>0</td>\n",
       "      <td>HUM</td>\n",
       "      <td>178</td>\n",
       "    </tr>\n",
       "    <tr>\n",
       "      <td>1</td>\n",
       "      <td>MATH</td>\n",
       "      <td>162</td>\n",
       "    </tr>\n",
       "    <tr>\n",
       "      <td>2</td>\n",
       "      <td>EE</td>\n",
       "      <td>139</td>\n",
       "    </tr>\n",
       "    <tr>\n",
       "      <td>3</td>\n",
       "      <td>AR</td>\n",
       "      <td>130</td>\n",
       "    </tr>\n",
       "    <tr>\n",
       "      <td>4</td>\n",
       "      <td>PHYS</td>\n",
       "      <td>125</td>\n",
       "    </tr>\n",
       "  </tbody>\n",
       "</table>\n",
       "</div>"
      ],
      "text/plain": [
       "  field  course_count\n",
       "0   HUM           178\n",
       "1  MATH           162\n",
       "2    EE           139\n",
       "3    AR           130\n",
       "4  PHYS           125"
      ]
     },
     "execution_count": 25,
     "metadata": {},
     "output_type": "execute_result"
    }
   ],
   "source": [
    "# First, we will re-organize the Pandas dataframe such that it has just two columns: field, course_count\n",
    "#   The following code calls .reset_index() to reset the indexing of the dataframe\n",
    "#   The code also redefines the names of the columns by setting .columns = ['field', 'course_count']\n",
    "\n",
    "EPFLcourses_count = courses.reset_index()\n",
    "EPFLcourses_count.columns = ['field', 'course_count']\n",
    "EPFLcourses_count.head()\n",
    "\n",
    "# NOTE -- the code above is given to you because it is very tricky. \n",
    "# But adapt it based on the names you have used for your own dataframe"
   ]
  },
  {
   "cell_type": "markdown",
   "metadata": {},
   "source": [
    "**PROBLEM**: Write the data to BOTH an .xlsx and .csv file."
   ]
  },
  {
   "cell_type": "code",
   "execution_count": 26,
   "metadata": {},
   "outputs": [],
   "source": [
    "# write data to .xlsx (be sure to drop the index column)\n",
    "EPFLcourses_count.to_excel(\"EPFLcourses.xlsx\", index=False)"
   ]
  },
  {
   "cell_type": "code",
   "execution_count": 27,
   "metadata": {},
   "outputs": [],
   "source": [
    "# write data to .csv (be sure to drop the index column)\n",
    "EPFLcourses_count.to_csv(\"EPFLcourses.csv\", index=False)"
   ]
  },
  {
   "cell_type": "markdown",
   "metadata": {},
   "source": [
    "# PART 3: A SIMPLE REGRESSION PROBLEM"
   ]
  },
  {
   "cell_type": "markdown",
   "metadata": {},
   "source": [
    "### First, let's define a simple Data Generating Process for this section...\n",
    "\n",
    "We will define the DGP as a simple line, of the form `y = m * x + b` with the following coefficients: `m = 2` and `b = 3`"
   ]
  },
  {
   "cell_type": "code",
   "execution_count": 28,
   "metadata": {},
   "outputs": [],
   "source": [
    "# this function implements our DGP\n",
    "\n",
    "def dgp(x):\n",
    "    return 2 * x + 3"
   ]
  },
  {
   "cell_type": "markdown",
   "metadata": {},
   "source": [
    "**PROBLEM**: Does the DGP have any variance or noise?"
   ]
  },
  {
   "cell_type": "markdown",
   "metadata": {},
   "source": [
    "\n",
    "\n",
    "**The DGP doesn't have variance nor noise.**\n"
   ]
  },
  {
   "cell_type": "markdown",
   "metadata": {},
   "source": [
    "**PROBLEM**: What are the values of `y` when `x` is equal to 1, 2, 3, 4 and 5?"
   ]
  },
  {
   "cell_type": "code",
   "execution_count": 29,
   "metadata": {},
   "outputs": [
    {
     "name": "stdout",
     "output_type": "stream",
     "text": [
      "For x= 1 , y= 5\n",
      "For x= 2 , y= 7\n",
      "For x= 3 , y= 9\n",
      "For x= 4 , y= 11\n",
      "For x= 5 , y= 13\n"
     ]
    }
   ],
   "source": [
    "# toy data\n",
    "for i in range(1,6):\n",
    "    print(\"For x=\",i,\", y=\", dgp(i))"
   ]
  },
  {
   "cell_type": "markdown",
   "metadata": {},
   "source": [
    "**PROBLEM**: Plot our data as red dots, and then _overlay_ a plot of the DGP as a black line "
   ]
  },
  {
   "cell_type": "code",
   "execution_count": 30,
   "metadata": {},
   "outputs": [
    {
     "data": {
      "image/png": "[encoded data removed]",
      "text/plain": [
       "<Figure size 432x288 with 1 Axes>"
      ]
     },
     "metadata": {
      "needs_background": "light"
     },
     "output_type": "display_data"
    }
   ],
   "source": [
    "# plot data with axis labels\n",
    "x = np.arange(1,6)\n",
    "i = np.arange(0.,5.2,0.2)\n",
    "plt.plot(x, dgp(x),'ro', i, dgp(i), 'k-')\n",
    "plt.show()"
   ]
  },
  {
   "cell_type": "markdown",
   "metadata": {},
   "source": [
    "### Use the sample mean to make a _very_ simple prediction...\n",
    "\n",
    "The most basic \"model\" is just to predict the mean of Y. "
   ]
  },
  {
   "cell_type": "markdown",
   "metadata": {},
   "source": [
    "**PROBLEM**: Calculate and report the mean of the outcome variable `y`?"
   ]
  },
  {
   "cell_type": "code",
   "execution_count": 31,
   "metadata": {},
   "outputs": [
    {
     "name": "stdout",
     "output_type": "stream",
     "text": [
      "The mean is:  9.0\n"
     ]
    }
   ],
   "source": [
    "# compute the mean manually\n",
    "x = range(1,6)\n",
    "y = [dgp(i) for i in x]\n",
    "mean = 0\n",
    "for i in y:\n",
    "    mean = mean + i\n",
    "mean = mean/len(y)\n",
    "print(\"The mean is: \", mean)"
   ]
  },
  {
   "cell_type": "code",
   "execution_count": 32,
   "metadata": {},
   "outputs": [
    {
     "name": "stdout",
     "output_type": "stream",
     "text": [
      "The mean is:  9.0\n"
     ]
    }
   ],
   "source": [
    "# now use a function from the numpy package to calculate the mean\n",
    "mean = np.mean(y)\n",
    "print(\"The mean is: \", mean)"
   ]
  },
  {
   "cell_type": "markdown",
   "metadata": {},
   "source": [
    "**PROBLEM**: Plot our data as red dots, _overlay_ a plot of the DGP as a black line, and overlay a horizontal line at the mean of Y "
   ]
  },
  {
   "cell_type": "code",
   "execution_count": 33,
   "metadata": {},
   "outputs": [
    {
     "data": {
      "image/png": "[encoded data removed]",
      "text/plain": [
       "<Figure size 432x288 with 1 Axes>"
      ]
     },
     "metadata": {
      "needs_background": "light"
     },
     "output_type": "display_data"
    }
   ],
   "source": [
    "# plot mean prediction\n",
    "x = np.arange(1,6)\n",
    "i = np.arange(0.,5.2,0.2)\n",
    "plt.plot(x, dgp(x),'ro', i, dgp(i), 'k-')\n",
    "plt.hlines(mean, 0, 5, 'y')\n",
    "plt.show()"
   ]
  },
  {
   "cell_type": "markdown",
   "metadata": {},
   "source": [
    "**PROBLEM**: How well does the mean fit our DGP?\n",
    "\n",
    "**It's a really bad model for our dataset. It represents a \"constant prediction\".**"
   ]
  },
  {
   "cell_type": "markdown",
   "metadata": {},
   "source": [
    "### Fit a simple linear regression\n",
    "\n",
    "You will now try to estimate the coefficients for the `m` and `b` parameters you see in the DGP.  "
   ]
  },
  {
   "cell_type": "markdown",
   "metadata": {},
   "source": [
    "**PROBLEM**: Prepare to do a linear regression to `X` and `y`.\n",
    "\n",
    "Let's convert all data into arrays (as defined by the numpy package) so that we know it is valid for numerical computation."
   ]
  },
  {
   "cell_type": "code",
   "execution_count": 34,
   "metadata": {},
   "outputs": [
    {
     "data": {
      "text/plain": [
       "array([[1],\n",
       "       [2],\n",
       "       [3],\n",
       "       [4],\n",
       "       [5]])"
      ]
     },
     "execution_count": 34,
     "metadata": {},
     "output_type": "execute_result"
    }
   ],
   "source": [
    "# First, you need to reshape the X data into a \"Design Matrix\" (a two-dimensional shape)\n",
    "#  use the reshape() method of the array class of the numpy package\n",
    "#  your desing matrix with have multiple rows of observations, \n",
    "#     but only 1 column as there is one predictor\n",
    "\n",
    "x = np.reshape(x,(5,1))\n",
    "x"
   ]
  },
  {
   "cell_type": "code",
   "execution_count": 35,
   "metadata": {},
   "outputs": [
    {
     "data": {
      "text/plain": [
       "array([ 5,  7,  9, 11, 13])"
      ]
     },
     "execution_count": 35,
     "metadata": {},
     "output_type": "execute_result"
    }
   ],
   "source": [
    "# Second, also covert your y data into a numpy array \n",
    "#   hint: no need to change the shape - a simple 1-dimensional array (the default) is fine\n",
    "y = np.array(y)\n",
    "y"
   ]
  },
  {
   "cell_type": "markdown",
   "metadata": {},
   "source": [
    "**PROBLEM**: Fit a linear regression for `y` and `X`"
   ]
  },
  {
   "cell_type": "code",
   "execution_count": 36,
   "metadata": {},
   "outputs": [],
   "source": [
    "# fit a linear regression using the LinearRegression() model from sklearn\n",
    "reg = LinearRegression().fit(x, y)"
   ]
  },
  {
   "cell_type": "markdown",
   "metadata": {},
   "source": [
    "**PROBLEM**: Find and report the r-squared, coefficient m, and intercept for the model."
   ]
  },
  {
   "cell_type": "code",
   "execution_count": 37,
   "metadata": {},
   "outputs": [
    {
     "data": {
      "text/plain": [
       "1.0"
      ]
     },
     "execution_count": 37,
     "metadata": {},
     "output_type": "execute_result"
    }
   ],
   "source": [
    "# evaluate the fit in terms of R^2 (i.e. variance explained)\n",
    "reg.score(x, y)"
   ]
  },
  {
   "cell_type": "code",
   "execution_count": 38,
   "metadata": {},
   "outputs": [
    {
     "data": {
      "text/plain": [
       "array([2.])"
      ]
     },
     "execution_count": 38,
     "metadata": {},
     "output_type": "execute_result"
    }
   ],
   "source": [
    "# estimate coefficient m\n",
    "reg.coef_"
   ]
  },
  {
   "cell_type": "code",
   "execution_count": 39,
   "metadata": {},
   "outputs": [
    {
     "data": {
      "text/plain": [
       "2.9999999999999982"
      ]
     },
     "execution_count": 39,
     "metadata": {},
     "output_type": "execute_result"
    }
   ],
   "source": [
    "# estimate intercept b\n",
    "reg.intercept_"
   ]
  },
  {
   "cell_type": "markdown",
   "metadata": {},
   "source": [
    "**PROBLEM**: Use the fitted regression model to calculate the predicted value of `y` at `x = 6`."
   ]
  },
  {
   "cell_type": "code",
   "execution_count": 40,
   "metadata": {},
   "outputs": [
    {
     "data": {
      "text/plain": [
       "array([15.])"
      ]
     },
     "execution_count": 40,
     "metadata": {},
     "output_type": "execute_result"
    }
   ],
   "source": [
    "# use fitted model to predict y at x = 6\n",
    "reg.predict(np.array([[6.]]))"
   ]
  },
  {
   "cell_type": "markdown",
   "metadata": {},
   "source": [
    "**PROBLEM**: Show (by manual calculation) that the predicted value above matches the true DGP."
   ]
  },
  {
   "cell_type": "code",
   "execution_count": 41,
   "metadata": {},
   "outputs": [
    {
     "name": "stdout",
     "output_type": "stream",
     "text": [
      "Computed value corresponding to dgp(6)=  15\n"
     ]
    }
   ],
   "source": [
    "print(\"Computed value corresponding to dgp(6)= \", 2*6+3)"
   ]
  },
  {
   "cell_type": "markdown",
   "metadata": {},
   "source": [
    "# PART 4: A SIMPLE CLASSIFICATION PROBLEM\n",
    "\n",
    "We will now consider some data that will be generated by a *nonlinear* and *noisy* DGP. We want to predict two classes, where `y` equals `1` or `0`, that depend only on the value of `x`. \n",
    "\n",
    "Think back to the Credit Default demo. In this example, `y` stands for defaulting and `x` might stand for your amount of debt. For this simple scenario, the more debt you have, the more likely you are to default. We would like predictions to lie in the continuous inerval `[0,1]`."
   ]
  },
  {
   "cell_type": "code",
   "execution_count": 42,
   "metadata": {},
   "outputs": [
    {
     "name": "stdout",
     "output_type": "stream",
     "text": [
      "[ 1.76405235  0.40015721  0.97873798  2.2408932   1.86755799 -0.97727788\n",
      "  0.95008842 -0.15135721 -0.10321885  0.4105985 ]\n"
     ]
    }
   ],
   "source": [
    "# generate random samples with seed = 0 and look at the first 10 values of X\n",
    "\n",
    "np.random.seed(0)\n",
    "n_samples = 100\n",
    "\n",
    "X = np.random.normal(size = n_samples)\n",
    "print(X[:10])  # inspect the first 10 observations\n",
    "X.sort()"
   ]
  },
  {
   "cell_type": "markdown",
   "metadata": {},
   "source": [
    "For all values `X > 0`, we will set `y` equal to `1` and `0` otherwise. Add some random noise to `X`. "
   ]
  },
  {
   "cell_type": "code",
   "execution_count": 43,
   "metadata": {},
   "outputs": [
    {
     "data": {
      "text/plain": [
       "array([0., 0., 0., 0., 0., 0., 0., 0., 0., 0.])"
      ]
     },
     "execution_count": 43,
     "metadata": {},
     "output_type": "execute_result"
    }
   ],
   "source": [
    "# set y to 1 if X > 0\n",
    "\n",
    "y = X > 0               # Hint: this creates a y array of True and False\n",
    "y = y.astype(np.float)  # Hint: this converts booleans to 1.0 if try, and 0.0 if False\n",
    "y[:10]                  # look at the first 10 entries of y"
   ]
  },
  {
   "cell_type": "code",
   "execution_count": 44,
   "metadata": {},
   "outputs": [
    {
     "data": {
      "text/plain": [
       "array([-2.17635968, -2.25034828, -1.9803796 , -1.51239085, -1.86482303,\n",
       "       -1.22517361, -1.61896748, -1.60385664, -1.03542953, -0.9566924 ])"
      ]
     },
     "execution_count": 44,
     "metadata": {},
     "output_type": "execute_result"
    }
   ],
   "source": [
    "# add some Gaussian noise around the transition point of x = 0 \n",
    "\n",
    "X = X + 0.2 * np.random.normal(size = n_samples)\n",
    "X[:10]   # inspect first 10 entries of X"
   ]
  },
  {
   "cell_type": "markdown",
   "metadata": {},
   "source": [
    "### Plot the data\n",
    "\n",
    "Simply plot the data - plotting the data is key before fitting any statistical model. "
   ]
  },
  {
   "cell_type": "markdown",
   "metadata": {},
   "source": [
    "**PROBLEM**: Plot `X` and `y` on a scatterplot. Will a linear classifier fit these data well?"
   ]
  },
  {
   "cell_type": "code",
   "execution_count": 45,
   "metadata": {},
   "outputs": [
    {
     "data": {
      "text/plain": [
       "[]"
      ]
     },
     "execution_count": 45,
     "metadata": {},
     "output_type": "execute_result"
    },
    {
     "data": {
      "image/png": "[encoded data removed]",
      "text/plain": [
       "<Figure size 576x576 with 1 Axes>"
      ]
     },
     "metadata": {
      "needs_background": "light"
     },
     "output_type": "display_data"
    }
   ],
   "source": [
    "# scatterplot with axis labels\n",
    "plt.figure(figsize=(8,8))\n",
    "plt.scatter(X, y, c='r', marker='o', s=80)\n",
    "plt.xlabel(\"Amount of debt\")\n",
    "plt.ylabel(\"Defaulting\")\n",
    "plt.plot()"
   ]
  },
  {
   "cell_type": "markdown",
   "metadata": {},
   "source": [
    "### Fit a linear probability model"
   ]
  },
  {
   "cell_type": "markdown",
   "metadata": {},
   "source": [
    "**PROBLEM**: Fit a linear regression and look at the intercept. Does the intercept have a reasonable values? Why not?"
   ]
  },
  {
   "cell_type": "code",
   "execution_count": 46,
   "metadata": {},
   "outputs": [
    {
     "data": {
      "text/plain": [
       "0.5209678276517814"
      ]
     },
     "execution_count": 46,
     "metadata": {},
     "output_type": "execute_result"
    }
   ],
   "source": [
    "# fit the linear regression (hint: call .reshape(-1, 1) on X to tell NumPy that there's only one predictor )\n",
    "X = np.reshape(X,(-1,1))\n",
    "reg = LinearRegression().fit(X, y)\n",
    "reg.intercept_"
   ]
  },
  {
   "cell_type": "markdown",
   "metadata": {},
   "source": [
    "The value of the intercept is expected but not reasonable because the data points are clearly seperable by a vertical line."
   ]
  },
  {
   "cell_type": "markdown",
   "metadata": {},
   "source": [
    "**PROBLEM**: Plot the linear regression fit."
   ]
  },
  {
   "cell_type": "code",
   "execution_count": 47,
   "metadata": {},
   "outputs": [
    {
     "data": {
      "image/png": "[encoded data removed]",
      "text/plain": [
       "<Figure size 432x288 with 1 Axes>"
      ]
     },
     "metadata": {
      "needs_background": "light"
     },
     "output_type": "display_data"
    }
   ],
   "source": [
    "# plot linear regression fit\n",
    "i = np.arange(-3,3,0.1)\n",
    "plt.plot(X,y,'ro', i, reg.coef_*i+reg.intercept_,'b-')\n",
    "plt.show()"
   ]
  },
  {
   "cell_type": "markdown",
   "metadata": {},
   "source": [
    "**PROBLEM**: What can you say about predictions for very small/large `x`?\n",
    "\n",
    "Very small values of X will most likely be predicted wrong and very large values will most likely be predicted right."
   ]
  },
  {
   "cell_type": "markdown",
   "metadata": {},
   "source": [
    "\n"
   ]
  },
  {
   "cell_type": "markdown",
   "metadata": {},
   "source": [
    "### Now fit a sigmoidal logit model, which may better fit the data.\n",
    "\n",
    "Remember that for historical reasons, this is called \"logistic regression\" -- but it is for classification, not regression."
   ]
  },
  {
   "cell_type": "markdown",
   "metadata": {},
   "source": [
    "**PROBLEM**: Fit a logit model. "
   ]
  },
  {
   "cell_type": "code",
   "execution_count": 48,
   "metadata": {},
   "outputs": [
    {
     "name": "stderr",
     "output_type": "stream",
     "text": [
      "/Users/macbook/anaconda3/lib/python3.7/site-packages/sklearn/linear_model/logistic.py:432: FutureWarning: Default solver will be changed to 'lbfgs' in 0.22. Specify a solver to silence this warning.\n",
      "  FutureWarning)\n"
     ]
    }
   ],
   "source": [
    "# fit the logistic regression\n",
    "log = LogisticRegression().fit(X, y)"
   ]
  },
  {
   "cell_type": "markdown",
   "metadata": {},
   "source": [
    "**PROBLEM**: Plot the fitted function. Hint: apply the expit() function to your prediction. This will convert the predictions to an inverse sigmoid shape. How does this model fit the data?"
   ]
  },
  {
   "cell_type": "code",
   "execution_count": 49,
   "metadata": {},
   "outputs": [
    {
     "data": {
      "image/png": "[encoded data removed]",
      "text/plain": [
       "<Figure size 720x720 with 1 Axes>"
      ]
     },
     "metadata": {
      "needs_background": "light"
     },
     "output_type": "display_data"
    }
   ],
   "source": [
    "# plot linear regression fit\n",
    "i = np.arange(-3,3,0.1)\n",
    "plt.figure(figsize=(10,10))\n",
    "plt.plot(X.ravel(), y, 'ro')\n",
    "predictions = log.predict_proba(X)[:,1]\n",
    "X, predictions = zip(*sorted(zip(X, predictions)))\n",
    "plt.plot(X, predictions, 'b-')\n",
    "plt.show()"
   ]
  },
  {
   "cell_type": "markdown",
   "metadata": {},
   "source": [
    "**The model fits the data quite well**"
   ]
  },
  {
   "cell_type": "markdown",
   "metadata": {},
   "source": [
    "# Part 5: Examine Empirical Distributions \n",
    "\n",
    "In this section we have already drawn three samples from three different distributions. These appear in the `data/` directory as the files: `data1.txt`, `data2.txt`, `data3.txt`  \n",
    "\n",
    "You do not know the true distributions from which these samples were drawn - but you can investigate them and try to guess..."
   ]
  },
  {
   "cell_type": "markdown",
   "metadata": {},
   "source": [
    "### Helper Functions"
   ]
  },
  {
   "cell_type": "markdown",
   "metadata": {},
   "source": [
    "**PROBLEM**: Define a function to load a list of numbers from a text file."
   ]
  },
  {
   "cell_type": "code",
   "execution_count": 50,
   "metadata": {},
   "outputs": [],
   "source": [
    "def nbr_loader(path):\n",
    "    with open(path) as f:\n",
    "        l = [float(x) for x in f]\n",
    "    return l"
   ]
  },
  {
   "cell_type": "markdown",
   "metadata": {},
   "source": [
    "**PROBLEM**: Define a function to plot a histogram for some data.  "
   ]
  },
  {
   "cell_type": "code",
   "execution_count": 51,
   "metadata": {},
   "outputs": [],
   "source": [
    "def plot_histogram(data):\n",
    "    plt.figure(figsize=(8,8))\n",
    "    plt.hist(data, bins=50, color='green',alpha=.4)\n",
    "    plt.plot()"
   ]
  },
  {
   "cell_type": "markdown",
   "metadata": {},
   "source": [
    "### Distribution 1"
   ]
  },
  {
   "cell_type": "markdown",
   "metadata": {},
   "source": [
    "**PROBLEM**: Using your functions above, plot a histogram of `data1.txt`"
   ]
  },
  {
   "cell_type": "code",
   "execution_count": 52,
   "metadata": {},
   "outputs": [
    {
     "data": {
      "image/png": "[encoded data removed]",
      "text/plain": [
       "<Figure size 576x576 with 1 Axes>"
      ]
     },
     "metadata": {
      "needs_background": "light"
     },
     "output_type": "display_data"
    }
   ],
   "source": [
    "data1 = nbr_loader(\"data/data1.txt\")\n",
    "plot_histogram(data1)"
   ]
  },
  {
   "cell_type": "markdown",
   "metadata": {},
   "source": [
    "**PROBLEM**: Using your functions above, plot a histogram of the logged values of `data1.txt`"
   ]
  },
  {
   "cell_type": "code",
   "execution_count": 53,
   "metadata": {},
   "outputs": [
    {
     "data": {
      "image/png": "[encoded data removed]",
      "text/plain": [
       "<Figure size 576x576 with 1 Axes>"
      ]
     },
     "metadata": {
      "needs_background": "light"
     },
     "output_type": "display_data"
    }
   ],
   "source": [
    "log1 = np.log(data1)\n",
    "plot_histogram(log1)"
   ]
  },
  {
   "cell_type": "markdown",
   "metadata": {},
   "source": [
    "### Distribution 2"
   ]
  },
  {
   "cell_type": "markdown",
   "metadata": {},
   "source": [
    "**PROBLEM**: Using your functions above, plot a histogram of `data2.txt`"
   ]
  },
  {
   "cell_type": "code",
   "execution_count": 54,
   "metadata": {},
   "outputs": [
    {
     "data": {
      "image/png": "[encoded data removed]",
      "text/plain": [
       "<Figure size 576x576 with 1 Axes>"
      ]
     },
     "metadata": {
      "needs_background": "light"
     },
     "output_type": "display_data"
    }
   ],
   "source": [
    "data2 = nbr_loader(\"data/data2.txt\")\n",
    "plot_histogram(data2)\n",
    "\n"
   ]
  },
  {
   "cell_type": "markdown",
   "metadata": {},
   "source": [
    "**PROBLEM**: Using your functions above, plot a histogram of the logged values of `data2.txt`"
   ]
  },
  {
   "cell_type": "code",
   "execution_count": 55,
   "metadata": {},
   "outputs": [
    {
     "data": {
      "image/png": "[encoded data removed]",
      "text/plain": [
       "<Figure size 576x576 with 1 Axes>"
      ]
     },
     "metadata": {
      "needs_background": "light"
     },
     "output_type": "display_data"
    }
   ],
   "source": [
    "log2 = np.log(data2)\n",
    "plot_histogram(log2)"
   ]
  },
  {
   "cell_type": "markdown",
   "metadata": {},
   "source": [
    "### Distribution 3"
   ]
  },
  {
   "cell_type": "markdown",
   "metadata": {},
   "source": [
    "**PROBLEM**: Using your functions above, plot a histogram of `data3.txt`"
   ]
  },
  {
   "cell_type": "code",
   "execution_count": 56,
   "metadata": {},
   "outputs": [
    {
     "data": {
      "image/png": "[encoded data removed]",
      "text/plain": [
       "<Figure size 576x576 with 1 Axes>"
      ]
     },
     "metadata": {
      "needs_background": "light"
     },
     "output_type": "display_data"
    }
   ],
   "source": [
    "data3 = nbr_loader(\"data/data3.txt\")\n",
    "plot_histogram(data3)"
   ]
  },
  {
   "cell_type": "markdown",
   "metadata": {},
   "source": [
    "**PROBLEM**: Using your functions above, plot a histogram of the logged values of `data3.txt`"
   ]
  },
  {
   "cell_type": "code",
   "execution_count": 57,
   "metadata": {},
   "outputs": [
    {
     "data": {
      "image/png": "[encoded data removed]",
      "text/plain": [
       "<Figure size 576x576 with 1 Axes>"
      ]
     },
     "metadata": {
      "needs_background": "light"
     },
     "output_type": "display_data"
    }
   ],
   "source": [
    "log3 = np.log(data3)\n",
    "plot_histogram(log3)"
   ]
  },
  {
   "cell_type": "markdown",
   "metadata": {},
   "source": [
    "### Make educated guesses about the distributions"
   ]
  },
  {
   "cell_type": "markdown",
   "metadata": {
    "inputHidden": false,
    "outputHidden": false
   },
   "source": [
    "Do some self-directed research to learn about different types of continuous distributions (guassian, gamma, exponential, etc.). Can you identify a distribution that you think could generated each of the three data files you observe above? If so, what kind of distributions? Explain each one for each file."
   ]
  },
  {
   "cell_type": "markdown",
   "metadata": {},
   "source": [
    "**PROBLEM**: What might be the distribution of `data1.txt`?"
   ]
  },
  {
   "cell_type": "markdown",
   "metadata": {},
   "source": [
    "* Gamma distribution"
   ]
  },
  {
   "cell_type": "markdown",
   "metadata": {},
   "source": [
    "**PROBLEM**: What might be the distribution of `data2.txt`?"
   ]
  },
  {
   "cell_type": "markdown",
   "metadata": {},
   "source": [
    "* Beta distribution\n"
   ]
  },
  {
   "cell_type": "markdown",
   "metadata": {},
   "source": [
    "**PROBLEM**: What might be the distribution of `data3.txt`?"
   ]
  },
  {
   "cell_type": "markdown",
   "metadata": {},
   "source": [
    "* Log-Normal distribution\n"
   ]
  },
  {
   "cell_type": "markdown",
   "metadata": {},
   "source": [
    "### Estimate parameters for the distributions"
   ]
  },
  {
   "cell_type": "markdown",
   "metadata": {},
   "source": [
    "**PROBLEM**: Based on your guess as to the true distribution of the distribution for the `data1.txt` sample, estimate parameters for that distribution."
   ]
  },
  {
   "cell_type": "code",
   "execution_count": 58,
   "metadata": {},
   "outputs": [
    {
     "name": "stdout",
     "output_type": "stream",
     "text": [
      "4.806326226036164 0.13107019942532222 1.0080064278223309\n"
     ]
    },
    {
     "data": {
      "image/png": "[encoded data removed]",
      "text/plain": [
       "<Figure size 576x576 with 1 Axes>"
      ]
     },
     "metadata": {
      "needs_background": "light"
     },
     "output_type": "display_data"
    }
   ],
   "source": [
    "gamma_alpha, gamma_loc, gamma_scale = gamma.fit(data1)\n",
    "print(gamma_alpha, gamma_loc, gamma_scale)\n",
    "x = np.arange(0,20,0.1)\n",
    "gamma_pdf = gamma.pdf(x ,gamma_alpha, loc = gamma_loc, scale = gamma_scale)\n",
    "plt.figure(figsize=(8,8))\n",
    "plt.plot(x, gamma_pdf, color='green', linewidth=2)\n",
    "plt.hist(data1, density=1, bins=50, color='green',alpha=.4)\n",
    "plt.show()"
   ]
  },
  {
   "cell_type": "markdown",
   "metadata": {},
   "source": [
    "**PROBLEM**: Based on your guess as to the true distribution of the distribution for the `data2.txt` sample, estimate parameters for that distribution."
   ]
  },
  {
   "cell_type": "code",
   "execution_count": 59,
   "metadata": {},
   "outputs": [
    {
     "name": "stderr",
     "output_type": "stream",
     "text": [
      "/Users/macbook/anaconda3/lib/python3.7/site-packages/scipy/stats/_continuous_distns.py:515: RuntimeWarning: invalid value encountered in sqrt\n",
      "  sk = 2*(b-a)*np.sqrt(a + b + 1) / (a + b + 2) / np.sqrt(a*b)\n"
     ]
    },
    {
     "name": "stdout",
     "output_type": "stream",
     "text": [
      "2.0795534252326036 10.770049940977472 -0.0010433382783147755 1.0410031987598831\n"
     ]
    },
    {
     "data": {
      "image/png": "[encoded data removed]",
      "text/plain": [
       "<Figure size 576x576 with 1 Axes>"
      ]
     },
     "metadata": {
      "needs_background": "light"
     },
     "output_type": "display_data"
    }
   ],
   "source": [
    "beta_alpha, beta_beta, beta_loc, beta_scale = beta.fit(data2)\n",
    "print(beta_alpha, beta_beta, beta_loc, beta_scale)\n",
    "x = np.arange(0,1,0.01)\n",
    "plt.figure(figsize=(8,8))\n",
    "beta_pdf = beta.pdf(x, beta_alpha, beta_beta, loc = beta_loc, scale = beta_scale)\n",
    "plt.plot(x, beta_pdf, color='green', linewidth=2)\n",
    "plt.hist(data2, density=1, bins=50, color='green',alpha=.4)\n",
    "plt.show()"
   ]
  },
  {
   "cell_type": "markdown",
   "metadata": {},
   "source": [
    "**PROBLEM**: Based on your guess as to the true distribution of the distribution for the `data3.txt` sample, estimate parameters for that distribution."
   ]
  },
  {
   "cell_type": "code",
   "execution_count": 60,
   "metadata": {},
   "outputs": [
    {
     "name": "stdout",
     "output_type": "stream",
     "text": [
      "0.19077296304554658 -0.03900961681303078 1.036239032984593\n"
     ]
    },
    {
     "data": {
      "image/png": "[encoded data removed]",
      "text/plain": [
       "<Figure size 576x576 with 1 Axes>"
      ]
     },
     "metadata": {
      "needs_background": "light"
     },
     "output_type": "display_data"
    }
   ],
   "source": [
    "norm_shape, norm_loc, norm_scale = lognorm.fit(data3)\n",
    "print(norm_shape, norm_loc, norm_scale)\n",
    "x = np.arange(0,3,0.01)\n",
    "plt.figure(figsize=(8,8))\n",
    "norm_pdf = lognorm.pdf(x, norm_shape, loc = norm_loc, scale = norm_scale)\n",
    "plt.plot(x, norm_pdf, color='green', linewidth=2)\n",
    "plt.hist(data3, density=1, bins=50, color='green',alpha=.4)\n",
    "plt.show()"
   ]
  },
  {
   "cell_type": "markdown",
   "metadata": {},
   "source": [
    "### Comment on your estimated parameters for the above distributions"
   ]
  },
  {
   "cell_type": "markdown",
   "metadata": {},
   "source": [
    "**PROBLEM**: Will the estimated parameters reported in Question 6 above be the **_True_** population parameters? Why or why not?"
   ]
  },
  {
   "cell_type": "markdown",
   "metadata": {},
   "source": [
    "**The estimated parameters will not be exactly the true population parameters because our data is clearly noisy and hence our estimations will differ by small error.**\n",
    "\n"
   ]
  },
  {
   "cell_type": "markdown",
   "metadata": {},
   "source": [
    "# Part 6: Plot some Theoretical Distributions \n",
    "\n",
    "In the previous section, you examined empirical distributions for three files. Now you will plot the theoretical probability density function (pdf) from one particular distribution: the Beta distribution.   \n",
    "\n",
    "The Beta distribution has two parameters: $\\alpha$ and $\\beta$).\n"
   ]
  },
  {
   "cell_type": "markdown",
   "metadata": {},
   "source": [
    "**PROBLEM**: Plot the **pdf** for a beta distribution with parameters $\\alpha = 2$ and $\\beta = 5$."
   ]
  },
  {
   "cell_type": "code",
   "execution_count": 61,
   "metadata": {},
   "outputs": [
    {
     "data": {
      "image/png": "[encoded data removed]",
      "text/plain": [
       "<Figure size 576x576 with 1 Axes>"
      ]
     },
     "metadata": {
      "needs_background": "light"
     },
     "output_type": "display_data"
    }
   ],
   "source": [
    "b_alpha, b_beta = 2, 5\n",
    "x = np.arange(0,1,0.01)\n",
    "plt.figure(figsize=(8,8))\n",
    "beta_pdf = beta.pdf(x, b_alpha, b_beta)\n",
    "plt.plot(x, beta_pdf, color='green', linewidth=2)\n",
    "plt.show()"
   ]
  },
  {
   "cell_type": "markdown",
   "metadata": {},
   "source": [
    "**PROBLEM**: Now plot the same pdf with vertical lines and labels for the lines at the mean, median, and mode of the same distribution as above."
   ]
  },
  {
   "cell_type": "code",
   "execution_count": 62,
   "metadata": {},
   "outputs": [
    {
     "data": {
      "image/png": "[encoded data removed]",
      "text/plain": [
       "<Figure size 576x576 with 1 Axes>"
      ]
     },
     "metadata": {
      "needs_background": "light"
     },
     "output_type": "display_data"
    }
   ],
   "source": [
    "plt.figure(figsize=(8,8))\n",
    "beta_pdf = beta.pdf(x, b_alpha, b_beta)\n",
    "plt.plot(x, beta_pdf, color='green', linewidth=2)\n",
    "\n",
    "# plot mean\n",
    "mean = beta.mean(b_alpha, b_beta)\n",
    "plt.axvline(x=mean, color='r', label='mean')\n",
    "\n",
    "# plot median\n",
    "median = beta.median(b_alpha, b_beta)\n",
    "plt.axvline(x=median, color='m', label = 'median')\n",
    "\n",
    "\n",
    "# plot mode\n",
    "i = np.where(beta_pdf == max(beta_pdf))\n",
    "mode = x[i]\n",
    "plt.axvline(x=mode, color='y', label = 'mode')\n",
    "\n",
    "plt.legend(loc='upper right')\n",
    "plt.show()"
   ]
  },
  {
   "cell_type": "markdown",
   "metadata": {},
   "source": [
    "**PROBLEM**: Comment on why (intuitively) the mean, median and mode are ordered as shown above. "
   ]
  },
  {
   "cell_type": "markdown",
   "metadata": {},
   "source": [
    "**The distribution is is positively skewed (skewed to the right) so it makes sence that the median and the mean will be on the right side of the mode. This is because the distribution is not symmetrical with respect to the mode and the tail is on the right side.**\n",
    "\n"
   ]
  },
  {
   "cell_type": "markdown",
   "metadata": {},
   "source": [
    "**PROBLEM**: Comment on the nature of the probability distribution function for the outcome. What's the distribution skew and kurtosis? How can we interpret skewness? Why does skewness matter? What migh be a remedy to \"de-skew\" data?"
   ]
  },
  {
   "cell_type": "code",
   "execution_count": 63,
   "metadata": {},
   "outputs": [
    {
     "name": "stdout",
     "output_type": "stream",
     "text": [
      "skew =  0.5962847939999439 kurt =  -0.12\n"
     ]
    }
   ],
   "source": [
    "# compute skewness and kurtosis to use in your answer\n",
    "mean, var, skew, kurt = beta.stats(b_alpha, b_beta, moments='mvsk')\n",
    "print(\"skew = \", skew,'kurt = ', kurt)"
   ]
  },
  {
   "cell_type": "markdown",
   "metadata": {},
   "source": [
    "* Skewness measures the lack of symmetry in data distribution. A skewness of 0 means the distribution is perfectly symmetrical around the mode. \n",
    "* Kurtosis measures the outliers present in the distribution. High kurtosis in a data set means that data distribution has heavy tails or outliers.\n",
    "* We can interpret positively skewed distribution as follows: Small values of the random variable are a lot more likely to happen than large values.\n",
    "* The problem with skewed data is that it will have a disproportionate influence on parameter estimation if we are minimizing a squared error function.\n",
    "* We can perform a log transform of the data to reduce the skewness."
   ]
  }
 ],
 "metadata": {
  "kernelspec": {
   "display_name": "Python 3",
   "language": "python",
   "name": "python3"
  },
  "language_info": {
   "codemirror_mode": {
    "name": "ipython",
    "version": 3
   },
   "file_extension": ".py",
   "mimetype": "text/x-python",
   "name": "python",
   "nbconvert_exporter": "python",
   "pygments_lexer": "ipython3",
   "version": "3.7.1"
  }
 },
 "nbformat": 4,
 "nbformat_minor": 2
}
