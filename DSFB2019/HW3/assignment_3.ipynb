{
 "cells": [
  {
   "cell_type": "markdown",
   "metadata": {
    "toc": true
   },
   "source": [
    "<h1>Table of Contents<span class=\"tocSkip\"></span></h1>\n",
    "<div class=\"toc\"><ul class=\"toc-item\"><li><ul class=\"toc-item\"><li><span><a href=\"#IMPORTS\" data-toc-modified-id=\"IMPORTS-0.1\">IMPORTS</a></span></li></ul></li><li><span><a href=\"#PART-1:-LOGIT-MODEL-(without-sklearn)\" data-toc-modified-id=\"PART-1:-LOGIT-MODEL-(without-sklearn)-1\">PART 1: LOGIT MODEL (without sklearn)</a></span></li><li><span><a href=\"#PART-2:-PLOT-ROC-CURVES-(without-sklearn)\" data-toc-modified-id=\"PART-2:-PLOT-ROC-CURVES-(without-sklearn)-2\">PART 2: PLOT ROC CURVES (without sklearn)</a></span></li><li><span><a href=\"#PART-3:-AGGLOMERATIVE-CLUSTERING-(without-sklearn)\" data-toc-modified-id=\"PART-3:-AGGLOMERATIVE-CLUSTERING-(without-sklearn)-3\">PART 3: AGGLOMERATIVE CLUSTERING (without sklearn)</a></span></li><li><span><a href=\"#PART-4:-NOW-WE-RETURN-TO-CREDIT-DEFAULT-PREDICTIONS-AS-IN-ASSIGNMENT-2\" data-toc-modified-id=\"PART-4:-NOW-WE-RETURN-TO-CREDIT-DEFAULT-PREDICTIONS-AS-IN-ASSIGNMENT-2-4\"><strong>PART 4</strong>: NOW WE RETURN TO CREDIT DEFAULT PREDICTIONS AS IN ASSIGNMENT 2</a></span><ul class=\"toc-item\"><li><ul class=\"toc-item\"><li><span><a href=\"#Setup-AGAIN\" data-toc-modified-id=\"Setup-AGAIN-4.0.1\"><strong>Setup AGAIN</strong></a></span></li><li><span><a href=\"#Imports\" data-toc-modified-id=\"Imports-4.0.2\">Imports</a></span></li><li><span><a href=\"#Constants\" data-toc-modified-id=\"Constants-4.0.3\">Constants</a></span></li><li><span><a href=\"#Custom-Functions\" data-toc-modified-id=\"Custom-Functions-4.0.4\">Custom Functions</a></span></li><li><span><a href=\"#Load-and-Preprocess-Data\" data-toc-modified-id=\"Load-and-Preprocess-Data-4.0.5\"><strong>Load and Preprocess Data</strong></a></span></li></ul></li><li><span><a href=\"#A-Discussion-of-Models-and-Results-from-Assignment-2...\" data-toc-modified-id=\"A-Discussion-of-Models-and-Results-from-Assignment-2...-4.1\">A Discussion of Models and Results from Assignment 2...</a></span></li></ul></li><li><span><a href=\"#PART-5:-Logit-Model-with-L1-Regularization-(&quot;Lasso&quot;)\" data-toc-modified-id=\"PART-5:-Logit-Model-with-L1-Regularization-(&quot;Lasso&quot;)-5\"><strong>PART 5</strong>: Logit Model with L1 Regularization (\"Lasso\")</a></span></li><li><span><a href=\"#PART-6:-PCA\" data-toc-modified-id=\"PART-6:-PCA-6\"><strong>PART 6</strong>: PCA</a></span></li><li><span><a href=\"#PART-7:--K-Nearest-Neighbors-(KNN)\" data-toc-modified-id=\"PART-7:--K-Nearest-Neighbors-(KNN)-7\"><strong>PART 7</strong>:  K-Nearest Neighbors (KNN)</a></span></li><li><span><a href=\"#PART-8:-Decision-Trees\" data-toc-modified-id=\"PART-8:-Decision-Trees-8\"><strong>PART 8</strong>: Decision Trees</a></span></li><li><span><a href=\"#PART-9:-Random-Forests\" data-toc-modified-id=\"PART-9:-Random-Forests-9\"><strong>PART 9</strong>: Random Forests</a></span></li></ul></div>"
   ]
  },
  {
   "cell_type": "raw",
   "metadata": {},
   "source": [
    "# DSFB Assignment 3"
   ]
  },
  {
   "cell_type": "markdown",
   "metadata": {},
   "source": [
    "In this assignment, you will begine to work with data to build some basic models. "
   ]
  },
  {
   "cell_type": "markdown",
   "metadata": {},
   "source": [
    "## IMPORTS\n",
    "\n",
    "Here are a bunch of libraries that you may need to use..."
   ]
  },
  {
   "cell_type": "code",
   "execution_count": 1,
   "metadata": {},
   "outputs": [],
   "source": [
    "# Standard imports\n",
    "import numpy  as np\n",
    "import pandas as pd\n",
    "\n",
    "import itertools\n",
    "import random\n",
    "import math  \n",
    "\n",
    "# Plotting\n",
    "import matplotlib.pyplot as plt\n",
    "from matplotlib.colors import ListedColormap\n",
    "import matplotlib.patches as patches\n",
    "%matplotlib inline  \n",
    "import seaborn as sns\n",
    "sns.set(style=\"white\")\n",
    "\n",
    "# ignore some warnings \n",
    "import warnings\n",
    "warnings.filterwarnings('ignore')\n",
    "\n",
    "# Set a seed for replication\n",
    "SEED = 1  # Use this anywhere a stochastic function allows you to set a seed"
   ]
  },
  {
   "cell_type": "markdown",
   "metadata": {},
   "source": [
    "# PART 1: LOGIT MODEL (without sklearn)"
   ]
  },
  {
   "cell_type": "markdown",
   "metadata": {},
   "source": [
    "Suppose we collect data for a group of students in a course with the following variables:  \n",
    "\n",
    "    X1 = hours studied  \n",
    "    X2 = undergrad GPA  \n",
    "    Y = receive a grade of 4.0  "
   ]
  },
  {
   "cell_type": "code",
   "execution_count": 2,
   "metadata": {},
   "outputs": [],
   "source": [
    "# Suppose we fit a logit model to the data above and obtain the following coefficients:\n",
    "b0 = -5\n",
    "b1 = 0.1\n",
    "b2 = 1"
   ]
  },
  {
   "cell_type": "markdown",
   "metadata": {},
   "source": [
    "**PROBLEM**: Estimate the probability that a student who studies for 40 hours, and who has an undergrad GPA of 3.0, will get a 4.0 in the class."
   ]
  },
  {
   "cell_type": "code",
   "execution_count": 3,
   "metadata": {},
   "outputs": [
    {
     "name": "stdout",
     "output_type": "stream",
     "text": [
      "Probability that the student gets 4.0 is :  0.88\n"
     ]
    }
   ],
   "source": [
    "# Estimate the probability and print it out\n",
    "# y = 1 / (1 + exp(-βTX))\n",
    "X1 = 40\n",
    "X2 = 3.0\n",
    "prob = 1/(1 + np.exp(-(b0+ b1*X1 + b2*X2)))\n",
    "print(\"Probability that the student gets 4.0 is : \", (\"%.2f\" % prob))"
   ]
  },
  {
   "cell_type": "markdown",
   "metadata": {},
   "source": [
    "**PROBLEM**: How many hours would a student who has an undergrad GPA of 3.0 need to study to have an 80% chance of getting a grade of 4.0 in the class? Tip: You can do all of this on paper with math. But then type it into the markdown field below to show your work. Perform the very final (reduced) calculation in python to show the answer."
   ]
  },
  {
   "cell_type": "markdown",
   "metadata": {},
   "source": [
    "We know that using logistic regression computes probabilities as: $$y = \\frac{1}{1 + exp(-β^TX)}$$\n",
    "\n",
    "For the given problem X2 and y are known (X2=3.0 and we want y=0.8)\n",
    "Hence solving this equality for X1 (which is the number of hours worked) gives us:\n",
    "\n",
    "$$X1 = -\\frac{\\ln (\\frac{1}{y}-1)+b2\\times X2+b0}{b1} $$"
   ]
  },
  {
   "cell_type": "code",
   "execution_count": 4,
   "metadata": {},
   "outputs": [
    {
     "name": "stdout",
     "output_type": "stream",
     "text": [
      "The number of hours the student has to work is:  34\n"
     ]
    }
   ],
   "source": [
    "# Use python to manually calculate that value:\n",
    "X2 = 3.0\n",
    "y = 0.8\n",
    "X1 = (-1/b1)*(np.log((1/y)-1)+b2*X2+b0)\n",
    "print(\"The number of hours the student has to work is: \", int(np.round(X1)))"
   ]
  },
  {
   "cell_type": "markdown",
   "metadata": {},
   "source": [
    "**PROBLEM**: Use your solution from above (along with the estimated logit model coefficients given to you earlier) to show that the logit model would in fact predict a probability of 80%."
   ]
  },
  {
   "cell_type": "markdown",
   "metadata": {},
   "source": [
    "Show the calculation (written out, step-by-step) here:  \n"
   ]
  },
  {
   "cell_type": "code",
   "execution_count": 5,
   "metadata": {},
   "outputs": [
    {
     "name": "stdout",
     "output_type": "stream",
     "text": [
      "Probability that the student gets 4.0 is :  0.80\n"
     ]
    }
   ],
   "source": [
    "# Use Python to perform the calculation and show the result:\n",
    "X1 = 34\n",
    "X2 = 3.0\n",
    "prob = 1/(1 + np.exp(-(b0+ b1*X1 + b2*X2)))\n",
    "\n",
    "print(\"Probability that the student gets 4.0 is : \", (\"%.2f\" % prob))"
   ]
  },
  {
   "cell_type": "markdown",
   "metadata": {},
   "source": [
    "# PART 2: PLOT ROC CURVES (without sklearn)"
   ]
  },
  {
   "cell_type": "markdown",
   "metadata": {},
   "source": [
    "Suppose you have the following labeled data: for each observation you are given a Positive or Negative label and the predicted probability. The \"Positive\" case is labeled as 1, and the \"Negative\" case is labeled with 0. For example, an observation of (0, 0.45) means the truth value is Negative and the predicted probability of being positive is 0.45."
   ]
  },
  {
   "cell_type": "code",
   "execution_count": 6,
   "metadata": {},
   "outputs": [],
   "source": [
    "data = [\n",
    "    (1, 0.9),\n",
    "    (0, 0.8),\n",
    "    (1, 0.6),\n",
    "    (1, 0.4),\n",
    "    (0, 0.2)\n",
    "]"
   ]
  },
  {
   "cell_type": "markdown",
   "metadata": {},
   "source": [
    "**PROBLEM**: Calculate the True Positive Rate and the False Positive Rate at each observation. You may NOT use `sklearn` or any other supporting library for this problem - you must do everything in \"pure Python\". "
   ]
  },
  {
   "cell_type": "markdown",
   "metadata": {},
   "source": [
    "We have that : $$ TPR = \\frac{TP}{TP+FN} $$\n",
    "And: $$ FPR = \\frac{FP}{FP+TN} $$\n",
    "\n",
    "**We suppose that the selected threshold probability is equal to 0.5 in the following computations.**"
   ]
  },
  {
   "cell_type": "code",
   "execution_count": 7,
   "metadata": {},
   "outputs": [],
   "source": [
    "def TPR(threshold):\n",
    "    predictions = [(x[0],1) if x[1]>=threshold else (x[0],0) for x in data]\n",
    "    TP = np.sum([1 if x==y and x==1 else 0 for (x,y) in predictions])\n",
    "    FN = np.sum([1 if x!=y and y==0 else 0 for (x,y) in predictions])\n",
    "    TPR = 0 if TP==0 else TP/(TP+FN)\n",
    "    return TPR"
   ]
  },
  {
   "cell_type": "code",
   "execution_count": 8,
   "metadata": {},
   "outputs": [],
   "source": [
    "def FPR(threshold):\n",
    "    predictions = [(x[0],1) if x[1]>=threshold else (x[0],0) for x in data]\n",
    "    FP = np.sum([1 if x!=y and y==1 else 0 for (x,y) in predictions])\n",
    "    TN = np.sum([1 if x==y and x==0 else 0 for (x,y) in predictions])\n",
    "    FPR = 0 if FP ==0 else FP/(FP+TN)\n",
    "    return FPR"
   ]
  },
  {
   "cell_type": "code",
   "execution_count": 9,
   "metadata": {},
   "outputs": [
    {
     "name": "stdout",
     "output_type": "stream",
     "text": [
      "TPR =  0.67 FPR =  0.50\n"
     ]
    }
   ],
   "source": [
    "# Calculate TPR and FPR\n",
    "threshold = 0.5\n",
    "print(\"TPR = \", (\"%.2f\" % TPR(threshold)), \"FPR = \", (\"%.2f\" % FPR(threshold)))"
   ]
  },
  {
   "cell_type": "markdown",
   "metadata": {},
   "source": [
    "**PROBLEM**: Plot an ROC curve. You may NOT use `sklearn` or any other supporting library for this problem - you must do everything in \"pure Python\". "
   ]
  },
  {
   "cell_type": "markdown",
   "metadata": {},
   "source": [
    "**The ROC curves is a plot of the TPR against the FPR measured for different thresolds at each point.**"
   ]
  },
  {
   "cell_type": "code",
   "execution_count": 10,
   "metadata": {},
   "outputs": [
    {
     "data": {
      "text/plain": [
       "<function matplotlib.pyplot.show(*args, **kw)>"
      ]
     },
     "execution_count": 10,
     "metadata": {},
     "output_type": "execute_result"
    },
    {
     "data": {
      "image/png": "[encoded data removed]",
      "text/plain": [
       "<Figure size 432x288 with 1 Axes>"
      ]
     },
     "metadata": {
      "needs_background": "light"
     },
     "output_type": "display_data"
    }
   ],
   "source": [
    "# Plot the ROC Curve\n",
    "thresholds = np.arange(0,1,0.01)\n",
    "x = [FPR(threshold) for threshold in thresholds]\n",
    "y = [TPR(threshold) for threshold in thresholds]\n",
    "plt.xlabel(\"FPR\")\n",
    "plt.ylabel(\"TPR\")\n",
    "plt.title(\"ROC curve\")\n",
    "plt.plot(x,y)\n",
    "plt.show"
   ]
  },
  {
   "cell_type": "markdown",
   "metadata": {},
   "source": [
    "# PART 3: AGGLOMERATIVE CLUSTERING (without sklearn)\n",
    "\n",
    "Suppose you have the following observations in a two-dimensional Euclidean space. Here we give you a dictionary with a label for the point, and the point in (x,y) coordinates. "
   ]
  },
  {
   "cell_type": "code",
   "execution_count": 11,
   "metadata": {},
   "outputs": [],
   "source": [
    "# Raw observations\n",
    "data   = [(1,1), (2,1), (5,1), (7,1), (1,5), (3,4), (4,5) ]\n",
    "labels = [ 'A',   'B',   'C',   'D',   'E',   'F',   'G']\n",
    "\n",
    "# Clusters of 1 observation, at lowest level\n",
    "a = [data[0], ]\n",
    "b = [data[1], ]\n",
    "c = [data[2], ]\n",
    "d = [data[3], ]\n",
    "e = [data[4], ]\n",
    "f = [data[5], ]\n",
    "g = [data[6], ]"
   ]
  },
  {
   "cell_type": "markdown",
   "metadata": {},
   "source": [
    "You may use the following function to plot the data..."
   ]
  },
  {
   "cell_type": "code",
   "execution_count": 12,
   "metadata": {},
   "outputs": [],
   "source": [
    "def plot_data(data, labels, xlim, ylim):\n",
    "    \"\"\" Function to plot a list of (x,y) coordinates, with optional lables. \n",
    "        \n",
    "        Args:  \n",
    "              data     A list of (x,y) point to plot\n",
    "              labels   A list of text labels, in same order as data.\n",
    "    \"\"\"\n",
    "    \n",
    "    fig, ax = plt.subplots()\n",
    "    for point, label in zip(data, labels):\n",
    "        ax.scatter(point[0], point[1], c='black')\n",
    "        if labels: ax.annotate(label, point, textcoords=\"offset points\", xytext=(1,10))\n",
    "    ax.set_xlim(xlim)\n",
    "    ax.set_ylim(ylim)\n",
    "    ax.grid(True)\n",
    "    return fig, ax"
   ]
  },
  {
   "cell_type": "code",
   "execution_count": 13,
   "metadata": {},
   "outputs": [
    {
     "data": {
      "image/png": "[encoded data removed]",
      "text/plain": [
       "<Figure size 432x288 with 1 Axes>"
      ]
     },
     "metadata": {
      "needs_background": "light"
     },
     "output_type": "display_data"
    }
   ],
   "source": [
    "plot_data(data, labels, xlim=(0,8), ylim=(0,6))\n",
    "pass"
   ]
  },
  {
   "cell_type": "markdown",
   "metadata": {},
   "source": [
    "**PROBLEM**: Write a custom function in pure Python to calculate the Euclidean straight-line distance between any two points with (x,y) coordinates."
   ]
  },
  {
   "cell_type": "code",
   "execution_count": 14,
   "metadata": {},
   "outputs": [],
   "source": [
    "def distance(point_a, point_b):\n",
    "    \"\"\" Function to calculate and return the Euclidean straight distance between any two points with (x,y) coordinates.\n",
    "        \n",
    "        Args:  \n",
    "               point_a   (x,y) of point a\n",
    "               point_b   (x,y) of point b\n",
    "    \"\"\"\n",
    "    return np.sqrt((point_a[0]-point_b[0])**2+(point_a[1]-point_b[1])**2)"
   ]
  },
  {
   "cell_type": "markdown",
   "metadata": {},
   "source": [
    "**PROBLEM**: Write a custom function in pure Python to calculate a Euclidean distance matrix between a list of points; return a quasi-matrix as a pure Python \"list of lists.\""
   ]
  },
  {
   "cell_type": "code",
   "execution_count": 15,
   "metadata": {},
   "outputs": [],
   "source": [
    "def distance_matrix(points):\n",
    "    \"\"\" Function to calculate the point to point distances between a list of points.\n",
    "        Return values in a quasi-\"matrix\" in the pure python form of a list-of-lists.\n",
    "        \n",
    "        Args:      \n",
    "              points      A list of coordinates. For example: [(1,3), (4,9), (5,7)]\n",
    "    \"\"\"\n",
    "    n = len(points)\n",
    "    arr = [[] for x in range(n)]\n",
    "    for i in range(n):\n",
    "        for j in range(n):\n",
    "            arr[i].append(distance(points[i],points[j]))\n",
    "    return arr"
   ]
  },
  {
   "cell_type": "markdown",
   "metadata": {},
   "source": [
    "**PROBLEM**: Write a custom function in pure Python to calculate the centroid of a cluster of coordinates."
   ]
  },
  {
   "cell_type": "code",
   "execution_count": 16,
   "metadata": {},
   "outputs": [],
   "source": [
    "def centroid(points):\n",
    "    \"\"\" Function to calculate and return the (x,y) coordinates for the centroid of a list of such (x,y) coordinates.\n",
    "        Args:  \n",
    "              points      A list of coordinates for the cluster. For example: [(1,3), (4,9), (5,7)]\n",
    "    \"\"\"\n",
    "    n = len(points)\n",
    "    x_avg = sum([x[0] for x in points])/n\n",
    "    y_avg = sum([x[1] for x in points])/n\n",
    "    return (x_avg,y_avg)\n",
    "    "
   ]
  },
  {
   "cell_type": "markdown",
   "metadata": {},
   "source": [
    "**PROBLEM**: Write a custom function in pure Python to calculate the Euclidean distance between the closest points between two different clusters."
   ]
  },
  {
   "cell_type": "code",
   "execution_count": 17,
   "metadata": {},
   "outputs": [],
   "source": [
    "def separation(cluster_a, cluster_b):\n",
    "    \"\"\" Function to calculate and return the Euclidean distance between the closest points between two different clusters.\n",
    "        \n",
    "        Args:  \n",
    "              points      A list of coordinates for the cluster. For example: [(1,3), (4,9), (5,7)]\n",
    "    \"\"\"\n",
    "    min_dist = math.inf\n",
    "    for point_a in cluster_a:\n",
    "        for point_b in cluster_b:\n",
    "            if distance(point_a, point_b)<min_dist:\n",
    "                min_dist=distance(point_a, point_b)\n",
    "                \n",
    "    return min_dist"
   ]
  },
  {
   "cell_type": "markdown",
   "metadata": {},
   "source": [
    "**PROBLEM**: Write a custom function in pure Python to calculate the distortion of a cluster. Define \"distortion\" as the sum of the squared distances of each point to the centroid of the cluster."
   ]
  },
  {
   "cell_type": "code",
   "execution_count": 18,
   "metadata": {},
   "outputs": [],
   "source": [
    "def distortion(points):\n",
    "    \"\"\" Function to calculate and return the distortion of a cluster. \n",
    "        Distortion is defined as the sum of the squared distances of each point to the centroid of the cluster.\n",
    "        \n",
    "        Args:  \n",
    "              points      A list of coordinates for the cluster. For example: [(1,3), (4,9), (5,7)]\n",
    "    \"\"\"\n",
    "    center = centroid(points)\n",
    "    return sum([distance(point,center)**2 for point in points])"
   ]
  },
  {
   "cell_type": "markdown",
   "metadata": {},
   "source": [
    "**PROBLEM**:  Use the custom distance_matrix() function coded above to calculate the distance matrix between all observations. Try to print this out in a readable format (optional)."
   ]
  },
  {
   "cell_type": "code",
   "execution_count": 24,
   "metadata": {},
   "outputs": [
    {
     "data": {
      "text/plain": [
       "[['0.00', '1.00', '4.00', '6.00', '4.00', '3.61', '5.00'],\n",
       " ['1.00', '0.00', '3.00', '5.00', '4.12', '3.16', '4.47'],\n",
       " ['4.00', '3.00', '0.00', '2.00', '5.66', '3.61', '4.12'],\n",
       " ['6.00', '5.00', '2.00', '0.00', '7.21', '5.00', '5.00'],\n",
       " ['4.00', '4.12', '5.66', '7.21', '0.00', '2.24', '3.00'],\n",
       " ['3.61', '3.16', '3.61', '5.00', '2.24', '0.00', '1.41'],\n",
       " ['5.00', '4.47', '4.12', '5.00', '3.00', '1.41', '0.00']]"
      ]
     },
     "execution_count": 24,
     "metadata": {},
     "output_type": "execute_result"
    }
   ],
   "source": [
    "# Calc and print distance matrix between all observations\n",
    "[[(\"%.2f\" % x) for x in y] for y in distance_matrix(data)]"
   ]
  },
  {
   "cell_type": "markdown",
   "metadata": {},
   "source": [
    "**PROBLEM**: We started with seven \"clusters\" with one observation in each cluster. Now use hierarchical agglomerative clustering to fuse the data together (going from the bottom up). Use the distance matrix above to help you perform this step. You may do it manually (by inspecting the matrix) or you may do it programmatically. Once you decide the proper order of fusing clusters, make variable assignments by updating the code below."
   ]
  },
  {
   "cell_type": "code",
   "execution_count": 25,
   "metadata": {},
   "outputs": [],
   "source": [
    "# Define the next 6 clusters by defining a variable that holds a list of all the points in that cluster\n",
    "cluster_1 = a + b\n",
    "cluster_2 = f + g\n",
    "cluster_3 = c + d\n",
    "cluster_4 = cluster_2 + e\n",
    "cluster_5 = cluster_4 + cluster_1\n",
    "cluster_6 = cluster_3 + cluster_5"
   ]
  },
  {
   "cell_type": "markdown",
   "metadata": {},
   "source": [
    "**PROBLEM**: Summarize the clustering process by printing out values for the items in the cluser, the separation distance between the old relevant clusters before fusing, the internal distortion within the new cluster after fusing, and the members of the new cluster after fusing."
   ]
  },
  {
   "cell_type": "code",
   "execution_count": 42,
   "metadata": {},
   "outputs": [
    {
     "name": "stdout",
     "output_type": "stream",
     "text": [
      " CLUSTER    DISTANCE       DISTORTION      MEMBERS\n",
      "cluster_1     1.00            0.50          [(1, 1), (2, 1)]\n",
      "cluster_2     1.41            1.00          [(3, 4), (4, 5)]\n",
      "cluster_3     2.00            2.00          [(5, 1), (7, 1)]\n",
      "cluster_4     2.24            5.33          [(3, 4), (4, 5), (1, 5)]\n",
      "cluster_5     3.00            23.60         [(3, 4), (4, 5), (1, 5), (1, 1), (2, 1)]\n",
      "cluster_6     3.16            53.14         [(5, 1), (7, 1), (3, 4), (4, 5), (1, 5), (1, 1), (2, 1)]\n"
     ]
    }
   ],
   "source": [
    "# Print out the following values for each of the clusters with 2 or more observations in them\n",
    "print('CLUSTER'.center(10), 'DISTANCE'.center(10), 'DISTORTION'.center(20), 'MEMBERS')\n",
    "\n",
    "print(\"cluster_1\".center(10), \"  \" , (\"%.2f\" % distance(a[0],b[0])), \"          \", (\"%.2f\" % distortion(cluster_1)), \"        \", cluster_1)\n",
    "print(\"cluster_2\".center(10), \"  \" , (\"%.2f\" % distance(f[0],g[0])), \"          \", (\"%.2f\" % distortion(cluster_2)), \"        \", cluster_2)\n",
    "print(\"cluster_3\".center(10), \"  \" , (\"%.2f\" % distance(c[0],d[0])), \"          \", (\"%.2f\" % distortion(cluster_3)), \"        \", cluster_3)\n",
    "print(\"cluster_4\".center(10), \"  \" , (\"%.2f\" % distance(e[0],f[0])), \"          \", (\"%.2f\" % distortion(cluster_4)), \"        \", cluster_4)\n",
    "print(\"cluster_5\".center(10), \"  \" , (\"%.2f\" % distance(b[0],c[0])), \"          \", (\"%.2f\" % distortion(cluster_5)), \"       \", cluster_5)\n",
    "print(\"cluster_6\".center(10), \"  \" , (\"%.2f\" % distance(b[0],f[0])), \"          \", (\"%.2f\" % distortion(cluster_6)), \"       \", cluster_6)"
   ]
  },
  {
   "cell_type": "markdown",
   "metadata": {},
   "source": [
    "**PROBLEM**: Plot the data again, but this time also plot a rectangle around each cluster, fusing clusters upward until everything is in just one cluster. TIP: You can use the plot_data() function from before, and the plot_cluster() function below, to help you with the plotting."
   ]
  },
  {
   "cell_type": "code",
   "execution_count": 43,
   "metadata": {},
   "outputs": [],
   "source": [
    "# You can use this function to add an illustrative box around a given cluster of points in a plot\n",
    "def plot_cluster(ax, cluster):\n",
    "    \"\"\" Function to add an illustrative box around a given cluster of points in a plot.\n",
    "    \n",
    "        Args:  \n",
    "              ax        An axis object from calling plt.subplots() in matplotlib\n",
    "              cluster   A list of coordinates for the cluster. For example: [(1,3), (4,9), (5,7)]\n",
    "    \"\"\"\n",
    "    padding = len(cluster)**2 * 0.05\n",
    "    min_x   = min([x for (x,y) in cluster]) - 0.5 - padding\n",
    "    max_x   = max([x for (x,y) in cluster]) - 0.5 + padding\n",
    "    min_y   = min([y for (x,y) in cluster]) - 0.5 - padding\n",
    "    max_y   = max([y for (x,y) in cluster]) - 0.5 + padding\n",
    "    width   = max_x - min_x + 1  \n",
    "    height  = max_y - min_y + 1.25  \n",
    "    ax.add_patch(patches.Rectangle((min_x,min_y), width, height, linewidth=2, edgecolor='r',facecolor='none'))"
   ]
  },
  {
   "cell_type": "code",
   "execution_count": 48,
   "metadata": {},
   "outputs": [
    {
     "data": {
      "image/png": "[encoded data removed]",
      "text/plain": [
       "<Figure size 432x288 with 1 Axes>"
      ]
     },
     "metadata": {
      "needs_background": "light"
     },
     "output_type": "display_data"
    }
   ],
   "source": [
    "# Plot the Data and plot a box around each hierarchical cluster\n",
    "fig, ax = plot_data(data, labels, xlim=(-2.2,10.2), ylim=(-2.2,8.5))\n",
    "clusters = [cluster_1,cluster_2,cluster_3,cluster_4,cluster_5,cluster_6]\n",
    "for cluster in clusters:\n",
    "    plot_cluster(ax, cluster)"
   ]
  },
  {
   "cell_type": "markdown",
   "metadata": {},
   "source": [
    "**PROBLEM**: Using the data you have calculated above, now plot a dendogram below. You may do this manually usinge the `images/A3-Fig-2.png` file and editing it in an image editing program (save your edits to that file, and commit changes to your repository). Or try to use special functions in matplot lib to plot it directly."
   ]
  },
  {
   "cell_type": "markdown",
   "metadata": {},
   "source": [
    "<img src=\"dendogram.JPG\" width=\"800\" height=\"800\" align=\"center\"/>"
   ]
  },
  {
   "cell_type": "markdown",
   "metadata": {},
   "source": [
    "**PROBLEM**: Using your dendogram, report which observations would be grouped together if you had three clusters."
   ]
  },
  {
   "cell_type": "markdown",
   "metadata": {},
   "source": [
    "Cluster 1: {a,b}"
   ]
  },
  {
   "cell_type": "markdown",
   "metadata": {},
   "source": [
    "Cluster 2: {c,d}"
   ]
  },
  {
   "cell_type": "markdown",
   "metadata": {},
   "source": [
    "Cluster 3: {e,f,g}"
   ]
  },
  {
   "cell_type": "markdown",
   "metadata": {},
   "source": [
    "**PROBLEM**: Using your dendogram, report which observations would be grouped together if you had five clusters."
   ]
  },
  {
   "cell_type": "markdown",
   "metadata": {},
   "source": [
    "Cluster 1: {a,b}"
   ]
  },
  {
   "cell_type": "markdown",
   "metadata": {},
   "source": [
    "Cluster 2: {c}"
   ]
  },
  {
   "cell_type": "markdown",
   "metadata": {},
   "source": [
    "Cluster 3: {d}"
   ]
  },
  {
   "cell_type": "markdown",
   "metadata": {},
   "source": [
    "Cluster 4: {e}"
   ]
  },
  {
   "cell_type": "markdown",
   "metadata": {},
   "source": [
    "Cluster 5: {f,g}"
   ]
  },
  {
   "cell_type": "markdown",
   "metadata": {},
   "source": [
    "# **PART 4**: NOW WE RETURN TO CREDIT DEFAULT PREDICTIONS AS IN ASSIGNMENT 2\n",
    "Repeat the analysis using a logit model. You can start with the code below, as it shows you how to setup, fit, and predict with a logit model in sklearn."
   ]
  },
  {
   "cell_type": "markdown",
   "metadata": {},
   "source": [
    "We now return to the problem of trying to predict the probability of defaulting on a credit card account at a Taiwanese bank. A credit card default happens when a customer fails to pay the minimum due on a credit card bill for more than 6 months. \n",
    "\n",
    "We will use a dataset from a Taiwanese bank with 30,000 observations (Source: *Yeh, I. C., & Lien, C. H. (2009). The comparisons of data mining techniques for the predictive accuracy of probability of default of credit card clients. Expert Systems with Applications, 36(2), 2473-2480.*). Each observation represents an account at the bank at the end of October 2005.  We renamed the variable default_payment_next_month to customer_default. The target variable to predict is `customer_default` -- i.e., whether the customer will default in the following month (1 = Yes or 0 = No). The dataset also includes 23 other explanatory features. \n",
    "\n",
    "Variables are defined as follows:"
   ]
  },
  {
   "cell_type": "markdown",
   "metadata": {},
   "source": [
    "| Feature name     | Variable Type | Description \n",
    "|------------------|---------------|--------------------------------------------------------\n",
    "| customer_default | Binary        | 1 = default in following month; 0 = no default \n",
    "| LIMIT_BAL        | Continuous    | Credit limit   \n",
    "| SEX              | Categorical   | 1 = male; 2 = female\n",
    "| EDUCATION        | Categorical   | 1 = graduate school; 2 = university; 3 = high school; 4 = others\n",
    "| MARRIAGE         | Categorical   | 0 = unknown; 1 = married; 2 = single; 3 = others\n",
    "| AGE              | Continuous    | Age in years  \n",
    "| PAY1             | Categorical   | Repayment status in September, 2005 \n",
    "| PAY2             | Categorical   | Repayment status in August, 2005 \n",
    "| PAY3             | Categorical   | Repayment status in July, 2005 \n",
    "| PAY4             | Categorical   | Repayment status in June, 2005 \n",
    "| PAY5             | Categorical   | Repayment status in May, 2005 \n",
    "| PAY6             | Categorical   | Repayment status in April, 2005 \n",
    "| BILL_AMT1        | Continuous    | Balance in September, 2005  \n",
    "| BILL_AMT2        | Continuous    | Balance in August, 2005  \n",
    "| BILL_AMT3        | Continuous    | Balance in July, 2005  \n",
    "| BILL_AMT4        | Continuous    | Balance in June, 2005 \n",
    "| BILL_AMT5        | Continuous    | Balance in May, 2005  \n",
    "| BILL_AMT6        | Continuous    | Balance in April, 2005  \n",
    "| PAY_AMT1         | Continuous    | Amount paid in September, 2005\n",
    "| PAY_AMT2         | Continuous    | Amount paid in August, 2005\n",
    "| PAY_AMT3         | Continuous    | Amount paid in July, 2005\n",
    "| PAY_AMT4         | Continuous    | Amount paid in June, 2005\n",
    "| PAY_AMT5         | Continuous    | Amount paid in May, 2005\n",
    "| PAY_AMT6         | Continuous    | Amount paid in April, 2005"
   ]
  },
  {
   "cell_type": "markdown",
   "metadata": {},
   "source": [
    "The measurement scale for repayment status is:   \n",
    "\n",
    "    -2 = payment two months in advance   \n",
    "    -1 = payment one month in advance   \n",
    "    0 = pay duly   \n",
    "    1 = payment delay for one month   \n",
    "    2 = payment delay for two months   \n",
    "    3 = payment delay for three months   \n",
    "    4 = payment delay for four months   \n",
    "    5 = payment delay for five months   \n",
    "    6 = payment delay for six months   \n",
    "    7 = payment delay for seven months   \n",
    "    8 = payment delay for eight months   \n",
    "    9 = payment delay for nine months or more  "
   ]
  },
  {
   "cell_type": "markdown",
   "metadata": {},
   "source": [
    "### **Setup AGAIN**  "
   ]
  },
  {
   "cell_type": "markdown",
   "metadata": {},
   "source": [
    "We purposefully have two different setup sections for this assignment. In the sections above you could not use sklearn, so we did not want to import those libraries. Now you CAN use sklearn.\n",
    "\n",
    "**From now on in this assignment, you CAN use sklearn !**"
   ]
  },
  {
   "cell_type": "markdown",
   "metadata": {},
   "source": [
    "### Imports"
   ]
  },
  {
   "cell_type": "code",
   "execution_count": 50,
   "metadata": {},
   "outputs": [],
   "source": [
    "# Standard imports\n",
    "import numpy  as np\n",
    "import pandas as pd\n",
    "import tensorflow as tf\n",
    "from tensorflow import keras\n",
    "\n",
    "import itertools\n",
    "#import pandas_profiling\n",
    "\n",
    "# Plotting\n",
    "import matplotlib.pyplot as plt\n",
    "from matplotlib.colors import ListedColormap\n",
    "%matplotlib inline  \n",
    "import seaborn as sns\n",
    "sns.set(style=\"white\")\n",
    "\n",
    "# scikit-learn\n",
    "from sklearn.dummy           import DummyClassifier\n",
    "from sklearn.linear_model    import LogisticRegression\n",
    "from sklearn.svm             import SVC\n",
    "from sklearn.neighbors       import KNeighborsClassifier\n",
    "from sklearn.tree            import DecisionTreeClassifier\n",
    "from sklearn.ensemble        import RandomForestClassifier\n",
    "from sklearn.ensemble        import GradientBoostingClassifier\n",
    "\n",
    "# Supporting functions from scikit-learn\n",
    "from sklearn.metrics         import confusion_matrix\n",
    "from sklearn.metrics         import roc_curve\n",
    "from sklearn.metrics         import roc_auc_score\n",
    "from sklearn.pipeline        import Pipeline\n",
    "from sklearn.preprocessing   import StandardScaler\n",
    "from sklearn.model_selection import train_test_split\n",
    "from sklearn.tree            import export_graphviz\n",
    "from sklearn.decomposition   import PCA\n",
    "\n",
    "# ignore some warnings \n",
    "import warnings\n",
    "warnings.filterwarnings('ignore')"
   ]
  },
  {
   "cell_type": "markdown",
   "metadata": {},
   "source": [
    "### Constants"
   ]
  },
  {
   "cell_type": "code",
   "execution_count": 51,
   "metadata": {},
   "outputs": [],
   "source": [
    "# Set a seed for replication\n",
    "SEED = 1"
   ]
  },
  {
   "cell_type": "markdown",
   "metadata": {},
   "source": [
    "### Custom Functions"
   ]
  },
  {
   "cell_type": "markdown",
   "metadata": {},
   "source": [
    "We will also define a few \"helper functions\" to automate repetitive tasks that we will perform below."
   ]
  },
  {
   "cell_type": "code",
   "execution_count": 52,
   "metadata": {},
   "outputs": [],
   "source": [
    "def plot_confusion_matrix(cm, classes=[0,1], normalize=False, title='Confusion Matrix', cmap=plt.cm.Reds):\n",
    "    \"\"\" \n",
    "    Function to plot a sklearn confusion matrix, showing number of cases per prediction condition \n",
    "    \n",
    "    Args:\n",
    "        cm         an sklearn confusion matrix\n",
    "        classes    levels of the class being predicted; default to binary outcome\n",
    "        normalize  apply normalization by setting `normalize=True`\n",
    "        title      title for the plot\n",
    "        cmap       color map\n",
    "    \"\"\"\n",
    "    plt.imshow(cm, interpolation='nearest', cmap=cmap)\n",
    "    plt.title(title)\n",
    "    plt.colorbar()\n",
    "    tick_marks = np.arange(len(classes))\n",
    "    plt.xticks(tick_marks, classes, rotation=45)\n",
    "    plt.yticks(tick_marks, classes)\n",
    "    if normalize:\n",
    "        cm = cm.astype('float') / cm.sum(axis=1)[:, np.newaxis]\n",
    "    thresh = cm.max() / 2.0\n",
    "    for i, j in itertools.product(range(cm.shape[0]), range(cm.shape[1])):\n",
    "        plt.text(j, i, round (cm[i, j],2), horizontalalignment=\"center\",\n",
    "                 color=\"white\" if cm[i, j] > thresh else \"black\")\n",
    "    plt.tight_layout()\n",
    "    plt.ylabel('Actual label')\n",
    "    plt.xlabel('Predicted label')"
   ]
  },
  {
   "cell_type": "code",
   "execution_count": 53,
   "metadata": {},
   "outputs": [],
   "source": [
    "def plot_roc(fpr, tpr, title='ROC Curve', note=''):\n",
    "    \"\"\"\n",
    "    Function to plot an ROC curve in a consistent way.\n",
    "    \n",
    "    Args:\n",
    "        fpr        False Positive Rate (list of multiple points)\n",
    "        tpr        True Positive Rate (list of multiple points)\n",
    "        title      Title above the plot\n",
    "        note       Note to display in the bottom-right of the plot\n",
    "    \"\"\"\n",
    "    plt.figure(1)\n",
    "    plt.plot([0, 1], [0, 1], 'k--')\n",
    "    plt.plot(fpr, tpr)\n",
    "    plt.xlabel('False positive rate')\n",
    "    plt.ylabel('True positive rate')\n",
    "    plt.title(title)\n",
    "    if note: plt.text(0.6, 0.2, note)\n",
    "    plt.show()"
   ]
  },
  {
   "cell_type": "code",
   "execution_count": 54,
   "metadata": {},
   "outputs": [],
   "source": [
    "def print_feature_importance(tree_model, feature_names):\n",
    "    \"\"\"\n",
    "    Function to print a list of features from an sklearn tree model (ranked by importance of the feature)\n",
    "    \n",
    "    Args:\n",
    "        tree_model       A sklearn DecisionTreeClassifier()\n",
    "        feature_names    A list of features used by the DecisionTreeClassifier\n",
    "    \"\"\"\n",
    "    print('Feature'.center(12), '   ',  'Importance')\n",
    "    print('=' * 30)\n",
    "    for index in reversed(np.argsort(tree_model.feature_importances_)):\n",
    "        print(str(feature_names[index]).center(12) , '   ', '{0:.4f}'.format(tree_model.feature_importances_[index]).center(8)) "
   ]
  },
  {
   "cell_type": "markdown",
   "metadata": {},
   "source": [
    "### **Load and Preprocess Data**"
   ]
  },
  {
   "cell_type": "code",
   "execution_count": 55,
   "metadata": {},
   "outputs": [],
   "source": [
    "# Load Data\n",
    "data = pd.read_csv('data/credit_data.csv')\n",
    "\n",
    "# One-hot-encode SEX and MARRIAGE  \n",
    "data = pd.get_dummies(data=data, columns=['SEX', 'MARRIAGE'])\n",
    "\n",
    "# Sort Columns alphabetically\n",
    "data = data.reindex(sorted(data.columns), axis=1)\n",
    "\n",
    "# Move target variable to first column (not necessary, but easier to see)\n",
    "data = data.set_index('customer_default').reset_index() \n",
    "\n",
    "# Select target\n",
    "y = np.array(data['customer_default'])\n",
    "\n",
    "# Select features \n",
    "features = list(set(list(data.columns)) - set(['customer_default']))\n",
    "X = data.loc[:, features]"
   ]
  },
  {
   "cell_type": "markdown",
   "metadata": {},
   "source": [
    "## A Discussion of Models and Results from Assignment 2..."
   ]
  },
  {
   "cell_type": "markdown",
   "metadata": {},
   "source": [
    "What might we do to improve our prediction models from Assignment 2?"
   ]
  },
  {
   "cell_type": "markdown",
   "metadata": {},
   "source": [
    "**Accuracy?**"
   ]
  },
  {
   "cell_type": "markdown",
   "metadata": {},
   "source": [
    "**PROBLEM**: Note that the logit model in Assignment 2 did WORSE than the baseline model in Assignment 2 (at least when predicting class labels with a default probability threshold and when evaluated by the total number of errors made by the model). Using accuracy to compare models, however, has two drawbacks for the credit default problem. Describe those problems and potential solutions."
   ]
  },
  {
   "cell_type": "markdown",
   "metadata": {},
   "source": [
    "ANSWER:\n",
    "* We should compare the models taking into consideration their goals. In this problem, we want to predict if a customer will have default in the next month. Which is why it is more important for us to have a high True Positive Rate to be able to detect all people who will have default. The accuracy measure does not capture the TPR, hence for this problem the **Recall** of the model is a better measure than the accuracy.\n",
    "\n",
    "* Because our datadet is unbalanced (there are less people who will default in the next month), the accuracy is not a good measure: if our model labels everyone as 0, we will still have a very good accuracy because in our dataset we have lot fewer people labeled as 1. We can solve this problem by **undersampling** 0 labeled data or by **oversampling** 1 labeled data."
   ]
  },
  {
   "cell_type": "markdown",
   "metadata": {},
   "source": [
    "**PROBLEM**: When do we need to standardize data?"
   ]
  },
  {
   "cell_type": "markdown",
   "metadata": {},
   "source": [
    "ANSWER:\n",
    "* We need to standardize data if in our dataset we have **features at different scales**. This is because for such a dataset, the distance metric will highly depend on the features which are at higher scale and fail to be representative of the features at lower scale.\n",
    "\n",
    "* For that reason, any machine learning model which **uses distance as a metric** will work better on standardized data."
   ]
  },
  {
   "cell_type": "markdown",
   "metadata": {},
   "source": [
    "**PROBLEM**: When do we need to use a _Pipeline_? (And what is an sklearn Pipeline, anyway?) TIP: You will need to do some self-directed learning about pipelines in sklearn..."
   ]
  },
  {
   "cell_type": "markdown",
   "metadata": {},
   "source": [
    "ANSWER:\n",
    "* We use a pipeline if we need to perform different transformations (for example normalization, encoding categorical variables, dealing with missing values, log transformation, etc) and then apply a classifier of regressor.\n",
    "* Sklearn pipeline is used to chain multiple estimators into one. All estimators in a pipeline, except the last one, must be transformers. The last estimator may be any type (transformer, classifier, etc.).[source](https://scikit-learn.org/stable/modules/compose.html)\n"
   ]
  },
  {
   "cell_type": "markdown",
   "metadata": {},
   "source": [
    "**PROBLEM**: Was our training/testing method in Assignment 2 robust? What would make it more robust?"
   ]
  },
  {
   "cell_type": "markdown",
   "metadata": {},
   "source": [
    "ANSWER:\n",
    "* Our training/testing method was not robust to overfitting because we used the whole training set for training the models. If we don't use a validation set, we have no way to know if our model is overfitting the training set. \n",
    "* We should have seperated our training data into training and testing. We could also use cross-validation to be able to use the entire data for both training and testing."
   ]
  },
  {
   "cell_type": "markdown",
   "metadata": {},
   "source": [
    "**PROBLEM**: For all of the problems that follow, divide the data into three parts:  **training** (60%), **validation** (20%) and **test** (20%). In the python code, refer to those subsets as: \n",
    "\n",
    "| Subset      |  Pct.  |  X code var     | Target code var |\n",
    "|-------------|--------|-----------------|-----------------|\n",
    "| training    |  60%   |  X_train_train  | y_train_train\n",
    "| validation  |  20%   | X_train_val     | y_train_val\n",
    "| testing     |  20%   | X_test          | y_test\n"
   ]
  },
  {
   "cell_type": "code",
   "execution_count": 57,
   "metadata": {},
   "outputs": [],
   "source": [
    "# Use the sklearn train_test_split() function to split data into \"train\", \"validation\", and \"test\" \n",
    "\n",
    "X_train, X_test, y_train, y_test= train_test_split(X, y, test_size=0.2, random_state=SEED)\n",
    "X_train_train, X_train_val, y_train_train, y_train_val  = train_test_split(X_train, y_train, test_size=0.25, random_state=SEED)"
   ]
  },
  {
   "cell_type": "markdown",
   "metadata": {},
   "source": [
    "# **PART 5**: Logit Model with L1 Regularization (\"Lasso\")\n",
    "Predict credit default using a logit model. We give you a start with the code below, as it shows you how to setup, fit, and predict with a pipeline in sklearn."
   ]
  },
  {
   "cell_type": "code",
   "execution_count": 58,
   "metadata": {},
   "outputs": [
    {
     "data": {
      "text/plain": [
       "Pipeline(memory=None,\n",
       "         steps=[('standardize',\n",
       "                 StandardScaler(copy=True, with_mean=True, with_std=True)),\n",
       "                ('logit_model_l1',\n",
       "                 LogisticRegression(C=1.0, class_weight=None, dual=False,\n",
       "                                    fit_intercept=True, intercept_scaling=1,\n",
       "                                    l1_ratio=None, max_iter=100,\n",
       "                                    multi_class='warn', n_jobs=None,\n",
       "                                    penalty='l1', random_state=None,\n",
       "                                    solver='warn', tol=0.0001, verbose=0,\n",
       "                                    warm_start=False))],\n",
       "         verbose=False)"
      ]
     },
     "execution_count": 58,
     "metadata": {},
     "output_type": "execute_result"
    }
   ],
   "source": [
    "# Build pipeline   \n",
    "estimators = []\n",
    "estimators.append(('standardize', StandardScaler()))         # tell it to standardize features\n",
    "estimators.append(('logit_model_l1', LogisticRegression()))  # tell it to use a logit model\n",
    "pipeline = Pipeline(estimators) \n",
    "pipeline.set_params(logit_model_l1__penalty='l1')            # tell it to regularize with L1 norm"
   ]
  },
  {
   "cell_type": "markdown",
   "metadata": {},
   "source": [
    "Tune for the optimal amount of regularization (the tuning parameter `c` in sklearn). We will again give you this code to show you the general pattern for how to setup hyper-parameter tuning in sklearn."
   ]
  },
  {
   "cell_type": "code",
   "execution_count": 70,
   "metadata": {},
   "outputs": [],
   "source": [
    "# Tune C  \n",
    "results = []\n",
    "for c in np.logspace(-4, 5, 10):\n",
    "    pipeline.set_params(logit_model_l1__C=c) \n",
    "    pipeline.fit(X_train_train,y_train_train)\n",
    "    y_train_pred = pipeline.predict_proba(X_train_val)       # use validation set during hyper-parameter tuning\n",
    "    auc_lml1 = roc_auc_score(y_train_val, y_train_pred[:,1])   \n",
    "    results.append( (auc_lml1, c)  )\n",
    "logit_model_l1 = pipeline.named_steps['logit_model_l1']      # capture model so we can use it later"
   ]
  },
  {
   "cell_type": "markdown",
   "metadata": {},
   "source": [
    "**PROBLEM**: Make a table of the results from hyper-parameter tuning so you can inspect them. "
   ]
  },
  {
   "cell_type": "code",
   "execution_count": 71,
   "metadata": {},
   "outputs": [
    {
     "data": {
      "text/html": [
       "<div>\n",
       "<style scoped>\n",
       "    .dataframe tbody tr th:only-of-type {\n",
       "        vertical-align: middle;\n",
       "    }\n",
       "\n",
       "    .dataframe tbody tr th {\n",
       "        vertical-align: top;\n",
       "    }\n",
       "\n",
       "    .dataframe thead th {\n",
       "        text-align: right;\n",
       "    }\n",
       "</style>\n",
       "<table border=\"1\" class=\"dataframe\">\n",
       "  <thead>\n",
       "    <tr style=\"text-align: right;\">\n",
       "      <th></th>\n",
       "      <th>Area Under Curve Score</th>\n",
       "      <th>Regularization Tuning Parameter</th>\n",
       "    </tr>\n",
       "  </thead>\n",
       "  <tbody>\n",
       "    <tr>\n",
       "      <th>0</th>\n",
       "      <td>0.500000</td>\n",
       "      <td>0.0001</td>\n",
       "    </tr>\n",
       "    <tr>\n",
       "      <th>1</th>\n",
       "      <td>0.693475</td>\n",
       "      <td>0.0010</td>\n",
       "    </tr>\n",
       "    <tr>\n",
       "      <th>2</th>\n",
       "      <td>0.714536</td>\n",
       "      <td>0.0100</td>\n",
       "    </tr>\n",
       "    <tr>\n",
       "      <th>3</th>\n",
       "      <td>0.715763</td>\n",
       "      <td>0.1000</td>\n",
       "    </tr>\n",
       "    <tr>\n",
       "      <th>4</th>\n",
       "      <td>0.716278</td>\n",
       "      <td>1.0000</td>\n",
       "    </tr>\n",
       "    <tr>\n",
       "      <th>5</th>\n",
       "      <td>0.716321</td>\n",
       "      <td>10.0000</td>\n",
       "    </tr>\n",
       "    <tr>\n",
       "      <th>6</th>\n",
       "      <td>0.716324</td>\n",
       "      <td>100.0000</td>\n",
       "    </tr>\n",
       "    <tr>\n",
       "      <th>7</th>\n",
       "      <td>0.716323</td>\n",
       "      <td>1000.0000</td>\n",
       "    </tr>\n",
       "    <tr>\n",
       "      <th>8</th>\n",
       "      <td>0.716322</td>\n",
       "      <td>10000.0000</td>\n",
       "    </tr>\n",
       "    <tr>\n",
       "      <th>9</th>\n",
       "      <td>0.716323</td>\n",
       "      <td>100000.0000</td>\n",
       "    </tr>\n",
       "  </tbody>\n",
       "</table>\n",
       "</div>"
      ],
      "text/plain": [
       "   Area Under Curve Score  Regularization Tuning Parameter\n",
       "0                0.500000                           0.0001\n",
       "1                0.693475                           0.0010\n",
       "2                0.714536                           0.0100\n",
       "3                0.715763                           0.1000\n",
       "4                0.716278                           1.0000\n",
       "5                0.716321                          10.0000\n",
       "6                0.716324                         100.0000\n",
       "7                0.716323                        1000.0000\n",
       "8                0.716322                       10000.0000\n",
       "9                0.716323                      100000.0000"
      ]
     },
     "execution_count": 71,
     "metadata": {},
     "output_type": "execute_result"
    }
   ],
   "source": [
    "# View results \n",
    "pd.DataFrame(results, columns=[\"Area Under Curve Score\",\"Regularization Tuning Parameter\"])"
   ]
  },
  {
   "cell_type": "markdown",
   "metadata": {},
   "source": [
    "**PROBLEM**: Pick what you believe to be the \"best\" value for c. Justify your selection. "
   ]
  },
  {
   "cell_type": "code",
   "execution_count": 72,
   "metadata": {},
   "outputs": [],
   "source": [
    "# Select best C  \n",
    "c = 100"
   ]
  },
  {
   "cell_type": "markdown",
   "metadata": {},
   "source": [
    "ANSWER:\n",
    "* We should select the parameter value for which AUC is largest. If the regularization parameter is too large our model will underfit the data."
   ]
  },
  {
   "cell_type": "markdown",
   "metadata": {},
   "source": [
    "**PROBLEM**: Test the final model, using the selected best value for C. Report the final testing score and plot the ROC."
   ]
  },
  {
   "cell_type": "code",
   "execution_count": 79,
   "metadata": {},
   "outputs": [
    {
     "data": {
      "image/png": "[encoded data removed]",
      "text/plain": [
       "<Figure size 432x288 with 1 Axes>"
      ]
     },
     "metadata": {},
     "output_type": "display_data"
    },
    {
     "name": "stdout",
     "output_type": "stream",
     "text": [
      "The Area Under Curve=  0.7262515215903423\n"
     ]
    }
   ],
   "source": [
    "# Test final model \n",
    "pipeline.set_params(logit_model_l1__C=c) \n",
    "logit_model_l1 = pipeline.named_steps['logit_model_l1']\n",
    "logit_model_l1.fit(X_train_train,y_train_train)\n",
    "y_test_pred = logit_model_l1.predict_proba(X_test)       # use test set for testing the model\n",
    "\n",
    "# Plot ROC curve\n",
    "fpr, tpr, _ = roc_curve(y_test,y_test_pred[:,1])\n",
    "auc = roc_auc_score(y_test, y_test_pred[:,1])\n",
    "plot_roc(fpr, tpr, 'ROC Curve for Logistic Regression with c=100')\n",
    "print(\"The Area Under Curve= \",auc)"
   ]
  },
  {
   "cell_type": "markdown",
   "metadata": {},
   "source": [
    "**PROBLEM**: Compare coefficients between a standard logit model and a regularized logit model, to see how Lasso drops predictors."
   ]
  },
  {
   "cell_type": "code",
   "execution_count": 88,
   "metadata": {},
   "outputs": [],
   "source": [
    "# Compare coefficients between a standard logit model and a regularized logit model, to see how Lasso drops predictors\n",
    "estimators = []\n",
    "estimators.append(('standardize', StandardScaler()))         # tell it to standardize features\n",
    "estimators.append(('logit_model_l1', LogisticRegression()))  # tell it to use a logit model\n",
    "pipeline_2 = Pipeline(estimators) \n",
    "pipeline_2.set_params(logit_model_l1__penalty='l1')  \n",
    "pipeline_2.set_params(logit_model_l1__C=0)                     # tell it to not use regularization\n",
    "logit_model_no_regularization = pipeline_2.named_steps['logit_model_l1']\n",
    "# we train on the training data, we don't need validation because not hyperparameters to tune\n",
    "logit_model_no_regularization.fit(X_train,y_train)\n",
    "y_test_pred_2 = logit_model_no_regularization.predict_proba(X_test)"
   ]
  },
  {
   "cell_type": "markdown",
   "metadata": {},
   "source": [
    "**PROBLEM**: Comment on which predictors dropped, and why. HINT: Maybe plot a fast-and-rough correlation matrix to test a hunch if you have a hunch."
   ]
  },
  {
   "cell_type": "code",
   "execution_count": null,
   "metadata": {},
   "outputs": [],
   "source": [
    "# Compute correlations\n",
    "\n",
    "\n",
    "    \n",
    "# Make sorted list by absolute value\n",
    "\n",
    "\n",
    "    \n",
    "# Print correlations in rank order descending\n",
    "\n"
   ]
  },
  {
   "cell_type": "markdown",
   "metadata": {},
   "source": [
    "ANSWER: ________ \n",
    "\n",
    "\n",
    "\n",
    "\n",
    "\n",
    "\n"
   ]
  },
  {
   "cell_type": "markdown",
   "metadata": {},
   "source": [
    "# **PART 6**: PCA\n",
    "As an interesting learning exercise, visualize ALL your data in 2 dimensions using PCA. PCA is only able to capture linear variations in the data. For non-linear projections, one could also use T-SNE. However, T-SNE has more tunable parameters compared to PCA."
   ]
  },
  {
   "cell_type": "markdown",
   "metadata": {},
   "source": [
    "**PROBLEM**: Use the sklearn StandardScaler() to standardize all of your features."
   ]
  },
  {
   "cell_type": "code",
   "execution_count": 80,
   "metadata": {},
   "outputs": [],
   "source": [
    "# Standardize ALL features\n",
    "scaler = StandardScaler()\n",
    "X_std = scaler.fit_transform(X)"
   ]
  },
  {
   "cell_type": "markdown",
   "metadata": {},
   "source": [
    "**PROBLEM**: Use the sklearn PCA() function to project ALL features into just two dimensions."
   ]
  },
  {
   "cell_type": "code",
   "execution_count": 81,
   "metadata": {},
   "outputs": [],
   "source": [
    "# Project features into two dimensions\n",
    "pca = PCA(n_components=2)\n",
    "X_pca = pca.fit_transform(X_std)"
   ]
  },
  {
   "cell_type": "markdown",
   "metadata": {},
   "source": [
    "**PROBLEM**: Explore the relationship between the AUC from a standard Logit Model (withOUT using Lasso) and the number of PCA Component Features being used as predictors in the model. In other words, build a `for` loop that tries many numbers of components from PCA in a basic Logit Model.  \n",
    "\n",
    "Hint: you will need to use code like the following in order to build up a pipeline comprised of the StandardScaler(), PCA(), and LogisticRegression() steps.\n",
    "\n",
    "    estimators = []\n",
    "    estimators.append(('standardize', StandardScaler()))\n",
    "    estimators.append(('pca', PCA()))\n",
    "    estimators.append(('model', LogisticRegression()))\n",
    "    pipeline = Pipeline(estimators)\n",
    "    "
   ]
  },
  {
   "cell_type": "code",
   "execution_count": 99,
   "metadata": {},
   "outputs": [
    {
     "data": {
      "text/html": [
       "<div>\n",
       "<style scoped>\n",
       "    .dataframe tbody tr th:only-of-type {\n",
       "        vertical-align: middle;\n",
       "    }\n",
       "\n",
       "    .dataframe tbody tr th {\n",
       "        vertical-align: top;\n",
       "    }\n",
       "\n",
       "    .dataframe thead th {\n",
       "        text-align: right;\n",
       "    }\n",
       "</style>\n",
       "<table border=\"1\" class=\"dataframe\">\n",
       "  <thead>\n",
       "    <tr style=\"text-align: right;\">\n",
       "      <th></th>\n",
       "      <th>Components</th>\n",
       "      <th>Area Under Curve</th>\n",
       "    </tr>\n",
       "  </thead>\n",
       "  <tbody>\n",
       "    <tr>\n",
       "      <th>0</th>\n",
       "      <td>1</td>\n",
       "      <td>0.569649</td>\n",
       "    </tr>\n",
       "    <tr>\n",
       "      <th>1</th>\n",
       "      <td>2</td>\n",
       "      <td>0.680356</td>\n",
       "    </tr>\n",
       "    <tr>\n",
       "      <th>2</th>\n",
       "      <td>3</td>\n",
       "      <td>0.684202</td>\n",
       "    </tr>\n",
       "    <tr>\n",
       "      <th>3</th>\n",
       "      <td>4</td>\n",
       "      <td>0.684249</td>\n",
       "    </tr>\n",
       "    <tr>\n",
       "      <th>4</th>\n",
       "      <td>5</td>\n",
       "      <td>0.692595</td>\n",
       "    </tr>\n",
       "    <tr>\n",
       "      <th>5</th>\n",
       "      <td>6</td>\n",
       "      <td>0.691203</td>\n",
       "    </tr>\n",
       "    <tr>\n",
       "      <th>6</th>\n",
       "      <td>7</td>\n",
       "      <td>0.691756</td>\n",
       "    </tr>\n",
       "    <tr>\n",
       "      <th>7</th>\n",
       "      <td>8</td>\n",
       "      <td>0.692704</td>\n",
       "    </tr>\n",
       "    <tr>\n",
       "      <th>8</th>\n",
       "      <td>9</td>\n",
       "      <td>0.696558</td>\n",
       "    </tr>\n",
       "    <tr>\n",
       "      <th>9</th>\n",
       "      <td>10</td>\n",
       "      <td>0.696511</td>\n",
       "    </tr>\n",
       "    <tr>\n",
       "      <th>10</th>\n",
       "      <td>11</td>\n",
       "      <td>0.695899</td>\n",
       "    </tr>\n",
       "    <tr>\n",
       "      <th>11</th>\n",
       "      <td>12</td>\n",
       "      <td>0.699983</td>\n",
       "    </tr>\n",
       "    <tr>\n",
       "      <th>12</th>\n",
       "      <td>13</td>\n",
       "      <td>0.700282</td>\n",
       "    </tr>\n",
       "    <tr>\n",
       "      <th>13</th>\n",
       "      <td>14</td>\n",
       "      <td>0.702689</td>\n",
       "    </tr>\n",
       "    <tr>\n",
       "      <th>14</th>\n",
       "      <td>15</td>\n",
       "      <td>0.705407</td>\n",
       "    </tr>\n",
       "    <tr>\n",
       "      <th>15</th>\n",
       "      <td>16</td>\n",
       "      <td>0.707602</td>\n",
       "    </tr>\n",
       "    <tr>\n",
       "      <th>16</th>\n",
       "      <td>17</td>\n",
       "      <td>0.707995</td>\n",
       "    </tr>\n",
       "    <tr>\n",
       "      <th>17</th>\n",
       "      <td>18</td>\n",
       "      <td>0.715024</td>\n",
       "    </tr>\n",
       "    <tr>\n",
       "      <th>18</th>\n",
       "      <td>19</td>\n",
       "      <td>0.716891</td>\n",
       "    </tr>\n",
       "    <tr>\n",
       "      <th>19</th>\n",
       "      <td>20</td>\n",
       "      <td>0.715423</td>\n",
       "    </tr>\n",
       "  </tbody>\n",
       "</table>\n",
       "</div>"
      ],
      "text/plain": [
       "    Components  Area Under Curve\n",
       "0            1          0.569649\n",
       "1            2          0.680356\n",
       "2            3          0.684202\n",
       "3            4          0.684249\n",
       "4            5          0.692595\n",
       "5            6          0.691203\n",
       "6            7          0.691756\n",
       "7            8          0.692704\n",
       "8            9          0.696558\n",
       "9           10          0.696511\n",
       "10          11          0.695899\n",
       "11          12          0.699983\n",
       "12          13          0.700282\n",
       "13          14          0.702689\n",
       "14          15          0.705407\n",
       "15          16          0.707602\n",
       "16          17          0.707995\n",
       "17          18          0.715024\n",
       "18          19          0.716891\n",
       "19          20          0.715423"
      ]
     },
     "execution_count": 99,
     "metadata": {},
     "output_type": "execute_result"
    }
   ],
   "source": [
    "# Explore and print out results for the relationship between AUC and the number of PCA Component Features\n",
    "estimators = []\n",
    "estimators.append(('standardize', StandardScaler()))\n",
    "estimators.append(('pca', PCA()))\n",
    "estimators.append(('model', LogisticRegression()))\n",
    "pipeline = Pipeline(estimators)\n",
    "\n",
    "AUC_values = []\n",
    "for i in range(1,21):\n",
    "    pipeline.set_params(model__penalty= 'none')\n",
    "    pipeline.set_params(pca__n_components = i) \n",
    "    pipeline.set_params(model__solver='lbfgs')\n",
    "    pipeline.fit(X_train_train,y_train_train)\n",
    "    y_train_pred = pipeline.predict_proba(X_train_val)\n",
    "    auc = roc_auc_score(y_train_val, y_train_pred[:,1])   \n",
    "    AUC_values.append(auc)\n",
    "d = {'Components': range(1,21), 'Area Under Curve': AUC_values}\n",
    "pd.DataFrame(d)"
   ]
  },
  {
   "cell_type": "markdown",
   "metadata": {},
   "source": [
    "**PROBLEM**: Plot your incremental results (increasing levels of components) from the steps above."
   ]
  },
  {
   "cell_type": "code",
   "execution_count": 100,
   "metadata": {},
   "outputs": [
    {
     "data": {
      "text/plain": [
       "Text(0, 0.5, 'AUC score')"
      ]
     },
     "execution_count": 100,
     "metadata": {},
     "output_type": "execute_result"
    },
    {
     "data": {
      "image/png": "[encoded data removed]",
      "text/plain": [
       "<Figure size 504x216 with 1 Axes>"
      ]
     },
     "metadata": {},
     "output_type": "display_data"
    }
   ],
   "source": [
    "# Plot your incremental results (increasing levels of components) from the steps above.\n",
    "fig, ax = plt.subplots(1,1,figsize=(7,3))\n",
    "ax.plot(range(1,21), AUC_values)\n",
    "ax.set_title(\"AUC for different numbers of PCA components\")\n",
    "ax.set_xlabel('Number of components')\n",
    "ax.set_ylabel('AUC score')"
   ]
  },
  {
   "cell_type": "markdown",
   "metadata": {},
   "source": [
    "# **PART 7**:  K-Nearest Neighbors (KNN)"
   ]
  },
  {
   "cell_type": "markdown",
   "metadata": {},
   "source": [
    "Again to help you get going, we will set up a basic pipeline for hyperparameter tuning K for you..."
   ]
  },
  {
   "cell_type": "code",
   "execution_count": 101,
   "metadata": {},
   "outputs": [],
   "source": [
    "# Build pipeline\n",
    "estimators = []\n",
    "estimators.append(('standardize', StandardScaler()))\n",
    "estimators.append(('knn_model', KNeighborsClassifier()))\n",
    "pipeline = Pipeline(estimators)"
   ]
  },
  {
   "cell_type": "markdown",
   "metadata": {},
   "source": [
    "**PROBLEM**: Tune the KNN model to find the optimal K."
   ]
  },
  {
   "cell_type": "code",
   "execution_count": 102,
   "metadata": {},
   "outputs": [
    {
     "data": {
      "text/plain": [
       "Text(0, 0.5, 'AUC score')"
      ]
     },
     "execution_count": 102,
     "metadata": {},
     "output_type": "execute_result"
    },
    {
     "data": {
      "image/png": "[encoded data removed]",
      "text/plain": [
       "<Figure size 504x216 with 1 Axes>"
      ]
     },
     "metadata": {},
     "output_type": "display_data"
    }
   ],
   "source": [
    "# Tune K\n",
    "AUC_values = []\n",
    "for k in range(1,21):\n",
    "    pipeline.set_params(knn_model__n_neighbors=k) \n",
    "    pipeline.fit(X_train_train,y_train_train)\n",
    "    y_train_pred = pipeline.predict_proba(X_train_val)\n",
    "    auc = roc_auc_score(y_train_val, y_train_pred[:,1])   \n",
    "    AUC_values.append(auc)\n",
    "kn_model = pipeline.named_steps['knn_model'] \n",
    "\n",
    "# View results \n",
    "fig, ax = plt.subplots(1,1,figsize=(7,3))\n",
    "ax.plot(range(1,21), AUC_values)\n",
    "ax.set_title(\"AUC for different numbers of k neighbors\")\n",
    "ax.set_xlabel('K neighbors')\n",
    "ax.set_ylabel('AUC score')"
   ]
  },
  {
   "cell_type": "markdown",
   "metadata": {},
   "source": [
    "**PROBLEM**: What was the best K?"
   ]
  },
  {
   "cell_type": "code",
   "execution_count": 110,
   "metadata": {},
   "outputs": [
    {
     "name": "stdout",
     "output_type": "stream",
     "text": [
      "best value of k:  20\n"
     ]
    }
   ],
   "source": [
    "# Select best K\n",
    "best_k = AUC_values.index(np.max(AUC_values))+1\n",
    "\n",
    "# Print best K neighbor\n",
    "print(\"best value of k: \", best_k)"
   ]
  },
  {
   "cell_type": "markdown",
   "metadata": {},
   "source": [
    "**PROBLEM**: Test your final model and report the AUC."
   ]
  },
  {
   "cell_type": "code",
   "execution_count": 111,
   "metadata": {},
   "outputs": [
    {
     "name": "stdout",
     "output_type": "stream",
     "text": [
      "The Area Under Curve=  0.7386131950133059\n"
     ]
    }
   ],
   "source": [
    "# Test final model \n",
    "pipeline.set_params(knn_model__n_neighbors = best_k) \n",
    "y_test_pred = pipeline.predict_proba(X_test)\n",
    "auc = roc_auc_score(y_test, y_test_pred[:,1])\n",
    "print(\"The Area Under Curve= \",auc)"
   ]
  },
  {
   "cell_type": "code",
   "execution_count": 112,
   "metadata": {},
   "outputs": [
    {
     "data": {
      "image/png": "[encoded data removed]",
      "text/plain": [
       "<Figure size 432x288 with 1 Axes>"
      ]
     },
     "metadata": {},
     "output_type": "display_data"
    }
   ],
   "source": [
    "# Plot ROC\n",
    "# Plot ROC curve\n",
    "fpr, tpr, _ = roc_curve(y_test,y_test_pred[:,1])\n",
    "plot_roc(fpr, tpr, 'ROC Curve for KNN with 20 neighbors')"
   ]
  },
  {
   "cell_type": "markdown",
   "metadata": {},
   "source": [
    "# **PART 8**: Decision Trees\n",
    "\n",
    "Unlike a logit model or a KNN classifier, decision trees are not sensitive to the scaling of categorical features and numeric features. They can find a cut point in arbitrary numeric or categorical features. The implementation of decision trees in sklearn, however, does require categorical features to be one-hot-encoded, even though that is technically not required by the algorithm."
   ]
  },
  {
   "cell_type": "markdown",
   "metadata": {},
   "source": [
    "**PROBLEM**: Fit just one tree using the `DecisionTreeClassifier()` function from sklearn. There is no need to use a pipeline for this step, as it is just one tree."
   ]
  },
  {
   "cell_type": "code",
   "execution_count": 114,
   "metadata": {},
   "outputs": [],
   "source": [
    "# Fit a one-tree Model      \n",
    "decision_tree = DecisionTreeClassifier()\n",
    "decision_tree.fit(X_train_train,y_train_train)\n",
    "y_train_pred = decision_tree.predict_proba(X_train_val)"
   ]
  },
  {
   "cell_type": "markdown",
   "metadata": {},
   "source": [
    "**PROBLEM**: Test the model and report the AUC. HINT: Make sure you are using the test sets every time you do a final test!"
   ]
  },
  {
   "cell_type": "code",
   "execution_count": 116,
   "metadata": {},
   "outputs": [
    {
     "name": "stdout",
     "output_type": "stream",
     "text": [
      "The Area Under Curve=  0.611063062531288\n"
     ]
    }
   ],
   "source": [
    "# Test model\n",
    "y_test_pred = decision_tree.predict_proba(X_test)\n",
    "auc = roc_auc_score(y_test, y_test_pred[:,1])\n",
    "print(\"The Area Under Curve= \",auc)"
   ]
  },
  {
   "cell_type": "markdown",
   "metadata": {},
   "source": [
    "**PROBLEM**: Plot the resulting ROC."
   ]
  },
  {
   "cell_type": "code",
   "execution_count": 117,
   "metadata": {},
   "outputs": [
    {
     "data": {
      "image/png": "[encoded data removed]",
      "text/plain": [
       "<Figure size 432x288 with 1 Axes>"
      ]
     },
     "metadata": {},
     "output_type": "display_data"
    }
   ],
   "source": [
    "# Plot the ROC\n",
    "fpr, tpr, _ = roc_curve(y_test,y_test_pred[:,1])\n",
    "plot_roc(fpr, tpr, 'ROC Curve for 1 decision tree')"
   ]
  },
  {
   "cell_type": "markdown",
   "metadata": {},
   "source": [
    "**PROBLEM**: Use the `print_feature_importance()` function given to you above to print the relative feature importances of this model."
   ]
  },
  {
   "cell_type": "code",
   "execution_count": 118,
   "metadata": {},
   "outputs": [
    {
     "name": "stdout",
     "output_type": "stream",
     "text": [
      "  Feature        Importance\n",
      "==============================\n",
      "   PAY_1          0.1597 \n",
      "     ID           0.0987 \n",
      " BILL_AMT1        0.0588 \n",
      "    AGE           0.0579 \n",
      " LIMIT_BAL        0.0536 \n",
      "  PAY_AMT3        0.0535 \n",
      "  PAY_AMT2        0.0503 \n",
      "  PAY_AMT6        0.0502 \n",
      "  PAY_AMT5        0.0452 \n",
      "  PAY_AMT4        0.0410 \n",
      "  PAY_AMT1        0.0400 \n",
      " BILL_AMT2        0.0379 \n",
      " BILL_AMT4        0.0365 \n",
      " BILL_AMT6        0.0355 \n",
      " BILL_AMT3        0.0350 \n",
      "   PAY_2          0.0342 \n",
      " BILL_AMT5        0.0317 \n",
      " EDUCATION        0.0186 \n",
      "   PAY_3          0.0109 \n",
      "   PAY_5          0.0108 \n",
      "   PAY_6          0.0084 \n",
      "   PAY_4          0.0075 \n",
      "   SEX_1          0.0072 \n",
      "   SEX_2          0.0053 \n",
      " MARRIAGE_1       0.0047 \n",
      " MARRIAGE_2       0.0047 \n",
      " MARRIAGE_3       0.0019 \n",
      " MARRIAGE_0       0.0003 \n"
     ]
    }
   ],
   "source": [
    "# Print feature importance\n",
    "print_feature_importance(decision_tree, features)"
   ]
  },
  {
   "cell_type": "markdown",
   "metadata": {},
   "source": [
    "# **PART 9**: Random Forests\n",
    "\n",
    "Just one tree may be an arbitrary and unreliable model. So next, use the `RandomForestClassifier()` model from sklearn to run a random forest of trees and average across them."
   ]
  },
  {
   "cell_type": "markdown",
   "metadata": {},
   "source": [
    "**PROBLEM**: Build a pipeline for a random forest."
   ]
  },
  {
   "cell_type": "code",
   "execution_count": 119,
   "metadata": {},
   "outputs": [],
   "source": [
    "# Build pipeline\n",
    "estimators = []\n",
    "estimators.append(('standardize', StandardScaler()))\n",
    "estimators.append(('random_forest',RandomForestClassifier()))\n",
    "pipeline = Pipeline(estimators) "
   ]
  },
  {
   "cell_type": "markdown",
   "metadata": {},
   "source": [
    "**PROBLEM**: Tune for N, the number of trees and print out the results so you can find the best N."
   ]
  },
  {
   "cell_type": "code",
   "execution_count": 120,
   "metadata": {},
   "outputs": [
    {
     "data": {
      "text/plain": [
       "Text(0, 0.5, 'AUC score')"
      ]
     },
     "execution_count": 120,
     "metadata": {},
     "output_type": "execute_result"
    },
    {
     "data": {
      "image/png": "[encoded data removed]",
      "text/plain": [
       "<Figure size 504x216 with 1 Axes>"
      ]
     },
     "metadata": {},
     "output_type": "display_data"
    }
   ],
   "source": [
    "# Tune N   \n",
    "AUC_values = []\n",
    "for N in range(1,21):\n",
    "    pipeline.set_params(random_forest__n_estimators=N) \n",
    "    pipeline.fit(X_train_train,y_train_train)\n",
    "    y_train_pred = pipeline.predict_proba(X_train_val)\n",
    "    auc = roc_auc_score(y_train_val, y_train_pred[:,1])   \n",
    "    AUC_values.append(auc)\n",
    "random_forest = pipeline.named_steps['random_forest'] \n",
    "\n",
    "# View results \n",
    "fig, ax = plt.subplots(1,1,figsize=(7,3))\n",
    "ax.plot(range(1,21), AUC_values)\n",
    "ax.set_title(\"AUC for different number of trees in a Random forest model\")\n",
    "ax.set_xlabel('N trees')\n",
    "ax.set_ylabel('AUC score')"
   ]
  },
  {
   "cell_type": "code",
   "execution_count": 121,
   "metadata": {},
   "outputs": [
    {
     "name": "stdout",
     "output_type": "stream",
     "text": [
      "best value of N:  19\n"
     ]
    }
   ],
   "source": [
    "# Select best N\n",
    "best_N = AUC_values.index(np.max(AUC_values))+1\n",
    "\n",
    "# Print best N forests\n",
    "print(\"best value of N: \", best_N)"
   ]
  },
  {
   "cell_type": "markdown",
   "metadata": {},
   "source": [
    "**PROBLEM**: Test the model and report the AUC. HINT: Make sure you are using the test sets every time you do a final test!"
   ]
  },
  {
   "cell_type": "code",
   "execution_count": 122,
   "metadata": {},
   "outputs": [],
   "source": [
    "# Test final model\n",
    "pipeline.set_params(random_forest__n_estimators = best_N) \n",
    "y_test_pred = pipeline.predict_proba(X_test) "
   ]
  },
  {
   "cell_type": "markdown",
   "metadata": {},
   "source": [
    "**PROBLEM**: Plot the resulting ROC."
   ]
  },
  {
   "cell_type": "code",
   "execution_count": 123,
   "metadata": {},
   "outputs": [
    {
     "data": {
      "image/png": "[encoded data removed]",
      "text/plain": [
       "<Figure size 432x288 with 1 Axes>"
      ]
     },
     "metadata": {},
     "output_type": "display_data"
    }
   ],
   "source": [
    "# Plot the ROC\n",
    "fpr, tpr, _ = roc_curve(y_test,y_test_pred[:,1])\n",
    "plot_roc(fpr, tpr, 'ROC Curve for 19 decision trees')"
   ]
  },
  {
   "cell_type": "markdown",
   "metadata": {},
   "source": [
    "**PROBLEM**: Use the `print_feature_importance()` function given to you above to print the relative feature importances of this model."
   ]
  },
  {
   "cell_type": "code",
   "execution_count": 124,
   "metadata": {},
   "outputs": [
    {
     "name": "stdout",
     "output_type": "stream",
     "text": [
      "  Feature        Importance\n",
      "==============================\n",
      "   PAY_1          0.0924 \n",
      "     ID           0.0718 \n",
      "    AGE           0.0540 \n",
      " BILL_AMT1        0.0539 \n",
      " LIMIT_BAL        0.0499 \n",
      " BILL_AMT2        0.0489 \n",
      " BILL_AMT6        0.0472 \n",
      "  PAY_AMT1        0.0471 \n",
      "   PAY_2          0.0465 \n",
      " BILL_AMT3        0.0463 \n",
      " BILL_AMT4        0.0447 \n",
      "  PAY_AMT2        0.0441 \n",
      " BILL_AMT5        0.0431 \n",
      "  PAY_AMT6        0.0427 \n",
      "  PAY_AMT3        0.0424 \n",
      "  PAY_AMT4        0.0398 \n",
      "  PAY_AMT5        0.0391 \n",
      "   PAY_3          0.0325 \n",
      "   PAY_4          0.0220 \n",
      "   PAY_5          0.0210 \n",
      " EDUCATION        0.0177 \n",
      "   PAY_6          0.0175 \n",
      "   SEX_2          0.0087 \n",
      " MARRIAGE_1       0.0085 \n",
      "   SEX_1          0.0084 \n",
      " MARRIAGE_2       0.0079 \n",
      " MARRIAGE_3       0.0014 \n",
      " MARRIAGE_0       0.0003 \n"
     ]
    }
   ],
   "source": [
    "# Print feature importance\n",
    "print_feature_importance(random_forest, features)"
   ]
  },
  {
   "cell_type": "code",
   "execution_count": null,
   "metadata": {},
   "outputs": [],
   "source": []
  }
 ],
 "metadata": {
  "kernelspec": {
   "display_name": "Python 3",
   "language": "python",
   "name": "python3"
  },
  "language_info": {
   "codemirror_mode": {
    "name": "ipython",
    "version": 3
   },
   "file_extension": ".py",
   "mimetype": "text/x-python",
   "name": "python",
   "nbconvert_exporter": "python",
   "pygments_lexer": "ipython3",
   "version": "3.7.0"
  },
  "toc": {
   "base_numbering": 1,
   "nav_menu": {},
   "number_sections": false,
   "sideBar": true,
   "skip_h1_title": false,
   "title_cell": "Table of Contents",
   "title_sidebar": "Contents",
   "toc_cell": true,
   "toc_position": {},
   "toc_section_display": true,
   "toc_window_display": false
  }
 },
 "nbformat": 4,
 "nbformat_minor": 4
}
