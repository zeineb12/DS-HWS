{
 "cells": [
  {
   "cell_type": "code",
   "execution_count": 202,
   "metadata": {},
   "outputs": [],
   "source": [
    "import itertools\n",
    "import string\n",
    "from tqdm import tqdm\n",
    "import hashlib"
   ]
  },
  {
   "cell_type": "code",
   "execution_count": 203,
   "metadata": {},
   "outputs": [],
   "source": [
    "encoded_passwords=[\"6997a8e7d64cbf1072a2acd248297d8fd5f8709c6b06e07ed5e0d74d88ea1e59\",\n",
    "\"ebab886bc2438da36092600e6cdc4da270b31124a88cc6d86683c3b0b05fc312\",\n",
    "\"5315e6002173171d13ddfa0222d9293402c803131dd6d53e3cd3aad054d0092a\",\n",
    "\"68f6be7ffce146abbc695bb9c5192926e08c5789d84a290af87d47ece4d2c813\",\n",
    "\"9a6ffe1ba099c1b95a24303a53aaf7b36e5295840d9c040ac2601288aef9a2fc\",\n",
    "\"2a72fc0849fc10fce58df2e9b027a83d474a806bc2f6372c1c365c599b49fa7d\",\n",
    "\"ef086ca981b7c90bace581ae7b25f83473755437dac5dc975b8e9cdbefa24702\",\n",
    "\"f7bc34c3fcddbf428c7f83fb982e49eac808558818c32a8f6eb5ba910e56ef62\",\n",
    "\"4022bb92449aa8e6c1103c795155c8b37d66276651d3cce9991472c012900d88\",\n",
    "\"99ecc30d897039cd6f24012914176a7843cd1823dd4a602c3e14dd981d78ab46\"]"
   ]
  },
  {
   "cell_type": "code",
   "execution_count": 206,
   "metadata": {},
   "outputs": [
    {
     "name": "stderr",
     "output_type": "stream",
     "text": [
      "\r",
      "  0%|          | 0/3 [00:00<?, ?it/s]"
     ]
    },
    {
     "name": "stdout",
     "output_type": "stream",
     "text": [
      "e08s\n"
     ]
    },
    {
     "name": "stderr",
     "output_type": "stream",
     "text": [
      "\r",
      " 33%|███▎      | 1/3 [00:03<00:07,  3.83s/it]"
     ]
    },
    {
     "name": "stdout",
     "output_type": "stream",
     "text": [
      "bhcir\n",
      "r3d2l\n",
      "twwzo\n",
      "zakvp\n",
      "3f6za\n"
     ]
    },
    {
     "name": "stderr",
     "output_type": "stream",
     "text": [
      "\r",
      " 67%|██████▋   | 2/3 [02:23<00:44, 44.70s/it]"
     ]
    },
    {
     "name": "stdout",
     "output_type": "stream",
     "text": [
      "baresb\n",
      "l4ju8i\n",
      "r7nr2o\n",
      "uipki1\n"
     ]
    }
   ],
   "source": [
    "clear_psswords = list()\n",
    "chars = string.ascii_lowercase + string.digits\n",
    "for password_length in tqdm(range(4, 7)):\n",
    "        for guess in itertools.product(chars, repeat=password_length):\n",
    "            guess = ''.join(guess)\n",
    "            guessHash= hashlib.sha256(guess.encode()).hexdigest()\n",
    "            if guessHash in encoded_passwords:\n",
    "                clear_psswords.append(guess)\n",
    "                print(guess)\n",
    "            if(len(clear_psswords)==10):\n",
    "                break;\n",
    "        if(len(clear_psswords)==10):\n",
    "                break;"
   ]
  },
  {
   "cell_type": "code",
   "execution_count": null,
   "metadata": {},
   "outputs": [],
   "source": [
    "print(clear_psswords)"
   ]
  }
 ],
 "metadata": {
  "kernelspec": {
   "display_name": "Python 3",
   "language": "python",
   "name": "python3"
  },
  "language_info": {
   "codemirror_mode": {
    "name": "ipython",
    "version": 3
   },
   "file_extension": ".py",
   "mimetype": "text/x-python",
   "name": "python",
   "nbconvert_exporter": "python",
   "pygments_lexer": "ipython3",
   "version": "3.7.1"
  }
 },
 "nbformat": 4,
 "nbformat_minor": 2
}
