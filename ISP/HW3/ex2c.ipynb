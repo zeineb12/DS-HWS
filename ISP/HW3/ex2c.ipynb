{
 "cells": [
  {
   "cell_type": "code",
   "execution_count": 5,
   "metadata": {},
   "outputs": [],
   "source": [
    "import string\n",
    "from tqdm import tqdm\n",
    "import hashlib"
   ]
  },
  {
   "cell_type": "code",
   "execution_count": 6,
   "metadata": {},
   "outputs": [],
   "source": [
    "encoded_passwords=[\"a98838fc9250ffb9d9e4eb1e209f61ee7dd08c96c719fee8a12cb664bdc6bfc8\",\n",
    "\"eb940e2f316fffb51ab3f219e4a4872b81d103bafef8f01c18d7bfa1685bc42c\",\n",
    "\"6199ecc0241b30a55c4fae5a2167ca6e73fa05c736fac5cfb5e38ca847a65df8\",\n",
    "\"8dacc8be782b853c008f4d57b6ba1cdf7d4bb15e4e9bd1ece38ac1e37c65dab2\",\n",
    "\"4440382c81972f0f1a685b7d94da6eff16b90b3f39fbf10ada827c09c5a4e4b1\",\n",
    "\"551120318b71bae5cfbd544c9ad7b1ec9e2ff9800cbe55ac0ffa3f6752a62b4f\",\n",
    "\"d79e4f23039cf3d8f855dbc8d06b2db033a0808dab5843eca73877afd770ff6e\",\n",
    "\"a6dae872d234f1f298aedb78303dc02f3b3ec027aa48a5c0af83096ef45663e2\",\n",
    "\"9356b3089475e177dbfb8068410079ee880cbdb9ec583f50d7411fd6875053ba\",\n",
    "\"8818756d1313ebdf209179147aa29297e6ef20760a3d29f5394c72fbf2dc5231\"]\n",
    "salt=[\"5d\", \"f4\", \"a1\", \"45\", \"a3\", \"47\", \"50\", \"dc\", \"0e\", \"12\"]\n",
    "encoded_passwords = set(encoded_passwords)\n",
    "clear_psswords = list()"
   ]
  },
  {
   "cell_type": "code",
   "execution_count": 7,
   "metadata": {},
   "outputs": [],
   "source": [
    "with open(\"rockyou.txt\", errors = 'ignore') as f:\n",
    "    file = f.readlines()\n",
    "file=list(map(lambda x:x.strip(),file))"
   ]
  },
  {
   "cell_type": "code",
   "execution_count": null,
   "metadata": {},
   "outputs": [
    {
     "name": "stderr",
     "output_type": "stream",
     "text": [
      " 13%|█▎        | 1825719/14344391 [00:35<04:23, 47449.99it/s]"
     ]
    },
    {
     "name": "stdout",
     "output_type": "stream",
     "text": [
      "evonne08    hash   : 8818756d1313ebdf209179147aa29297e6ef20760a3d29f5394c72fbf2dc5231\n"
     ]
    },
    {
     "name": "stderr",
     "output_type": "stream",
     "text": [
      " 15%|█▍        | 2081206/14344391 [00:40<03:52, 52654.98it/s]"
     ]
    },
    {
     "name": "stdout",
     "output_type": "stream",
     "text": [
      "achanzar    hash   : a6dae872d234f1f298aedb78303dc02f3b3ec027aa48a5c0af83096ef45663e2\n"
     ]
    },
    {
     "name": "stderr",
     "output_type": "stream",
     "text": [
      " 17%|█▋        | 2396354/14344391 [00:46<03:48, 52267.07it/s]"
     ]
    },
    {
     "name": "stdout",
     "output_type": "stream",
     "text": [
      "1017052    hash   : 6199ecc0241b30a55c4fae5a2167ca6e73fa05c736fac5cfb5e38ca847a65df8\n"
     ]
    },
    {
     "name": "stderr",
     "output_type": "stream",
     "text": [
      " 26%|██▌       | 3730407/14344391 [01:14<04:30, 39192.99it/s]"
     ]
    },
    {
     "name": "stdout",
     "output_type": "stream",
     "text": [
      "sk55134    hash   : d79e4f23039cf3d8f855dbc8d06b2db033a0808dab5843eca73877afd770ff6e\n"
     ]
    },
    {
     "name": "stderr",
     "output_type": "stream",
     "text": [
      " 52%|█████▏    | 7414273/14344391 [02:26<02:15, 51029.28it/s]"
     ]
    },
    {
     "name": "stdout",
     "output_type": "stream",
     "text": [
      "iloveedw4    hash   : 9356b3089475e177dbfb8068410079ee880cbdb9ec583f50d7411fd6875053ba\n"
     ]
    },
    {
     "name": "stderr",
     "output_type": "stream",
     "text": [
      " 61%|██████    | 8741994/14344391 [02:52<01:46, 52383.52it/s]"
     ]
    },
    {
     "name": "stdout",
     "output_type": "stream",
     "text": [
      "dd1026    hash   : 8dacc8be782b853c008f4d57b6ba1cdf7d4bb15e4e9bd1ece38ac1e37c65dab2\n"
     ]
    },
    {
     "name": "stderr",
     "output_type": "stream",
     "text": [
      " 66%|██████▌   | 9474949/14344391 [03:06<01:35, 51067.23it/s]"
     ]
    },
    {
     "name": "stdout",
     "output_type": "stream",
     "text": [
      "briahna28    hash   : 4440382c81972f0f1a685b7d94da6eff16b90b3f39fbf10ada827c09c5a4e4b1\n"
     ]
    },
    {
     "name": "stderr",
     "output_type": "stream",
     "text": [
      " 68%|██████▊   | 9695012/14344391 [03:11<01:29, 52169.90it/s]"
     ]
    },
    {
     "name": "stdout",
     "output_type": "stream",
     "text": [
      "bere471    hash   : a98838fc9250ffb9d9e4eb1e209f61ee7dd08c96c719fee8a12cb664bdc6bfc8\n"
     ]
    },
    {
     "name": "stderr",
     "output_type": "stream",
     "text": [
      " 76%|███████▌  | 10878072/14344391 [03:35<01:20, 42942.91it/s]"
     ]
    },
    {
     "name": "stdout",
     "output_type": "stream",
     "text": [
      "MHONAH    hash   : 551120318b71bae5cfbd544c9ad7b1ec9e2ff9800cbe55ac0ffa3f6752a62b4f\n"
     ]
    },
    {
     "name": "stderr",
     "output_type": "stream",
     "text": [
      " 87%|████████▋ | 12475163/14344391 [04:10<00:41, 45455.83it/s]"
     ]
    },
    {
     "name": "stdout",
     "output_type": "stream",
     "text": [
      "3gen2004    hash   : eb940e2f316fffb51ab3f219e4a4872b81d103bafef8f01c18d7bfa1685bc42c\n"
     ]
    },
    {
     "name": "stderr",
     "output_type": "stream",
     "text": [
      " 91%|█████████ | 13027487/14344391 [04:21<00:25, 50928.77it/s]"
     ]
    }
   ],
   "source": [
    "for elem in tqdm(file):\n",
    "    for s in salt:\n",
    "        if (hashlib.sha256((elem+s).encode()).hexdigest()) in encoded_passwords:\n",
    "            clear_psswords.append(elem)\n",
    "            print(elem,\"   hash   :\", hashlib.sha256((elem+s).encode()).hexdigest())"
   ]
  },
  {
   "cell_type": "code",
   "execution_count": 5,
   "metadata": {},
   "outputs": [
    {
     "name": "stderr",
     "output_type": "stream",
     "text": [
      "100%|██████████| 14344391/14344391 [07:57<00:00, 30048.15it/s]\n"
     ]
    }
   ],
   "source": [
    "aux=list(map(lambda x:x.title(),file))\n",
    "aux=list(map(lambda x:x.replace('o','0'),aux))\n",
    "aux=list(map(lambda x:x.replace('i','1'),aux))\n",
    "aux=list(map(lambda x:x.replace('e','3'),aux))\n",
    "for elem in tqdm(aux):\n",
    "    for s in salt:\n",
    "        if (hashlib.sha256((elem+s).encode()).hexdigest()) in encoded_passwords:\n",
    "            clear_psswords.append(elem)\n",
    "            print(elem,\"   hash   :\", hashlib.sha256((elem+s).encode()).hexdigest())"
   ]
  },
  {
   "cell_type": "code",
   "execution_count": 6,
   "metadata": {},
   "outputs": [
    {
     "name": "stderr",
     "output_type": "stream",
     "text": [
      "100%|██████████| 14344391/14344391 [05:00<00:00, 47776.43it/s]\n"
     ]
    }
   ],
   "source": [
    "aux=list(map(lambda x:x.title(),file))\n",
    "for elem in tqdm(aux):\n",
    "    for s in salt:\n",
    "        if (hashlib.sha256((elem+s).encode()).hexdigest()) in encoded_passwords:\n",
    "            clear_psswords.append(elem)\n",
    "            print(elem,\"   hash   :\", hashlib.sha256((elem+s).encode()).hexdigest())"
   ]
  },
  {
   "cell_type": "code",
   "execution_count": 4,
   "metadata": {},
   "outputs": [
    {
     "name": "stderr",
     "output_type": "stream",
     "text": [
      "100%|██████████| 14344391/14344391 [05:20<00:00, 44722.72it/s]\n"
     ]
    }
   ],
   "source": [
    "aux=list(map(lambda x:x.replace('e','3'),file))\n",
    "for elem in tqdm(aux):\n",
    "    for s in salt:\n",
    "        if (hashlib.sha256((elem+s).encode()).hexdigest()) in encoded_passwords:\n",
    "            clear_psswords.append(elem)\n",
    "            print(elem,\"   hash   :\", hashlib.sha256((elem+s).encode()).hexdigest())"
   ]
  },
  {
   "cell_type": "code",
   "execution_count": 5,
   "metadata": {},
   "outputs": [
    {
     "name": "stderr",
     "output_type": "stream",
     "text": [
      "100%|██████████| 14344391/14344391 [04:50<00:00, 49413.57it/s]\n"
     ]
    }
   ],
   "source": [
    "aux=list(map(lambda x:x.replace('o','0'),file))\n",
    "for elem in tqdm(aux):\n",
    "    for s in salt:\n",
    "        if (hashlib.sha256((elem+s).encode()).hexdigest()) in encoded_passwords:\n",
    "            clear_psswords.append(elem)\n",
    "            print(elem,\"   hash   :\", hashlib.sha256((elem+s).encode()).hexdigest())"
   ]
  },
  {
   "cell_type": "code",
   "execution_count": 6,
   "metadata": {},
   "outputs": [
    {
     "name": "stderr",
     "output_type": "stream",
     "text": [
      "100%|██████████| 14344391/14344391 [04:50<00:00, 49382.76it/s]\n"
     ]
    }
   ],
   "source": [
    "aux=list(map(lambda x:x.replace('i','1'),file))\n",
    "for elem in tqdm(aux):\n",
    "    for s in salt:\n",
    "        if (hashlib.sha256((elem+s).encode()).hexdigest()) in encoded_passwords:\n",
    "            clear_psswords.append(elem)\n",
    "            print(elem,\"   hash   :\", hashlib.sha256((elem+s).encode()).hexdigest())"
   ]
  },
  {
   "cell_type": "code",
   "execution_count": 8,
   "metadata": {},
   "outputs": [
    {
     "name": "stderr",
     "output_type": "stream",
     "text": [
      "100%|██████████| 14344391/14344391 [04:50<00:00, 49415.82it/s]\n"
     ]
    }
   ],
   "source": [
    "aux=list(map(lambda x:x.title(),file))\n",
    "aux=list(map(lambda x:x.replace('i','1'),aux))\n",
    "for elem in tqdm(aux):\n",
    "    for s in salt:\n",
    "        if (hashlib.sha256((elem+s).encode()).hexdigest()) in encoded_passwords:\n",
    "            clear_psswords.append(elem)\n",
    "            print(elem,\"   hash   :\", hashlib.sha256((elem+s).encode()).hexdigest())"
   ]
  },
  {
   "cell_type": "code",
   "execution_count": 7,
   "metadata": {},
   "outputs": [
    {
     "name": "stdout",
     "output_type": "stream",
     "text": [
      "set()\n"
     ]
    }
   ],
   "source": [
    "print(set(clear_psswords))"
   ]
  },
  {
   "cell_type": "code",
   "execution_count": null,
   "metadata": {},
   "outputs": [],
   "source": []
  }
 ],
 "metadata": {
  "kernelspec": {
   "display_name": "Python 3",
   "language": "python",
   "name": "python3"
  },
  "language_info": {
   "codemirror_mode": {
    "name": "ipython",
    "version": 3
   },
   "file_extension": ".py",
   "mimetype": "text/x-python",
   "name": "python",
   "nbconvert_exporter": "python",
   "pygments_lexer": "ipython3",
   "version": "3.7.1"
  }
 },
 "nbformat": 4,
 "nbformat_minor": 2
}
