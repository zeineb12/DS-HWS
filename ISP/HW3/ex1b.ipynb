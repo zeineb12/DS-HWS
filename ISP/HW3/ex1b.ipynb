{
 "cells": [
  {
   "cell_type": "code",
   "execution_count": 138,
   "metadata": {},
   "outputs": [],
   "source": [
    "import pandas as pd"
   ]
  },
  {
   "cell_type": "code",
   "execution_count": 140,
   "metadata": {},
   "outputs": [],
   "source": [
    "anonym_data = pd.read_csv('com402-2.csv',  quotechar='\"', delimiter=',',quoting=csv.QUOTE_ALL, skipinitialspace=True, names= ['email_hashed','movie_hashed','date','rate'])\n",
    "clear_data = pd.read_csv('imdb-2.csv',  quotechar='\"', delimiter=',',quoting=csv.QUOTE_ALL, skipinitialspace=True, names= ['email','movie','date','rate'])"
   ]
  },
  {
   "cell_type": "code",
   "execution_count": 141,
   "metadata": {},
   "outputs": [],
   "source": [
    "m1=anonym_data['movie_hashed'].value_counts().index\n",
    "m2=clear_data['movie'].value_counts().index"
   ]
  },
  {
   "cell_type": "code",
   "execution_count": 142,
   "metadata": {},
   "outputs": [],
   "source": [
    "df=pd.DataFrame()\n",
    "df['movie_hashed']=m1\n",
    "df['movie']=m2"
   ]
  },
  {
   "cell_type": "code",
   "execution_count": 143,
   "metadata": {},
   "outputs": [
    {
     "data": {
      "text/html": [
       "<div>\n",
       "<style scoped>\n",
       "    .dataframe tbody tr th:only-of-type {\n",
       "        vertical-align: middle;\n",
       "    }\n",
       "\n",
       "    .dataframe tbody tr th {\n",
       "        vertical-align: top;\n",
       "    }\n",
       "\n",
       "    .dataframe thead th {\n",
       "        text-align: right;\n",
       "    }\n",
       "</style>\n",
       "<table border=\"1\" class=\"dataframe\">\n",
       "  <thead>\n",
       "    <tr style=\"text-align: right;\">\n",
       "      <th></th>\n",
       "      <th>email_hashed</th>\n",
       "      <th>movie_hashed</th>\n",
       "      <th>date</th>\n",
       "      <th>rate</th>\n",
       "      <th>movie</th>\n",
       "    </tr>\n",
       "  </thead>\n",
       "  <tbody>\n",
       "    <tr>\n",
       "      <th>0</th>\n",
       "      <td>f81693863e291d2256a0369c565be4d665cda1456ad45e...</td>\n",
       "      <td>f26cbb599cd67052458004585f50ebb23400c4e3353e5f...</td>\n",
       "      <td>01/01/02</td>\n",
       "      <td>3</td>\n",
       "      <td>Psycho</td>\n",
       "    </tr>\n",
       "    <tr>\n",
       "      <th>1</th>\n",
       "      <td>9aa0a3fa62fb666e9cecda4228cb8abbb8adc10241cbb0...</td>\n",
       "      <td>f26cbb599cd67052458004585f50ebb23400c4e3353e5f...</td>\n",
       "      <td>01/02/15</td>\n",
       "      <td>2</td>\n",
       "      <td>Psycho</td>\n",
       "    </tr>\n",
       "    <tr>\n",
       "      <th>2</th>\n",
       "      <td>0aa685c5c4dc85afb912bd5e18ac4cf6f7c5e6367816f2...</td>\n",
       "      <td>f26cbb599cd67052458004585f50ebb23400c4e3353e5f...</td>\n",
       "      <td>01/04/07</td>\n",
       "      <td>1</td>\n",
       "      <td>Psycho</td>\n",
       "    </tr>\n",
       "    <tr>\n",
       "      <th>3</th>\n",
       "      <td>1a7ab7f2b0f2ec90f84bcce5bd38f64d8da7dfa282d97f...</td>\n",
       "      <td>f26cbb599cd67052458004585f50ebb23400c4e3353e5f...</td>\n",
       "      <td>01/04/09</td>\n",
       "      <td>4</td>\n",
       "      <td>Psycho</td>\n",
       "    </tr>\n",
       "    <tr>\n",
       "      <th>4</th>\n",
       "      <td>8622a360733ec8d8edb7128b38f42ea2b2e77b6580024d...</td>\n",
       "      <td>f26cbb599cd67052458004585f50ebb23400c4e3353e5f...</td>\n",
       "      <td>02/07/01</td>\n",
       "      <td>5</td>\n",
       "      <td>Psycho</td>\n",
       "    </tr>\n",
       "  </tbody>\n",
       "</table>\n",
       "</div>"
      ],
      "text/plain": [
       "                                        email_hashed  \\\n",
       "0  f81693863e291d2256a0369c565be4d665cda1456ad45e...   \n",
       "1  9aa0a3fa62fb666e9cecda4228cb8abbb8adc10241cbb0...   \n",
       "2  0aa685c5c4dc85afb912bd5e18ac4cf6f7c5e6367816f2...   \n",
       "3  1a7ab7f2b0f2ec90f84bcce5bd38f64d8da7dfa282d97f...   \n",
       "4  8622a360733ec8d8edb7128b38f42ea2b2e77b6580024d...   \n",
       "\n",
       "                                        movie_hashed      date  rate   movie  \n",
       "0  f26cbb599cd67052458004585f50ebb23400c4e3353e5f...  01/01/02     3  Psycho  \n",
       "1  f26cbb599cd67052458004585f50ebb23400c4e3353e5f...  01/02/15     2  Psycho  \n",
       "2  f26cbb599cd67052458004585f50ebb23400c4e3353e5f...  01/04/07     1  Psycho  \n",
       "3  f26cbb599cd67052458004585f50ebb23400c4e3353e5f...  01/04/09     4  Psycho  \n",
       "4  f26cbb599cd67052458004585f50ebb23400c4e3353e5f...  02/07/01     5  Psycho  "
      ]
     },
     "execution_count": 143,
     "metadata": {},
     "output_type": "execute_result"
    }
   ],
   "source": [
    "df_merge = pd.merge(anonym_data, df, left_on=['movie_hashed'],\n",
    "              right_on=['movie_hashed'],\n",
    "              how='inner')\n",
    "df_merge.head()"
   ]
  },
  {
   "cell_type": "code",
   "execution_count": 144,
   "metadata": {},
   "outputs": [
    {
     "data": {
      "text/html": [
       "<div>\n",
       "<style scoped>\n",
       "    .dataframe tbody tr th:only-of-type {\n",
       "        vertical-align: middle;\n",
       "    }\n",
       "\n",
       "    .dataframe tbody tr th {\n",
       "        vertical-align: top;\n",
       "    }\n",
       "\n",
       "    .dataframe thead th {\n",
       "        text-align: right;\n",
       "    }\n",
       "</style>\n",
       "<table border=\"1\" class=\"dataframe\">\n",
       "  <thead>\n",
       "    <tr style=\"text-align: right;\">\n",
       "      <th></th>\n",
       "      <th>email</th>\n",
       "      <th>movie</th>\n",
       "      <th>date</th>\n",
       "      <th>rate</th>\n",
       "    </tr>\n",
       "  </thead>\n",
       "  <tbody>\n",
       "    <tr>\n",
       "      <th>82</th>\n",
       "      <td>zeineb.sahnoun@epfl.ch</td>\n",
       "      <td>Paths of Glory</td>\n",
       "      <td>01/07/12</td>\n",
       "      <td>2</td>\n",
       "    </tr>\n",
       "    <tr>\n",
       "      <th>190</th>\n",
       "      <td>zeineb.sahnoun@epfl.ch</td>\n",
       "      <td>One Flew Over the Cuckoo's Nest</td>\n",
       "      <td>02/04/08</td>\n",
       "      <td>3</td>\n",
       "    </tr>\n",
       "    <tr>\n",
       "      <th>192</th>\n",
       "      <td>zeineb.sahnoun@epfl.ch</td>\n",
       "      <td>City Lights</td>\n",
       "      <td>02/04/10</td>\n",
       "      <td>4</td>\n",
       "    </tr>\n",
       "    <tr>\n",
       "      <th>208</th>\n",
       "      <td>zeineb.sahnoun@epfl.ch</td>\n",
       "      <td>M</td>\n",
       "      <td>02/05/12</td>\n",
       "      <td>4</td>\n",
       "    </tr>\n",
       "    <tr>\n",
       "      <th>277</th>\n",
       "      <td>zeineb.sahnoun@epfl.ch</td>\n",
       "      <td>Lawrence of Arabia</td>\n",
       "      <td>02/11/09</td>\n",
       "      <td>5</td>\n",
       "    </tr>\n",
       "  </tbody>\n",
       "</table>\n",
       "</div>"
      ],
      "text/plain": [
       "                      email                            movie      date  rate\n",
       "82   zeineb.sahnoun@epfl.ch                   Paths of Glory  01/07/12     2\n",
       "190  zeineb.sahnoun@epfl.ch  One Flew Over the Cuckoo's Nest  02/04/08     3\n",
       "192  zeineb.sahnoun@epfl.ch                      City Lights  02/04/10     4\n",
       "208  zeineb.sahnoun@epfl.ch                                M  02/05/12     4\n",
       "277  zeineb.sahnoun@epfl.ch               Lawrence of Arabia  02/11/09     5"
      ]
     },
     "execution_count": 144,
     "metadata": {},
     "output_type": "execute_result"
    }
   ],
   "source": [
    "zeineb=clear_data[clear_data['email']=='zeineb.sahnoun@epfl.ch']\n",
    "zeineb.head()"
   ]
  },
  {
   "cell_type": "code",
   "execution_count": 147,
   "metadata": {},
   "outputs": [
    {
     "data": {
      "text/plain": [
       "0       b25db52485693a20f669c413e4d8f08ee03750f6d16988...\n",
       "1       dce542f5a76318098c8afcdd1eaaee3b008980d8219b6d...\n",
       "2       ddf5c4842837e216f07897d2eb4e8cfb7579859e3ce19e...\n",
       "3       792fd16311011ed3189310f7adaaeccaf6e2b111e62a8e...\n",
       "4       e65521e6778be39b7effb5896a20380e7c388a4da04325...\n",
       "5       edbb3bf6618f776886f84e413f636ef70f755f9f028793...\n",
       "6       818e86ada4342ca24bfe83cbb2ed26f2c94d47003debe7...\n",
       "7       38a84d81e2c92fa92e0e1dbeb954916beccb44d2c25686...\n",
       "8       f81693863e291d2256a0369c565be4d665cda1456ad45e...\n",
       "9       49c77d80e230553902db9f2fe101508abdcfed69b046ae...\n",
       "10      1afed754c06c7f2b5aa5e4e498ff03553b20e0bf4326f0...\n",
       "11      ac13667a90da98d144818af453ded02e2b06587204e414...\n",
       "12      d395cad0ecdde7e46bdd39dad7cda07ec787068e483994...\n",
       "13      28e22670b6754610d256fa168d8b5d4329c9b4602d62ee...\n",
       "14      21d74043905267d8999b6358a22a150f6ffab1a070a274...\n",
       "15      5f26502e5ee701b9ee688fdc8ac8eda4c399e8c18755e6...\n",
       "16      8b93a422f3abe1d9d6893221a7a4a3088a9ca229b8705c...\n",
       "17      d912a6e79231a034f3dac581e6009585b2ef90313b31e1...\n",
       "18      cfde28428c9acecac56a4f1e886999d18cf52726da930e...\n",
       "19      3666266f8c5d54ffd05d763d3e82bcf42407dd70675aaa...\n",
       "20      329aec2a24851701bba817a09f798dfd0a54b2b710ac50...\n",
       "21      e6a795b5ed49285d0a56e1d096affeda111ecb29d1758b...\n",
       "22      43b8a8e2867bb64ab06acfef2ec84d9271147d972a769e...\n",
       "23      d17bd252fa2291439548e4a1eac0680f1adee1a13fe1c8...\n",
       "24      18de18524106359e169e58ab720dc0c77590e4a42b9c19...\n",
       "25      fb2da1125fde33712da606e899c12c3c06697085ff5ab1...\n",
       "26      245fc0117bd570b9d315526de25116db685c103c602bb7...\n",
       "27      8e0d01932ca4b4e82cc23b75d43990cfc5bb835fb4915b...\n",
       "28      356116ca56cc85f083228b5ef15fc1ac8a9c28515d0cbd...\n",
       "29      20e82cb0449e5b7dbd53efd146a1bae4da6db0098775e8...\n",
       "                              ...                        \n",
       "2168    ca561e0c08c67dfbe06d18f5f3d7dd8c85b9f314b62b54...\n",
       "2169    68af504a1d5e5058e4081293a94e4207ab4effecedee12...\n",
       "2170    1a7ab7f2b0f2ec90f84bcce5bd38f64d8da7dfa282d97f...\n",
       "2171    2d6b35f1eb64f41a1ee23340d3637ff0fc0aaf4e49d044...\n",
       "2172    26334b4fd8b79754da934db61ac545c0fb3f2bdf41a2f3...\n",
       "2173    94689040000381e7cacb1f48c15d125bb6b852115798f8...\n",
       "2174    79393d824a418480e7901dba69b51e45e0dd978e8cf2d0...\n",
       "2175    fc10bfaa1be4fba8517930b67b385dc895e65926ee2d35...\n",
       "2176    94aae8c467db2eaacce2cbd97cf70cdf342abedc944f0f...\n",
       "2177    6f7d28e0cd114fa330e126289d876f99de9cd6b76f653f...\n",
       "2178    3adb406c40035f951af6e66b420936c7f785eb4d723d9b...\n",
       "2179    866bfbe687505056c9abf32d131eb6178b87206932f4e1...\n",
       "2180    6afa1dab41cb57645da10cd6b5e53b91b1398057ff8a94...\n",
       "2181    0a9d7b3a05052fb96af97985699f9f72525c23d06c3264...\n",
       "2182    edbb3bf6618f776886f84e413f636ef70f755f9f028793...\n",
       "2183    b1c272f7a29b409e71068ef8f3c87f663ec6421ea3dcaf...\n",
       "2184    abf9aa8fc0df4b901a2c2791753c2e03d65a9a357b6afe...\n",
       "2185    9aa0a3fa62fb666e9cecda4228cb8abbb8adc10241cbb0...\n",
       "2186    ca85e47370ae7bc433fa1a712d25e454df01ab904c47c5...\n",
       "2187    0c5b463a1ada46615a3494f17d927f2ea76d621f219f12...\n",
       "2188    e9b37100f95e2ee7f85bbe3c45f81016687a58f1801769...\n",
       "2189    f491924796f624be70f3151047651a3c1c758c776a8b98...\n",
       "2190    8622a360733ec8d8edb7128b38f42ea2b2e77b6580024d...\n",
       "2191    281d3c7aa4b51e5ecbbfe1f23500ab4a116375cf6925e6...\n",
       "2192    d362d1b62e5a484d94e3d9b43ca44dacd70e63aed11a05...\n",
       "2193    57ca6f23b5ba67ab517dd44d3e88a607a3fee3d8f594d4...\n",
       "2194    6ef752c3614f578047935060212fc59a8fc07625832393...\n",
       "2195    7500071c846aadcc180f7bff1ef7e6099c919e95a6f88f...\n",
       "2196    0ae761a5a65c08667e659d08f1065d8618cca3e2903de8...\n",
       "2197    5858cc5025660c87e76c1c8d0525e4ed0dd8822d065e0b...\n",
       "Name: email_hashed, Length: 2198, dtype: object"
      ]
     },
     "execution_count": 147,
     "metadata": {},
     "output_type": "execute_result"
    }
   ],
   "source": [
    "df_merged = pd.merge(zeineb, df_merge, left_on=['movie'],\n",
    "              right_on=['movie'],\n",
    "              how='inner')\n",
    "hashes=df_merged['email_hashed']\n",
    "hashes"
   ]
  },
  {
   "cell_type": "code",
   "execution_count": 148,
   "metadata": {},
   "outputs": [
    {
     "name": "stdout",
     "output_type": "stream",
     "text": [
      "[('1afed754c06c7f2b5aa5e4e498ff03553b20e0bf4326f0ad950bffaaa491efa0', 18), ('329aec2a24851701bba817a09f798dfd0a54b2b710ac50c8be905b9ebdfe1796', 13)]\n"
     ]
    }
   ],
   "source": [
    "from collections import Counter\n",
    "cnt = Counter(list(hashes))\n",
    "print(cnt.most_common(2))"
   ]
  },
  {
   "cell_type": "code",
   "execution_count": 149,
   "metadata": {},
   "outputs": [
    {
     "name": "stdout",
     "output_type": "stream",
     "text": [
      "['Spirited Away', \"It's a Wonderful Life\", 'City Lights', 'Goodfellas', 'Rashomon', 'Paths of Glory', 'All About Eve', 'Chinatown', \"Schindler's List\", 'M', 'Lawrence of Arabia', 'On the Waterfront', \"One Flew Over the Cuckoo's Nest\", 'The Good, the Bad and the Ugly', 'Casablanca', 'Dr. Strangelove or: How I Learned to Stop Worrying and Love the Bomb', 'Rear Window', 'Metropolis', 'The Godfather', 'Modern Times']\n"
     ]
    }
   ],
   "source": [
    "m = anonym_data.set_index('email_hashed').loc['1afed754c06c7f2b5aa5e4e498ff03553b20e0bf4326f0ad950bffaaa491efa0'].movie_hashed.values\n",
    "b = list(df.set_index('movie_hashed').loc[m].movie.values)\n",
    "print(b)"
   ]
  },
  {
   "cell_type": "code",
   "execution_count": null,
   "metadata": {},
   "outputs": [],
   "source": []
  }
 ],
 "metadata": {
  "kernelspec": {
   "display_name": "Python 3",
   "language": "python",
   "name": "python3"
  },
  "language_info": {
   "codemirror_mode": {
    "name": "ipython",
    "version": 3
   },
   "file_extension": ".py",
   "mimetype": "text/x-python",
   "name": "python",
   "nbconvert_exporter": "python",
   "pygments_lexer": "ipython3",
   "version": "3.7.1"
  }
 },
 "nbformat": 4,
 "nbformat_minor": 2
}
