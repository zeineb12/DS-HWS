{
 "cells": [
  {
   "cell_type": "markdown",
   "metadata": {
    "toc": true
   },
   "source": [
    "<h1>Table of Contents<span class=\"tocSkip\"></span></h1>\n",
    "<div class=\"toc\"><ul class=\"toc-item\"><li><span><a href=\"#Executive-Summary\" data-toc-modified-id=\"Executive-Summary-1\"><span class=\"toc-item-num\">1&nbsp;&nbsp;</span>Executive Summary</a></span><ul class=\"toc-item\"><li><span><a href=\"#Contributors-:\" data-toc-modified-id=\"Contributors-:-1.1\"><span class=\"toc-item-num\">1.1&nbsp;&nbsp;</span>Contributors :</a></span></li><li><span><a href=\"#Context\" data-toc-modified-id=\"Context-1.2\"><span class=\"toc-item-num\">1.2&nbsp;&nbsp;</span>Context</a></span></li><li><span><a href=\"#Data-type\" data-toc-modified-id=\"Data-type-1.3\"><span class=\"toc-item-num\">1.3&nbsp;&nbsp;</span>Data type</a></span></li><li><span><a href=\"#Exploratory-Data-Analysis\" data-toc-modified-id=\"Exploratory-Data-Analysis-1.4\"><span class=\"toc-item-num\">1.4&nbsp;&nbsp;</span>Exploratory Data Analysis</a></span><ul class=\"toc-item\"><li><span><a href=\"#Tenure\" data-toc-modified-id=\"Tenure-1.4.1\"><span class=\"toc-item-num\">1.4.1&nbsp;&nbsp;</span>Tenure</a></span></li><li><span><a href=\"#Monthly-Charges-&amp;-Total-Charges:\" data-toc-modified-id=\"Monthly-Charges-&amp;-Total-Charges:-1.4.2\"><span class=\"toc-item-num\">1.4.2&nbsp;&nbsp;</span>Monthly Charges &amp; Total Charges:</a></span></li><li><span><a href=\"#Gender-:\" data-toc-modified-id=\"Gender-:-1.4.3\"><span class=\"toc-item-num\">1.4.3&nbsp;&nbsp;</span>Gender :</a></span></li><li><span><a href=\"#Senior-Citizens\" data-toc-modified-id=\"Senior-Citizens-1.4.4\"><span class=\"toc-item-num\">1.4.4&nbsp;&nbsp;</span>Senior Citizens</a></span></li><li><span><a href=\"#Additional-services-&amp;-correlation\" data-toc-modified-id=\"Additional-services-&amp;-correlation-1.4.5\"><span class=\"toc-item-num\">1.4.5&nbsp;&nbsp;</span>Additional services &amp; correlation</a></span></li><li><span><a href=\"#Target-and-Correlation-Study\" data-toc-modified-id=\"Target-and-Correlation-Study-1.4.6\"><span class=\"toc-item-num\">1.4.6&nbsp;&nbsp;</span>Target and Correlation Study</a></span></li></ul></li></ul></li></ul></div>"
   ]
  },
  {
   "cell_type": "markdown",
   "metadata": {},
   "source": [
    "# Executive Summary"
   ]
  },
  {
   "cell_type": "markdown",
   "metadata": {},
   "source": [
    "## Contributors :"
   ]
  },
  {
   "cell_type": "markdown",
   "metadata": {},
   "source": [
    "- Nourchene Ben Romdhane\n",
    "- Firas Kanoun\n",
    "- Zeineb Sahnoun\n",
    "- Sami Ben Hassen"
   ]
  },
  {
   "cell_type": "markdown",
   "metadata": {},
   "source": [
    "## Context"
   ]
  },
  {
   "cell_type": "markdown",
   "metadata": {},
   "source": [
    "**For Telephone service companies, the cost of retaining an existing customer is far less than acquiring a new one.**\n",
    "\n",
    "**As we were asked in the assignment we will focus on understanding the customer base of the company and we will not be interested in predicting churn at this point.**"
   ]
  },
  {
   "cell_type": "markdown",
   "metadata": {},
   "source": [
    "## Data type"
   ]
  },
  {
   "cell_type": "markdown",
   "metadata": {},
   "source": [
    "**We started by looking at the data we had in hand:**\n",
    "\n",
    "**Most of the features are categorical, most of the time containing only two or three possible values. The only features that are not categorical are : CustomerID, Monthly charges, Total charges and Tenure.**\n",
    "\n",
    "**We started our analysis by looking at these continuous features and then looking at the categorical ones.**"
   ]
  },
  {
   "cell_type": "markdown",
   "metadata": {},
   "source": [
    "## Exploratory Data Analysis"
   ]
  },
  {
   "cell_type": "markdown",
   "metadata": {},
   "source": [
    "### Tenure"
   ]
  },
  {
   "cell_type": "markdown",
   "metadata": {},
   "source": [
    "**From the distribution of tenure we were able to derive the following observations:**\n",
    "\n",
    "**The Telco company has a very large number of new clients (25% of the customers have subscribed since less than 1year and 3months ago) but also a very large number of \"old\" clients (25% of the customers have been with the company for more than 5years)**\n",
    "\n",
    "**We can then say that the company is doing good in attracting new customers but also in keeping the old ones**\n",
    "\n",
    "**This analysis also tells us that this study have been conducted for a period of 72/12 = 6 years, since it is the highest value of tenure.**\n",
    "\n",
    "**The large value that represents more than 10% of the clients having tenure equal to 6 years may be explained by the launching of the Telco company which attracted a lot of users (probably because of a launching deal).**\n",
    "\n",
    "**The histogram of Tenure by payment also shows that most of the new clients are choosing the month to month contract in contrast to the old clients who were more likely to choose the 2years contract. This has probably something to do with the deals offered by the company.**"
   ]
  },
  {
   "cell_type": "markdown",
   "metadata": {},
   "source": [
    "### Monthly Charges & Total Charges:"
   ]
  },
  {
   "cell_type": "markdown",
   "metadata": {},
   "source": [
    "**From the histogram of monthly charges, we saw that the plot here is skewed to the left which means that most clients have low monthly charges.**\n",
    "\n",
    "**From the histogram of Total charges,we saw that the total charges decay exponentially, meaning that most of the clients pay small charges. Indeed, more than 22% of the clients paid less than 500 euros as total charges**\n",
    "\n",
    "**By calculating the pearson correlation coefficient, we saw that it is equal to 0.75. This confirms our intuition that these two features are highly positively correlated. A person who pays high monthly charges also pays high total charges.**"
   ]
  },
  {
   "cell_type": "markdown",
   "metadata": {},
   "source": [
    "### Gender :"
   ]
  },
  {
   "cell_type": "markdown",
   "metadata": {},
   "source": [
    "**From the distribution, we saw that the customer base is balanced between male and female almost equally with a ratio of 50.7% and 49.3%.**"
   ]
  },
  {
   "cell_type": "markdown",
   "metadata": {},
   "source": [
    "### Senior Citizens"
   ]
  },
  {
   "cell_type": "markdown",
   "metadata": {},
   "source": [
    "**The distribution shows that most of the clients of the data set (almost 90%) are below 50 years old.**"
   ]
  },
  {
   "cell_type": "markdown",
   "metadata": {},
   "source": [
    "### Additional services & correlation"
   ]
  },
  {
   "cell_type": "markdown",
   "metadata": {},
   "source": [
    "**The distribution shows a balanced ratio 50%/50% of clients opting for additional services and those who don't have them, when chonsidering the clients that have internet service.**\n",
    "\n",
    "**On contrary of what we could believe senior citizens have also the same balanced ratio.**\n",
    "\n",
    "**Moreover, we calculated a high correlation between some of the additional services, for example Online security and Online backup. The same applies for Streaming TV and Streaming movies.**"
   ]
  },
  {
   "cell_type": "markdown",
   "metadata": {},
   "source": [
    "### Target and Correlation Study "
   ]
  },
  {
   "cell_type": "markdown",
   "metadata": {},
   "source": [
    "**We wanted to know which features play a major role in predicting the target feature (churn). So we looked closely at two of the features from our data set and used chi-square tests to see if these features are important to predict a customer's loyalty .**  "
   ]
  },
  {
   "cell_type": "markdown",
   "metadata": {},
   "source": [
    "**We found that there is a relationship between Online Security and loyalty to the company, where as the gender may not play a role in being loyal to the company, which seems very logical.**"
   ]
  },
  {
   "cell_type": "markdown",
   "metadata": {},
   "source": [
    "**NB : The other features can be studied in the same way, here we provided examples of 2 different outcomes of the chi-square test.**"
   ]
  }
 ],
 "metadata": {
  "kernelspec": {
   "display_name": "Python [default]",
   "language": "python",
   "name": "python3"
  },
  "language_info": {
   "codemirror_mode": {
    "name": "ipython",
    "version": 3
   },
   "file_extension": ".py",
   "mimetype": "text/x-python",
   "name": "python",
   "nbconvert_exporter": "python",
   "pygments_lexer": "ipython3",
   "version": "3.6.6"
  },
  "toc": {
   "base_numbering": 1,
   "nav_menu": {},
   "number_sections": true,
   "sideBar": true,
   "skip_h1_title": false,
   "title_cell": "Table of Contents",
   "title_sidebar": "Contents",
   "toc_cell": true,
   "toc_position": {},
   "toc_section_display": true,
   "toc_window_display": true
  },
  "varInspector": {
   "cols": {
    "lenName": 16,
    "lenType": 16,
    "lenVar": 40
   },
   "kernels_config": {
    "python": {
     "delete_cmd_postfix": "",
     "delete_cmd_prefix": "del ",
     "library": "var_list.py",
     "varRefreshCmd": "print(var_dic_list())"
    },
    "r": {
     "delete_cmd_postfix": ") ",
     "delete_cmd_prefix": "rm(",
     "library": "var_list.r",
     "varRefreshCmd": "cat(var_dic_list()) "
    }
   },
   "types_to_exclude": [
    "module",
    "function",
    "builtin_function_or_method",
    "instance",
    "_Feature"
   ],
   "window_display": false
  }
 },
 "nbformat": 4,
 "nbformat_minor": 2
}
