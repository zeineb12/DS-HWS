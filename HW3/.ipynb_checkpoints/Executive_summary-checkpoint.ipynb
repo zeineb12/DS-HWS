{
 "cells": [
  {
   "cell_type": "markdown",
   "metadata": {},
   "source": [
    "# Contributors :\n",
    "\n",
    "- Nourchene Ben Romdhane\n",
    "- Sami Ben Hassen\n",
    "- Firas Kanoun\n",
    "- Zeineb Sahnoun "
   ]
  },
  {
   "cell_type": "markdown",
   "metadata": {},
   "source": [
    "# Executive summary for homework 2"
   ]
  },
  {
   "cell_type": "markdown",
   "metadata": {},
   "source": [
    "## Introduction :"
   ]
  },
  {
   "cell_type": "markdown",
   "metadata": {},
   "source": [
    "After preparing data and a first attempt at network analysis in the previous homeworks, We move on to the most interesting part : facing the first real \"data science\" problem in the telecom company. Understanding customer churn is essential to keep costs down, so your supervisor has asked to develop a model (or a set of models) to predict customer behavior."
   ]
  },
  {
   "cell_type": "markdown",
   "metadata": {},
   "source": [
    "## Data Description"
   ]
  },
  {
   "cell_type": "markdown",
   "metadata": {},
   "source": [
    "First things first, our data had some NA values that we needed to take care of. We chose to drop them.\n",
    "\n",
    "Then we took a look at the categorical features in the dataset dropping the customer_id since we already have our own 'pandas' indexing of the data.\n",
    "\n",
    "And finally, we encoded the categories in order to have integer values as elements of the dataframe. This is essential for their use in all the machine learning models.\n",
    "\n",
    "Right now our dataframe looks like this :"
   ]
  },
  {
   "cell_type": "code",
   "execution_count": 1,
   "metadata": {},
   "outputs": [
    {
     "data": {
      "text/html": [
       "<h1><table border=\"1\" class=\"dataframe\">\n",
       "  <thead>\n",
       "    <tr style=\"text-align: right;\">\n",
       "      <th></th>\n",
       "      <th>gender</th>\n",
       "      <th>SeniorCitizen</th>\n",
       "      <th>Partner</th>\n",
       "      <th>Dependents</th>\n",
       "      <th>tenure</th>\n",
       "      <th>PhoneService</th>\n",
       "      <th>MultipleLines</th>\n",
       "      <th>InternetService</th>\n",
       "      <th>OnlineSecurity</th>\n",
       "      <th>OnlineBackup</th>\n",
       "      <th>DeviceProtection</th>\n",
       "      <th>TechSupport</th>\n",
       "      <th>StreamingTV</th>\n",
       "      <th>StreamingMovies</th>\n",
       "      <th>Contract</th>\n",
       "      <th>PaperlessBilling</th>\n",
       "      <th>PaymentMethod</th>\n",
       "      <th>MonthlyCharges</th>\n",
       "      <th>TotalCharges</th>\n",
       "      <th>Churn</th>\n",
       "    </tr>\n",
       "  </thead>\n",
       "  <tbody>\n",
       "    <tr>\n",
       "      <th>0</th>\n",
       "      <td>0</td>\n",
       "      <td>0</td>\n",
       "      <td>1</td>\n",
       "      <td>0</td>\n",
       "      <td>1</td>\n",
       "      <td>0</td>\n",
       "      <td>1</td>\n",
       "      <td>1</td>\n",
       "      <td>0</td>\n",
       "      <td>2</td>\n",
       "      <td>0</td>\n",
       "      <td>0</td>\n",
       "      <td>0</td>\n",
       "      <td>0</td>\n",
       "      <td>0</td>\n",
       "      <td>1</td>\n",
       "      <td>2</td>\n",
       "      <td>29.85</td>\n",
       "      <td>29.850000</td>\n",
       "      <td>0</td>\n",
       "    </tr>\n",
       "    <tr>\n",
       "      <th>1</th>\n",
       "      <td>1</td>\n",
       "      <td>0</td>\n",
       "      <td>0</td>\n",
       "      <td>0</td>\n",
       "      <td>34</td>\n",
       "      <td>1</td>\n",
       "      <td>0</td>\n",
       "      <td>1</td>\n",
       "      <td>2</td>\n",
       "      <td>0</td>\n",
       "      <td>2</td>\n",
       "      <td>0</td>\n",
       "      <td>0</td>\n",
       "      <td>0</td>\n",
       "      <td>1</td>\n",
       "      <td>0</td>\n",
       "      <td>3</td>\n",
       "      <td>56.95</td>\n",
       "      <td>1889.500000</td>\n",
       "      <td>0</td>\n",
       "    </tr>\n",
       "    <tr>\n",
       "      <th>2</th>\n",
       "      <td>1</td>\n",
       "      <td>0</td>\n",
       "      <td>0</td>\n",
       "      <td>0</td>\n",
       "      <td>2</td>\n",
       "      <td>1</td>\n",
       "      <td>0</td>\n",
       "      <td>1</td>\n",
       "      <td>2</td>\n",
       "      <td>2</td>\n",
       "      <td>0</td>\n",
       "      <td>0</td>\n",
       "      <td>0</td>\n",
       "      <td>0</td>\n",
       "      <td>0</td>\n",
       "      <td>1</td>\n",
       "      <td>3</td>\n",
       "      <td>53.85</td>\n",
       "      <td>108.150002</td>\n",
       "      <td>1</td>\n",
       "    </tr>\n",
       "    <tr>\n",
       "      <th>3</th>\n",
       "      <td>1</td>\n",
       "      <td>0</td>\n",
       "      <td>0</td>\n",
       "      <td>0</td>\n",
       "      <td>45</td>\n",
       "      <td>0</td>\n",
       "      <td>1</td>\n",
       "      <td>1</td>\n",
       "      <td>2</td>\n",
       "      <td>0</td>\n",
       "      <td>2</td>\n",
       "      <td>2</td>\n",
       "      <td>0</td>\n",
       "      <td>0</td>\n",
       "      <td>1</td>\n",
       "      <td>0</td>\n",
       "      <td>0</td>\n",
       "      <td>42.30</td>\n",
       "      <td>1840.750000</td>\n",
       "      <td>0</td>\n",
       "    </tr>\n",
       "    <tr>\n",
       "      <th>4</th>\n",
       "      <td>0</td>\n",
       "      <td>0</td>\n",
       "      <td>0</td>\n",
       "      <td>0</td>\n",
       "      <td>2</td>\n",
       "      <td>1</td>\n",
       "      <td>0</td>\n",
       "      <td>2</td>\n",
       "      <td>0</td>\n",
       "      <td>0</td>\n",
       "      <td>0</td>\n",
       "      <td>0</td>\n",
       "      <td>0</td>\n",
       "      <td>0</td>\n",
       "      <td>0</td>\n",
       "      <td>1</td>\n",
       "      <td>2</td>\n",
       "      <td>70.70</td>\n",
       "      <td>151.649994</td>\n",
       "      <td>1</td>\n",
       "    </tr>\n",
       "  </tbody>\n",
       "</table></h1>"
      ],
      "text/plain": [
       "<IPython.core.display.HTML object>"
      ]
     },
     "metadata": {},
     "output_type": "display_data"
    }
   ],
   "source": [
    "from IPython.core.display import display, HTML\n",
    "display(HTML('<h1><table border=\"1\" class=\"dataframe\">\\n  <thead>\\n    <tr style=\"text-align: right;\">\\n      <th></th>\\n      <th>gender</th>\\n      <th>SeniorCitizen</th>\\n      <th>Partner</th>\\n      <th>Dependents</th>\\n      <th>tenure</th>\\n      <th>PhoneService</th>\\n      <th>MultipleLines</th>\\n      <th>InternetService</th>\\n      <th>OnlineSecurity</th>\\n      <th>OnlineBackup</th>\\n      <th>DeviceProtection</th>\\n      <th>TechSupport</th>\\n      <th>StreamingTV</th>\\n      <th>StreamingMovies</th>\\n      <th>Contract</th>\\n      <th>PaperlessBilling</th>\\n      <th>PaymentMethod</th>\\n      <th>MonthlyCharges</th>\\n      <th>TotalCharges</th>\\n      <th>Churn</th>\\n    </tr>\\n  </thead>\\n  <tbody>\\n    <tr>\\n      <th>0</th>\\n      <td>0</td>\\n      <td>0</td>\\n      <td>1</td>\\n      <td>0</td>\\n      <td>1</td>\\n      <td>0</td>\\n      <td>1</td>\\n      <td>1</td>\\n      <td>0</td>\\n      <td>2</td>\\n      <td>0</td>\\n      <td>0</td>\\n      <td>0</td>\\n      <td>0</td>\\n      <td>0</td>\\n      <td>1</td>\\n      <td>2</td>\\n      <td>29.85</td>\\n      <td>29.850000</td>\\n      <td>0</td>\\n    </tr>\\n    <tr>\\n      <th>1</th>\\n      <td>1</td>\\n      <td>0</td>\\n      <td>0</td>\\n      <td>0</td>\\n      <td>34</td>\\n      <td>1</td>\\n      <td>0</td>\\n      <td>1</td>\\n      <td>2</td>\\n      <td>0</td>\\n      <td>2</td>\\n      <td>0</td>\\n      <td>0</td>\\n      <td>0</td>\\n      <td>1</td>\\n      <td>0</td>\\n      <td>3</td>\\n      <td>56.95</td>\\n      <td>1889.500000</td>\\n      <td>0</td>\\n    </tr>\\n    <tr>\\n      <th>2</th>\\n      <td>1</td>\\n      <td>0</td>\\n      <td>0</td>\\n      <td>0</td>\\n      <td>2</td>\\n      <td>1</td>\\n      <td>0</td>\\n      <td>1</td>\\n      <td>2</td>\\n      <td>2</td>\\n      <td>0</td>\\n      <td>0</td>\\n      <td>0</td>\\n      <td>0</td>\\n      <td>0</td>\\n      <td>1</td>\\n      <td>3</td>\\n      <td>53.85</td>\\n      <td>108.150002</td>\\n      <td>1</td>\\n    </tr>\\n    <tr>\\n      <th>3</th>\\n      <td>1</td>\\n      <td>0</td>\\n      <td>0</td>\\n      <td>0</td>\\n      <td>45</td>\\n      <td>0</td>\\n      <td>1</td>\\n      <td>1</td>\\n      <td>2</td>\\n      <td>0</td>\\n      <td>2</td>\\n      <td>2</td>\\n      <td>0</td>\\n      <td>0</td>\\n      <td>1</td>\\n      <td>0</td>\\n      <td>0</td>\\n      <td>42.30</td>\\n      <td>1840.750000</td>\\n      <td>0</td>\\n    </tr>\\n    <tr>\\n      <th>4</th>\\n      <td>0</td>\\n      <td>0</td>\\n      <td>0</td>\\n      <td>0</td>\\n      <td>2</td>\\n      <td>1</td>\\n      <td>0</td>\\n      <td>2</td>\\n      <td>0</td>\\n      <td>0</td>\\n      <td>0</td>\\n      <td>0</td>\\n      <td>0</td>\\n      <td>0</td>\\n      <td>0</td>\\n      <td>1</td>\\n      <td>2</td>\\n      <td>70.70</td>\\n      <td>151.649994</td>\\n      <td>1</td>\\n    </tr>\\n  </tbody>\\n</table></h1>'))\n"
   ]
  },
  {
   "cell_type": "markdown",
   "metadata": {},
   "source": [
    "## Data preprocessing and Aggregation"
   ]
  },
  {
   "cell_type": "markdown",
   "metadata": {},
   "source": [
    "Here we can either go with standardize our data or leave it as it is : Many classifiers work on standardized features (logistic). Moreover, normalization might improve convergence speed due to more smooth optimization surface. We will standardize the features and we can then compare the performance of some models according to the input (standardized data or not) they are given.\n",
    "\n",
    "Needless to say , we chose to standardize the data. \n",
    "\n",
    "Then we split it into a training and test set. And we are now officially ready to test different machine learning models."
   ]
  },
  {
   "cell_type": "markdown",
   "metadata": {},
   "source": [
    "## Machine Learning models Summary:"
   ]
  },
  {
   "cell_type": "markdown",
   "metadata": {},
   "source": [
    "\n",
    "|        ML Model        | Hyperparameters(after tuning) | Accuracy(\\%) | Area under the ROC curve |\n",
    "|:----------------------:|:-----------------------------:|:------------:|:------------------------:|\n",
    "|   **Logistic Regression**  |   **C = 0 , l1 regularization**   |     **80.38**     |           **0.837**          |\n",
    "| Gradient boosted trees |       n_estimators : 10      |     79.74    |           0.837           |\n",
    "|      Random Forest     |       n_estimators : 70       |     79.39    |           0.82           |\n",
    "|           KNN          |             K = 27            |     77.61    |           0.82          |"
   ]
  },
  {
   "cell_type": "markdown",
   "metadata": {},
   "source": [
    "We can clearly see here that the Logistic Regression model is the best performing."
   ]
  },
  {
   "cell_type": "markdown",
   "metadata": {},
   "source": [
    "## Freature importance :"
   ]
  },
  {
   "cell_type": "markdown",
   "metadata": {},
   "source": [
    "![feature_importance](feature_importance.png)\n"
   ]
  },
  {
   "cell_type": "markdown",
   "metadata": {},
   "source": [
    "**We can see that the top 4 features are:**\n",
    "- Tenure (how long, until now, has the customer been a client of the company)\n",
    "- Total Charges (how much money have the client paid until now)\n",
    "- Monthly Charges (how much money on average the client pays each month)\n",
    "- Contract_Month_to_Month (whether the contract of the client is on a monthly basis)\n",
    "\n",
    "**This makes a lot of sence, because if the contract is month-to-month, it's easier for the client to churn whenever he's unhappy about the service provider. Also the money paid plays a big role in determining the churn.**"
   ]
  }
 ],
 "metadata": {
  "kernelspec": {
   "display_name": "Python 3",
   "language": "python",
   "name": "python3"
  },
  "language_info": {
   "codemirror_mode": {
    "name": "ipython",
    "version": 3
   },
   "file_extension": ".py",
   "mimetype": "text/x-python",
   "name": "python",
   "nbconvert_exporter": "python",
   "pygments_lexer": "ipython3",
   "version": "3.7.1"
  },
  "toc": {
   "base_numbering": 1,
   "nav_menu": {},
   "number_sections": true,
   "sideBar": true,
   "skip_h1_title": false,
   "title_cell": "Table of Contents",
   "title_sidebar": "Contents",
   "toc_cell": false,
   "toc_position": {},
   "toc_section_display": true,
   "toc_window_display": false
  },
  "varInspector": {
   "cols": {
    "lenName": 16,
    "lenType": 16,
    "lenVar": 40
   },
   "kernels_config": {
    "python": {
     "delete_cmd_postfix": "",
     "delete_cmd_prefix": "del ",
     "library": "var_list.py",
     "varRefreshCmd": "print(var_dic_list())"
    },
    "r": {
     "delete_cmd_postfix": ") ",
     "delete_cmd_prefix": "rm(",
     "library": "var_list.r",
     "varRefreshCmd": "cat(var_dic_list()) "
    }
   },
   "types_to_exclude": [
    "module",
    "function",
    "builtin_function_or_method",
    "instance",
    "_Feature"
   ],
   "window_display": false
  }
 },
 "nbformat": 4,
 "nbformat_minor": 2
}
