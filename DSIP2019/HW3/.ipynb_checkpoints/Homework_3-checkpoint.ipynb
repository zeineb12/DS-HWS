{
 "cells": [
  {
   "cell_type": "markdown",
   "metadata": {
    "toc": true
   },
   "source": [
    "<h1>Table of Contents<span class=\"tocSkip\"></span></h1>\n",
    "<div class=\"toc\"><ul class=\"toc-item\"><li><span><a href=\"#Problem-Set-3-Notebook\" data-toc-modified-id=\"Problem-Set-3-Notebook-1\"><span class=\"toc-item-num\">1&nbsp;&nbsp;</span>Problem Set 3 Notebook</a></span><ul class=\"toc-item\"><li><ul class=\"toc-item\"><li><span><a href=\"#Contributors-:\" data-toc-modified-id=\"Contributors-:-1.0.1\"><span class=\"toc-item-num\">1.0.1&nbsp;&nbsp;</span>Contributors :</a></span></li></ul></li></ul></li><li><span><a href=\"#Relevant-Imports\" data-toc-modified-id=\"Relevant-Imports-2\"><span class=\"toc-item-num\">2&nbsp;&nbsp;</span>Relevant Imports</a></span></li><li><span><a href=\"#Data-Description:\" data-toc-modified-id=\"Data-Description:-3\"><span class=\"toc-item-num\">3&nbsp;&nbsp;</span>Data Description:</a></span><ul class=\"toc-item\"><li><ul class=\"toc-item\"><li><ul class=\"toc-item\"><li><span><a href=\"#Categorical-Data:\" data-toc-modified-id=\"Categorical-Data:-3.0.0.1\"><span class=\"toc-item-num\">3.0.0.1&nbsp;&nbsp;</span>Categorical Data:</a></span></li></ul></li></ul></li></ul></li><li><span><a href=\"#Data-preprocssing\" data-toc-modified-id=\"Data-preprocssing-4\"><span class=\"toc-item-num\">4&nbsp;&nbsp;</span>Data preprocssing</a></span><ul class=\"toc-item\"><li><span><a href=\"#Correlation-Study\" data-toc-modified-id=\"Correlation-Study-4.1\"><span class=\"toc-item-num\">4.1&nbsp;&nbsp;</span>Correlation Study</a></span><ul class=\"toc-item\"><li><span><a href=\"#Correlation-between-Online-Security-and-Churn\" data-toc-modified-id=\"Correlation-between-Online-Security-and-Churn-4.1.1\"><span class=\"toc-item-num\">4.1.1&nbsp;&nbsp;</span>Correlation between Online Security and Churn</a></span></li><li><span><a href=\"#Correlation-between-the-gender-of-the-user-and-Churn\" data-toc-modified-id=\"Correlation-between-the-gender-of-the-user-and-Churn-4.1.2\"><span class=\"toc-item-num\">4.1.2&nbsp;&nbsp;</span>Correlation between the gender of the user and Churn</a></span></li></ul></li></ul></li><li><span><a href=\"#Predicting-Churn\" data-toc-modified-id=\"Predicting-Churn-5\"><span class=\"toc-item-num\">5&nbsp;&nbsp;</span>Predicting Churn</a></span><ul class=\"toc-item\"><li><span><a href=\"#1.-Logistic-Regression-Model-:\" data-toc-modified-id=\"1.-Logistic-Regression-Model-:-5.1\"><span class=\"toc-item-num\">5.1&nbsp;&nbsp;</span>1. Logistic Regression Model :</a></span><ul class=\"toc-item\"><li><span><a href=\"#Hyper-parameter-tuning\" data-toc-modified-id=\"Hyper-parameter-tuning-5.1.1\"><span class=\"toc-item-num\">5.1.1&nbsp;&nbsp;</span>Hyper-parameter tuning</a></span></li><li><span><a href=\"#Performance-of-the-tuned-model-on-test-set\" data-toc-modified-id=\"Performance-of-the-tuned-model-on-test-set-5.1.2\"><span class=\"toc-item-num\">5.1.2&nbsp;&nbsp;</span>Performance of the tuned model on test set</a></span></li><li><span><a href=\"#Roc-Curve\" data-toc-modified-id=\"Roc-Curve-5.1.3\"><span class=\"toc-item-num\">5.1.3&nbsp;&nbsp;</span>Roc Curve</a></span></li></ul></li><li><span><a href=\"#2.-Gradient-boosted-trees-model-:\" data-toc-modified-id=\"2.-Gradient-boosted-trees-model-:-5.2\"><span class=\"toc-item-num\">5.2&nbsp;&nbsp;</span>2. Gradient boosted trees model :</a></span><ul class=\"toc-item\"><li><span><a href=\"#Hyper-parameter-tuning\" data-toc-modified-id=\"Hyper-parameter-tuning-5.2.1\"><span class=\"toc-item-num\">5.2.1&nbsp;&nbsp;</span>Hyper-parameter tuning</a></span></li><li><span><a href=\"#Performance-of-the-tuned-model-on-test-set\" data-toc-modified-id=\"Performance-of-the-tuned-model-on-test-set-5.2.2\"><span class=\"toc-item-num\">5.2.2&nbsp;&nbsp;</span>Performance of the tuned model on test set</a></span></li><li><span><a href=\"#Roc-Curve\" data-toc-modified-id=\"Roc-Curve-5.2.3\"><span class=\"toc-item-num\">5.2.3&nbsp;&nbsp;</span>Roc Curve</a></span></li></ul></li><li><span><a href=\"#3.-Random-Forest:\" data-toc-modified-id=\"3.-Random-Forest:-5.3\"><span class=\"toc-item-num\">5.3&nbsp;&nbsp;</span>3. Random Forest:</a></span><ul class=\"toc-item\"><li><span><a href=\"#Hyper-parameter-tuning\" data-toc-modified-id=\"Hyper-parameter-tuning-5.3.1\"><span class=\"toc-item-num\">5.3.1&nbsp;&nbsp;</span>Hyper-parameter tuning</a></span></li><li><span><a href=\"#Performance-of-the-tuned-model-on-test-set\" data-toc-modified-id=\"Performance-of-the-tuned-model-on-test-set-5.3.2\"><span class=\"toc-item-num\">5.3.2&nbsp;&nbsp;</span>Performance of the tuned model on test set</a></span></li><li><span><a href=\"#Roc-Curve\" data-toc-modified-id=\"Roc-Curve-5.3.3\"><span class=\"toc-item-num\">5.3.3&nbsp;&nbsp;</span>Roc Curve</a></span></li></ul></li><li><span><a href=\"#4.-KNN-:\" data-toc-modified-id=\"4.-KNN-:-5.4\"><span class=\"toc-item-num\">5.4&nbsp;&nbsp;</span>4. KNN :</a></span><ul class=\"toc-item\"><li><span><a href=\"#Performance-of-the-tuned-model-on-test-set\" data-toc-modified-id=\"Performance-of-the-tuned-model-on-test-set-5.4.1\"><span class=\"toc-item-num\">5.4.1&nbsp;&nbsp;</span>Performance of the tuned model on test set</a></span></li><li><span><a href=\"#Roc-Curve\" data-toc-modified-id=\"Roc-Curve-5.4.2\"><span class=\"toc-item-num\">5.4.2&nbsp;&nbsp;</span>Roc Curve</a></span></li></ul></li><li><span><a href=\"#Feature-Importance\" data-toc-modified-id=\"Feature-Importance-5.5\"><span class=\"toc-item-num\">5.5&nbsp;&nbsp;</span>Feature Importance</a></span></li></ul></li></ul></div>"
   ]
  },
  {
   "cell_type": "markdown",
   "metadata": {},
   "source": [
    "# Problem Set 3 Notebook \n",
    "\n",
    "### Contributors : \n",
    "* Nourchene Ben Romdhane\n",
    "* Firas Kanoun\n",
    "* Zeineb Sahnoun\n",
    "* Sami Ben Hassen"
   ]
  },
  {
   "cell_type": "markdown",
   "metadata": {},
   "source": [
    "# Relevant Imports"
   ]
  },
  {
   "cell_type": "code",
   "execution_count": 1,
   "metadata": {},
   "outputs": [
    {
     "name": "stdout",
     "output_type": "stream",
     "text": [
      "Requirement already satisfied: xgboost in /anaconda3/envs/ada/lib/python3.6/site-packages (0.82)\n",
      "Requirement already satisfied: numpy in /anaconda3/envs/ada/lib/python3.6/site-packages (from xgboost) (1.15.2)\n",
      "Requirement already satisfied: scipy in /anaconda3/envs/ada/lib/python3.6/site-packages (from xgboost) (1.1.0)\n",
      "\u001b[33mYou are using pip version 18.1, however version 19.1 is available.\n",
      "You should consider upgrading via the 'pip install --upgrade pip' command.\u001b[0m\n"
     ]
    }
   ],
   "source": [
    "import pandas as pd\n",
    "import warnings\n",
    "warnings.filterwarnings('ignore')\n",
    "import numpy as np\n",
    "import seaborn as sns\n",
    "import matplotlib.pyplot as plt\n",
    "from scipy import stats\n",
    "from sklearn.preprocessing import LabelEncoder\n",
    "%matplotlib inline\n",
    "\n",
    "from sklearn.ensemble import ExtraTreesClassifier\n",
    "from sklearn.svm import LinearSVC\n",
    "from sklearn.neighbors import KNeighborsClassifier\n",
    "from sklearn.tree import DecisionTreeRegressor\n",
    "from sklearn.base import TransformerMixin\n",
    "from sklearn.dummy import DummyRegressor\n",
    "from sklearn.model_selection import train_test_split, validation_curve, ShuffleSplit, KFold, cross_val_score, StratifiedKFold, GridSearchCV\n",
    "from sklearn import linear_model, datasets, svm\n",
    "from sklearn.metrics import auc, confusion_matrix, make_scorer, roc_auc_score, roc_curve, recall_score, f1_score, precision_score, accuracy_score\n",
    "from sklearn.decomposition import PCA\n",
    "from sklearn.preprocessing import StandardScaler, label_binarize\n",
    "from sklearn.feature_selection import SelectKBest, f_regression\n",
    "from sklearn.linear_model import Ridge, RidgeCV, Lasso, LogisticRegression\n",
    "from sklearn.pipeline import Pipeline\n",
    "from sklearn.ensemble import RandomForestRegressor, GradientBoostingRegressor, RandomForestClassifier \n",
    "from itertools import cycle\n",
    "from sklearn.multiclass import OneVsRestClassifier\n",
    "from scipy import interp\n",
    "!pip install xgboost\n",
    "from xgboost import XGBClassifier"
   ]
  },
  {
   "cell_type": "markdown",
   "metadata": {},
   "source": [
    "# Data Description:"
   ]
  },
  {
   "cell_type": "code",
   "execution_count": 2,
   "metadata": {},
   "outputs": [
    {
     "data": {
      "text/html": [
       "<div>\n",
       "<style scoped>\n",
       "    .dataframe tbody tr th:only-of-type {\n",
       "        vertical-align: middle;\n",
       "    }\n",
       "\n",
       "    .dataframe tbody tr th {\n",
       "        vertical-align: top;\n",
       "    }\n",
       "\n",
       "    .dataframe thead th {\n",
       "        text-align: right;\n",
       "    }\n",
       "</style>\n",
       "<table border=\"1\" class=\"dataframe\">\n",
       "  <thead>\n",
       "    <tr style=\"text-align: right;\">\n",
       "      <th></th>\n",
       "      <th>customerID</th>\n",
       "      <th>gender</th>\n",
       "      <th>SeniorCitizen</th>\n",
       "      <th>Partner</th>\n",
       "      <th>Dependents</th>\n",
       "      <th>tenure</th>\n",
       "      <th>PhoneService</th>\n",
       "      <th>MultipleLines</th>\n",
       "      <th>InternetService</th>\n",
       "      <th>OnlineSecurity</th>\n",
       "      <th>...</th>\n",
       "      <th>DeviceProtection</th>\n",
       "      <th>TechSupport</th>\n",
       "      <th>StreamingTV</th>\n",
       "      <th>StreamingMovies</th>\n",
       "      <th>Contract</th>\n",
       "      <th>PaperlessBilling</th>\n",
       "      <th>PaymentMethod</th>\n",
       "      <th>MonthlyCharges</th>\n",
       "      <th>TotalCharges</th>\n",
       "      <th>Churn</th>\n",
       "    </tr>\n",
       "  </thead>\n",
       "  <tbody>\n",
       "    <tr>\n",
       "      <th>0</th>\n",
       "      <td>7590-VHVEG</td>\n",
       "      <td>Female</td>\n",
       "      <td>0</td>\n",
       "      <td>Yes</td>\n",
       "      <td>No</td>\n",
       "      <td>1</td>\n",
       "      <td>No</td>\n",
       "      <td>No phone service</td>\n",
       "      <td>DSL</td>\n",
       "      <td>No</td>\n",
       "      <td>...</td>\n",
       "      <td>No</td>\n",
       "      <td>No</td>\n",
       "      <td>No</td>\n",
       "      <td>No</td>\n",
       "      <td>Month-to-month</td>\n",
       "      <td>Yes</td>\n",
       "      <td>Electronic check</td>\n",
       "      <td>29.85</td>\n",
       "      <td>29.85</td>\n",
       "      <td>No</td>\n",
       "    </tr>\n",
       "    <tr>\n",
       "      <th>1</th>\n",
       "      <td>5575-GNVDE</td>\n",
       "      <td>Male</td>\n",
       "      <td>0</td>\n",
       "      <td>No</td>\n",
       "      <td>No</td>\n",
       "      <td>34</td>\n",
       "      <td>Yes</td>\n",
       "      <td>No</td>\n",
       "      <td>DSL</td>\n",
       "      <td>Yes</td>\n",
       "      <td>...</td>\n",
       "      <td>Yes</td>\n",
       "      <td>No</td>\n",
       "      <td>No</td>\n",
       "      <td>No</td>\n",
       "      <td>One year</td>\n",
       "      <td>No</td>\n",
       "      <td>Mailed check</td>\n",
       "      <td>56.95</td>\n",
       "      <td>1889.5</td>\n",
       "      <td>No</td>\n",
       "    </tr>\n",
       "    <tr>\n",
       "      <th>2</th>\n",
       "      <td>3668-QPYBK</td>\n",
       "      <td>Male</td>\n",
       "      <td>0</td>\n",
       "      <td>No</td>\n",
       "      <td>No</td>\n",
       "      <td>2</td>\n",
       "      <td>Yes</td>\n",
       "      <td>No</td>\n",
       "      <td>DSL</td>\n",
       "      <td>Yes</td>\n",
       "      <td>...</td>\n",
       "      <td>No</td>\n",
       "      <td>No</td>\n",
       "      <td>No</td>\n",
       "      <td>No</td>\n",
       "      <td>Month-to-month</td>\n",
       "      <td>Yes</td>\n",
       "      <td>Mailed check</td>\n",
       "      <td>53.85</td>\n",
       "      <td>108.15</td>\n",
       "      <td>Yes</td>\n",
       "    </tr>\n",
       "    <tr>\n",
       "      <th>3</th>\n",
       "      <td>7795-CFOCW</td>\n",
       "      <td>Male</td>\n",
       "      <td>0</td>\n",
       "      <td>No</td>\n",
       "      <td>No</td>\n",
       "      <td>45</td>\n",
       "      <td>No</td>\n",
       "      <td>No phone service</td>\n",
       "      <td>DSL</td>\n",
       "      <td>Yes</td>\n",
       "      <td>...</td>\n",
       "      <td>Yes</td>\n",
       "      <td>Yes</td>\n",
       "      <td>No</td>\n",
       "      <td>No</td>\n",
       "      <td>One year</td>\n",
       "      <td>No</td>\n",
       "      <td>Bank transfer (automatic)</td>\n",
       "      <td>42.30</td>\n",
       "      <td>1840.75</td>\n",
       "      <td>No</td>\n",
       "    </tr>\n",
       "    <tr>\n",
       "      <th>4</th>\n",
       "      <td>9237-HQITU</td>\n",
       "      <td>Female</td>\n",
       "      <td>0</td>\n",
       "      <td>No</td>\n",
       "      <td>No</td>\n",
       "      <td>2</td>\n",
       "      <td>Yes</td>\n",
       "      <td>No</td>\n",
       "      <td>Fiber optic</td>\n",
       "      <td>No</td>\n",
       "      <td>...</td>\n",
       "      <td>No</td>\n",
       "      <td>No</td>\n",
       "      <td>No</td>\n",
       "      <td>No</td>\n",
       "      <td>Month-to-month</td>\n",
       "      <td>Yes</td>\n",
       "      <td>Electronic check</td>\n",
       "      <td>70.70</td>\n",
       "      <td>151.65</td>\n",
       "      <td>Yes</td>\n",
       "    </tr>\n",
       "  </tbody>\n",
       "</table>\n",
       "<p>5 rows × 21 columns</p>\n",
       "</div>"
      ],
      "text/plain": [
       "   customerID  gender  SeniorCitizen Partner Dependents  tenure PhoneService  \\\n",
       "0  7590-VHVEG  Female              0     Yes         No       1           No   \n",
       "1  5575-GNVDE    Male              0      No         No      34          Yes   \n",
       "2  3668-QPYBK    Male              0      No         No       2          Yes   \n",
       "3  7795-CFOCW    Male              0      No         No      45           No   \n",
       "4  9237-HQITU  Female              0      No         No       2          Yes   \n",
       "\n",
       "      MultipleLines InternetService OnlineSecurity  ...  DeviceProtection  \\\n",
       "0  No phone service             DSL             No  ...                No   \n",
       "1                No             DSL            Yes  ...               Yes   \n",
       "2                No             DSL            Yes  ...                No   \n",
       "3  No phone service             DSL            Yes  ...               Yes   \n",
       "4                No     Fiber optic             No  ...                No   \n",
       "\n",
       "  TechSupport StreamingTV StreamingMovies        Contract PaperlessBilling  \\\n",
       "0          No          No              No  Month-to-month              Yes   \n",
       "1          No          No              No        One year               No   \n",
       "2          No          No              No  Month-to-month              Yes   \n",
       "3         Yes          No              No        One year               No   \n",
       "4          No          No              No  Month-to-month              Yes   \n",
       "\n",
       "               PaymentMethod MonthlyCharges  TotalCharges Churn  \n",
       "0           Electronic check          29.85         29.85    No  \n",
       "1               Mailed check          56.95        1889.5    No  \n",
       "2               Mailed check          53.85        108.15   Yes  \n",
       "3  Bank transfer (automatic)          42.30       1840.75    No  \n",
       "4           Electronic check          70.70        151.65   Yes  \n",
       "\n",
       "[5 rows x 21 columns]"
      ]
     },
     "execution_count": 2,
     "metadata": {},
     "output_type": "execute_result"
    }
   ],
   "source": [
    "path = 'Telco-Customer-Churn.csv'\n",
    "data = pd.read_csv(path)\n",
    "data.head()"
   ]
  },
  {
   "cell_type": "markdown",
   "metadata": {},
   "source": [
    "##### Dealing with NAs :"
   ]
  },
  {
   "cell_type": "code",
   "execution_count": 3,
   "metadata": {},
   "outputs": [],
   "source": [
    "data['TotalCharges'] = data['TotalCharges'].replace(\" \", np.nan).astype('float32') # Force empty values to be \"Nan\"\n",
    "data[\"SeniorCitizen\"]=data[\"SeniorCitizen\"].astype(\"object\") #Change data type of variable of interest\n",
    "data = data[data[\"TotalCharges\"].notnull()]  #let's drop the \"Nan values, since they will drive down our sample mean\n",
    "data = data.reset_index()[data.columns] #and let's reindex... just in case we want to loop the dataframe."
   ]
  },
  {
   "cell_type": "markdown",
   "metadata": {},
   "source": [
    "#### Categorical Data:"
   ]
  },
  {
   "cell_type": "code",
   "execution_count": 4,
   "metadata": {},
   "outputs": [
    {
     "data": {
      "text/html": [
       "<div>\n",
       "<style scoped>\n",
       "    .dataframe tbody tr th:only-of-type {\n",
       "        vertical-align: middle;\n",
       "    }\n",
       "\n",
       "    .dataframe tbody tr th {\n",
       "        vertical-align: top;\n",
       "    }\n",
       "\n",
       "    .dataframe thead th {\n",
       "        text-align: right;\n",
       "    }\n",
       "</style>\n",
       "<table border=\"1\" class=\"dataframe\">\n",
       "  <thead>\n",
       "    <tr style=\"text-align: right;\">\n",
       "      <th></th>\n",
       "      <th>count</th>\n",
       "      <th>unique</th>\n",
       "      <th>top</th>\n",
       "      <th>freq</th>\n",
       "    </tr>\n",
       "  </thead>\n",
       "  <tbody>\n",
       "    <tr>\n",
       "      <th>Churn</th>\n",
       "      <td>7032</td>\n",
       "      <td>2</td>\n",
       "      <td>No</td>\n",
       "      <td>5163</td>\n",
       "    </tr>\n",
       "    <tr>\n",
       "      <th>gender</th>\n",
       "      <td>7032</td>\n",
       "      <td>2</td>\n",
       "      <td>Male</td>\n",
       "      <td>3549</td>\n",
       "    </tr>\n",
       "    <tr>\n",
       "      <th>SeniorCitizen</th>\n",
       "      <td>7032</td>\n",
       "      <td>2</td>\n",
       "      <td>0</td>\n",
       "      <td>5890</td>\n",
       "    </tr>\n",
       "    <tr>\n",
       "      <th>Partner</th>\n",
       "      <td>7032</td>\n",
       "      <td>2</td>\n",
       "      <td>No</td>\n",
       "      <td>3639</td>\n",
       "    </tr>\n",
       "    <tr>\n",
       "      <th>Dependents</th>\n",
       "      <td>7032</td>\n",
       "      <td>2</td>\n",
       "      <td>No</td>\n",
       "      <td>4933</td>\n",
       "    </tr>\n",
       "    <tr>\n",
       "      <th>PhoneService</th>\n",
       "      <td>7032</td>\n",
       "      <td>2</td>\n",
       "      <td>Yes</td>\n",
       "      <td>6352</td>\n",
       "    </tr>\n",
       "    <tr>\n",
       "      <th>PaperlessBilling</th>\n",
       "      <td>7032</td>\n",
       "      <td>2</td>\n",
       "      <td>Yes</td>\n",
       "      <td>4168</td>\n",
       "    </tr>\n",
       "    <tr>\n",
       "      <th>Contract</th>\n",
       "      <td>7032</td>\n",
       "      <td>3</td>\n",
       "      <td>Month-to-month</td>\n",
       "      <td>3875</td>\n",
       "    </tr>\n",
       "    <tr>\n",
       "      <th>StreamingMovies</th>\n",
       "      <td>7032</td>\n",
       "      <td>3</td>\n",
       "      <td>No</td>\n",
       "      <td>2781</td>\n",
       "    </tr>\n",
       "    <tr>\n",
       "      <th>StreamingTV</th>\n",
       "      <td>7032</td>\n",
       "      <td>3</td>\n",
       "      <td>No</td>\n",
       "      <td>2809</td>\n",
       "    </tr>\n",
       "    <tr>\n",
       "      <th>TechSupport</th>\n",
       "      <td>7032</td>\n",
       "      <td>3</td>\n",
       "      <td>No</td>\n",
       "      <td>3472</td>\n",
       "    </tr>\n",
       "    <tr>\n",
       "      <th>OnlineSecurity</th>\n",
       "      <td>7032</td>\n",
       "      <td>3</td>\n",
       "      <td>No</td>\n",
       "      <td>3497</td>\n",
       "    </tr>\n",
       "    <tr>\n",
       "      <th>OnlineBackup</th>\n",
       "      <td>7032</td>\n",
       "      <td>3</td>\n",
       "      <td>No</td>\n",
       "      <td>3087</td>\n",
       "    </tr>\n",
       "    <tr>\n",
       "      <th>InternetService</th>\n",
       "      <td>7032</td>\n",
       "      <td>3</td>\n",
       "      <td>Fiber optic</td>\n",
       "      <td>3096</td>\n",
       "    </tr>\n",
       "    <tr>\n",
       "      <th>MultipleLines</th>\n",
       "      <td>7032</td>\n",
       "      <td>3</td>\n",
       "      <td>No</td>\n",
       "      <td>3385</td>\n",
       "    </tr>\n",
       "    <tr>\n",
       "      <th>DeviceProtection</th>\n",
       "      <td>7032</td>\n",
       "      <td>3</td>\n",
       "      <td>No</td>\n",
       "      <td>3094</td>\n",
       "    </tr>\n",
       "    <tr>\n",
       "      <th>PaymentMethod</th>\n",
       "      <td>7032</td>\n",
       "      <td>4</td>\n",
       "      <td>Electronic check</td>\n",
       "      <td>2365</td>\n",
       "    </tr>\n",
       "    <tr>\n",
       "      <th>customerID</th>\n",
       "      <td>7032</td>\n",
       "      <td>7032</td>\n",
       "      <td>9540-JYROE</td>\n",
       "      <td>1</td>\n",
       "    </tr>\n",
       "  </tbody>\n",
       "</table>\n",
       "</div>"
      ],
      "text/plain": [
       "                 count unique               top  freq\n",
       "Churn             7032      2                No  5163\n",
       "gender            7032      2              Male  3549\n",
       "SeniorCitizen     7032      2                 0  5890\n",
       "Partner           7032      2                No  3639\n",
       "Dependents        7032      2                No  4933\n",
       "PhoneService      7032      2               Yes  6352\n",
       "PaperlessBilling  7032      2               Yes  4168\n",
       "Contract          7032      3    Month-to-month  3875\n",
       "StreamingMovies   7032      3                No  2781\n",
       "StreamingTV       7032      3                No  2809\n",
       "TechSupport       7032      3                No  3472\n",
       "OnlineSecurity    7032      3                No  3497\n",
       "OnlineBackup      7032      3                No  3087\n",
       "InternetService   7032      3       Fiber optic  3096\n",
       "MultipleLines     7032      3                No  3385\n",
       "DeviceProtection  7032      3                No  3094\n",
       "PaymentMethod     7032      4  Electronic check  2365\n",
       "customerID        7032   7032        9540-JYROE     1"
      ]
     },
     "execution_count": 4,
     "metadata": {},
     "output_type": "execute_result"
    }
   ],
   "source": [
    "data.select_dtypes(include='object').describe().transpose().sort_values('unique')"
   ]
  },
  {
   "cell_type": "markdown",
   "metadata": {},
   "source": [
    "**Above you can see the different values and distribution of all categorical features. Let's study them in depth and then encode them for the prediction. We will also drop the customerID since it's of type object and we already have an indexing of the data.**"
   ]
  },
  {
   "cell_type": "markdown",
   "metadata": {},
   "source": [
    "# Data preprocssing"
   ]
  },
  {
   "cell_type": "markdown",
   "metadata": {},
   "source": [
    "**Here we aggregate features a a preprocessing step to predict churn. We used the code provided in the solution to the first homework.**"
   ]
  },
  {
   "cell_type": "code",
   "execution_count": 5,
   "metadata": {},
   "outputs": [
    {
     "data": {
      "text/html": [
       "<div>\n",
       "<style scoped>\n",
       "    .dataframe tbody tr th:only-of-type {\n",
       "        vertical-align: middle;\n",
       "    }\n",
       "\n",
       "    .dataframe tbody tr th {\n",
       "        vertical-align: top;\n",
       "    }\n",
       "\n",
       "    .dataframe thead th {\n",
       "        text-align: right;\n",
       "    }\n",
       "</style>\n",
       "<table border=\"1\" class=\"dataframe\">\n",
       "  <thead>\n",
       "    <tr style=\"text-align: right;\">\n",
       "      <th></th>\n",
       "      <th>SeniorCitizen</th>\n",
       "      <th>Partner</th>\n",
       "      <th>Dependents</th>\n",
       "      <th>tenure</th>\n",
       "      <th>PhoneService</th>\n",
       "      <th>MultipleLines</th>\n",
       "      <th>OnlineSecurity</th>\n",
       "      <th>OnlineBackup</th>\n",
       "      <th>DeviceProtection</th>\n",
       "      <th>TechSupport</th>\n",
       "      <th>...</th>\n",
       "      <th>Male</th>\n",
       "      <th>InternetYes</th>\n",
       "      <th>FiberOptic</th>\n",
       "      <th>Contract_Month-to-month</th>\n",
       "      <th>Contract_One year</th>\n",
       "      <th>Contract_Two year</th>\n",
       "      <th>Pay_Bank transfer (automatic)</th>\n",
       "      <th>Pay_Credit card (automatic)</th>\n",
       "      <th>Pay_Electronic check</th>\n",
       "      <th>Pay_Mailed check</th>\n",
       "    </tr>\n",
       "  </thead>\n",
       "  <tbody>\n",
       "    <tr>\n",
       "      <th>0</th>\n",
       "      <td>0</td>\n",
       "      <td>1</td>\n",
       "      <td>0</td>\n",
       "      <td>1</td>\n",
       "      <td>0</td>\n",
       "      <td>0</td>\n",
       "      <td>0</td>\n",
       "      <td>1</td>\n",
       "      <td>0</td>\n",
       "      <td>0</td>\n",
       "      <td>...</td>\n",
       "      <td>0</td>\n",
       "      <td>1</td>\n",
       "      <td>0</td>\n",
       "      <td>1</td>\n",
       "      <td>0</td>\n",
       "      <td>0</td>\n",
       "      <td>0</td>\n",
       "      <td>0</td>\n",
       "      <td>1</td>\n",
       "      <td>0</td>\n",
       "    </tr>\n",
       "    <tr>\n",
       "      <th>1</th>\n",
       "      <td>0</td>\n",
       "      <td>0</td>\n",
       "      <td>0</td>\n",
       "      <td>34</td>\n",
       "      <td>1</td>\n",
       "      <td>0</td>\n",
       "      <td>1</td>\n",
       "      <td>0</td>\n",
       "      <td>1</td>\n",
       "      <td>0</td>\n",
       "      <td>...</td>\n",
       "      <td>1</td>\n",
       "      <td>1</td>\n",
       "      <td>0</td>\n",
       "      <td>0</td>\n",
       "      <td>1</td>\n",
       "      <td>0</td>\n",
       "      <td>0</td>\n",
       "      <td>0</td>\n",
       "      <td>0</td>\n",
       "      <td>1</td>\n",
       "    </tr>\n",
       "    <tr>\n",
       "      <th>2</th>\n",
       "      <td>0</td>\n",
       "      <td>0</td>\n",
       "      <td>0</td>\n",
       "      <td>2</td>\n",
       "      <td>1</td>\n",
       "      <td>0</td>\n",
       "      <td>1</td>\n",
       "      <td>1</td>\n",
       "      <td>0</td>\n",
       "      <td>0</td>\n",
       "      <td>...</td>\n",
       "      <td>1</td>\n",
       "      <td>1</td>\n",
       "      <td>0</td>\n",
       "      <td>1</td>\n",
       "      <td>0</td>\n",
       "      <td>0</td>\n",
       "      <td>0</td>\n",
       "      <td>0</td>\n",
       "      <td>0</td>\n",
       "      <td>1</td>\n",
       "    </tr>\n",
       "    <tr>\n",
       "      <th>3</th>\n",
       "      <td>0</td>\n",
       "      <td>0</td>\n",
       "      <td>0</td>\n",
       "      <td>45</td>\n",
       "      <td>0</td>\n",
       "      <td>0</td>\n",
       "      <td>1</td>\n",
       "      <td>0</td>\n",
       "      <td>1</td>\n",
       "      <td>1</td>\n",
       "      <td>...</td>\n",
       "      <td>1</td>\n",
       "      <td>1</td>\n",
       "      <td>0</td>\n",
       "      <td>0</td>\n",
       "      <td>1</td>\n",
       "      <td>0</td>\n",
       "      <td>1</td>\n",
       "      <td>0</td>\n",
       "      <td>0</td>\n",
       "      <td>0</td>\n",
       "    </tr>\n",
       "    <tr>\n",
       "      <th>4</th>\n",
       "      <td>0</td>\n",
       "      <td>0</td>\n",
       "      <td>0</td>\n",
       "      <td>2</td>\n",
       "      <td>1</td>\n",
       "      <td>0</td>\n",
       "      <td>0</td>\n",
       "      <td>0</td>\n",
       "      <td>0</td>\n",
       "      <td>0</td>\n",
       "      <td>...</td>\n",
       "      <td>0</td>\n",
       "      <td>1</td>\n",
       "      <td>1</td>\n",
       "      <td>1</td>\n",
       "      <td>0</td>\n",
       "      <td>0</td>\n",
       "      <td>0</td>\n",
       "      <td>0</td>\n",
       "      <td>1</td>\n",
       "      <td>0</td>\n",
       "    </tr>\n",
       "  </tbody>\n",
       "</table>\n",
       "<p>5 rows × 26 columns</p>\n",
       "</div>"
      ],
      "text/plain": [
       "   SeniorCitizen  Partner  Dependents  tenure  PhoneService  MultipleLines  \\\n",
       "0              0        1           0       1             0              0   \n",
       "1              0        0           0      34             1              0   \n",
       "2              0        0           0       2             1              0   \n",
       "3              0        0           0      45             0              0   \n",
       "4              0        0           0       2             1              0   \n",
       "\n",
       "   OnlineSecurity  OnlineBackup  DeviceProtection  TechSupport  \\\n",
       "0               0             1                 0            0   \n",
       "1               1             0                 1            0   \n",
       "2               1             1                 0            0   \n",
       "3               1             0                 1            1   \n",
       "4               0             0                 0            0   \n",
       "\n",
       "         ...         Male  InternetYes  FiberOptic  Contract_Month-to-month  \\\n",
       "0        ...            0            1           0                        1   \n",
       "1        ...            1            1           0                        0   \n",
       "2        ...            1            1           0                        1   \n",
       "3        ...            1            1           0                        0   \n",
       "4        ...            0            1           1                        1   \n",
       "\n",
       "   Contract_One year Contract_Two year  Pay_Bank transfer (automatic)  \\\n",
       "0                  0                 0                              0   \n",
       "1                  1                 0                              0   \n",
       "2                  0                 0                              0   \n",
       "3                  1                 0                              1   \n",
       "4                  0                 0                              0   \n",
       "\n",
       "   Pay_Credit card (automatic)  Pay_Electronic check  Pay_Mailed check  \n",
       "0                            0                     1                 0  \n",
       "1                            0                     0                 1  \n",
       "2                            0                     0                 1  \n",
       "3                            0                     0                 0  \n",
       "4                            0                     1                 0  \n",
       "\n",
       "[5 rows x 26 columns]"
      ]
     },
     "execution_count": 5,
     "metadata": {},
     "output_type": "execute_result"
    }
   ],
   "source": [
    "# If there are only 2 values (and they are Yes/No, \n",
    "# we are going to convert them to Numerical, where \"Yes\"=1, \"No\"=0)\n",
    "\n",
    "data[\"Male\"]=data['gender'].map(lambda s :1  if s =='Male' else 0)\n",
    "data=data.drop(columns=\"gender\")\n",
    "data[\"InternetYes\"]=data['InternetService'].map(lambda s :0  if s =='No' else 1)\n",
    "\n",
    "\n",
    "yes_no_cols=[\"Partner\",\"Dependents\",\"PhoneService\",\"MultipleLines\",\"PaperlessBilling\",\"OnlineSecurity\",\"OnlineBackup\",\"DeviceProtection\",\"TechSupport\",\"StreamingTV\",\"StreamingMovies\"]\n",
    "for col in yes_no_cols:\n",
    "    data[col]=data[col].map(lambda s :1  if s =='Yes' else 0)\n",
    "\n",
    "# For Internet Service, now information is expanded in two columns, \n",
    "# so we don't need a \"DSL\" and a \"Fiber optic\" column\n",
    "# of dummies. We will use a column called \"Fiber Optic\" \n",
    "# where the negative option implies \"DSL\" if \"Internet Service\" is 1\n",
    "data[\"FiberOptic\"]=data[\"InternetService\"].map(lambda s :1  if s =='Fiber optic' else 0)\n",
    "data=data.drop(columns=\"InternetService\")\n",
    "\n",
    "dummies=pd.get_dummies(data[\"Contract\"],prefix=\"Contract\")\n",
    "data = pd.concat([data, dummies], axis=1)\n",
    "data=data.drop(columns=\"Contract\")\n",
    "\n",
    "dummies=pd.get_dummies(data[\"PaymentMethod\"],prefix=\"Pay\")\n",
    "data = pd.concat([data, dummies], axis=1)\n",
    "data=data.drop(columns=\"PaymentMethod\")\n",
    "\n",
    "data[\"SeniorCitizen\"]=data[\"SeniorCitizen\"].astype(\"int32\")\n",
    "data.drop(columns = ['customerID'], inplace = True)\n",
    "data.head()"
   ]
  },
  {
   "cell_type": "markdown",
   "metadata": {},
   "source": [
    "## Correlation Study"
   ]
  },
  {
   "cell_type": "markdown",
   "metadata": {},
   "source": [
    " In this section, we are interested to know which features play a role in knowing if a costumer is loyal or not. We will look at two of the features from our data set and use chi-square tests to see if these features are important to predict customer's loyalty .\n",
    " \n",
    " We have 2 possible hypotheses for the ChiSquare test :\n",
    " \n",
    "   **H0 (Null Hypothesis): There is no relationship between the first and the second variable.**\n",
    "   \n",
    "   **H1 (Alternative Hypothesis): There is a relationship between the first and the second variable.**"
   ]
  },
  {
   "cell_type": "markdown",
   "metadata": {},
   "source": [
    "### Correlation between Online Security and Churn"
   ]
  },
  {
   "cell_type": "code",
   "execution_count": 6,
   "metadata": {},
   "outputs": [
    {
     "data": {
      "text/plain": [
       "(205.41578737378245,\n",
       " 1.37424000884718e-46,\n",
       " 1,\n",
       " array([[3683.55674061, 1333.44325939],\n",
       "        [1479.44325939,  535.55674061]]))"
      ]
     },
     "execution_count": 6,
     "metadata": {},
     "output_type": "execute_result"
    }
   ],
   "source": [
    "# Contingency table\n",
    "crosstab = pd.crosstab(data['OnlineSecurity'], data['Churn'])\n",
    "stats.chi2_contingency(crosstab)"
   ]
  },
  {
   "cell_type": "markdown",
   "metadata": {},
   "source": [
    "**The first value (205.4) is the Test Statistic value, followed by the p-value (1.37e-46), then comes the degrees of freedom (2), and lastly it outputs the expected frequencies as an array. We can reject the null hypothesis at significance level 95% since the p-value is less than 0.05. Thus, the results indicate that there is a relationship between Online Security and loyalty to the company.**"
   ]
  },
  {
   "cell_type": "markdown",
   "metadata": {},
   "source": [
    "### Correlation between the gender of the user and Churn"
   ]
  },
  {
   "cell_type": "code",
   "execution_count": 8,
   "metadata": {},
   "outputs": [
    {
     "data": {
      "text/plain": [
       "(0.47545453727386294,\n",
       " 0.4904884707065509,\n",
       " 1,\n",
       " array([[2557.27090444,  925.72909556],\n",
       "        [2605.72909556,  943.27090444]]))"
      ]
     },
     "execution_count": 8,
     "metadata": {},
     "output_type": "execute_result"
    }
   ],
   "source": [
    "# contingency table\n",
    "crosstab = pd.crosstab(data['Male'], data['Churn'])\n",
    "stats.chi2_contingency(crosstab)"
   ]
  },
  {
   "cell_type": "markdown",
   "metadata": {},
   "source": [
    "**We can see that the Test statistic is equal to 0.475, the p value is equal to 0.49 and the degree of freedom is 1. Since the p-value is a lot greater than 0.05, this means that we cannot reject the null hypothesis, and that the gender may not play a role in regards to being loyal to the company which seems very logical. We therefore compared the results with and without the feature gender.**\n",
    "\n",
    "NB : The other features can be studied in the same way, here we provided examples of 2 different outcomes of the chi-square test."
   ]
  },
  {
   "cell_type": "code",
   "execution_count": 27,
   "metadata": {},
   "outputs": [],
   "source": [
    "data=data.drop(columns=\"Male\")"
   ]
  },
  {
   "cell_type": "markdown",
   "metadata": {},
   "source": [
    "# Predicting Churn"
   ]
  },
  {
   "cell_type": "markdown",
   "metadata": {},
   "source": [
    "In this part, we will study several models to predict customer behavior (churn), and finally give the best of them. This prediction problem is hence a binary classification, where the target feature (churn) is equal to 0 if a costumer leaves the company, and 1 if he is loyal."
   ]
  },
  {
   "cell_type": "code",
   "execution_count": 11,
   "metadata": {},
   "outputs": [],
   "source": [
    "#target encoding \n",
    "label_enc_target= LabelEncoder()\n",
    "encoded_data = data\n",
    "churn_encoded = label_enc_target.fit_transform(encoded_data.Churn)\n",
    "encoded_data['Churn']=churn_encoded"
   ]
  },
  {
   "cell_type": "markdown",
   "metadata": {},
   "source": [
    "Many classifiers work on standardized features (logistic). Moreover, normalization might improve convergence speed due to more smooth optimization surface. We will standardize the features and we can then compare the performance of some models according to the input (standardized data or not) they are given. This will ensure that all variables have equal weights."
   ]
  },
  {
   "cell_type": "code",
   "execution_count": 51,
   "metadata": {},
   "outputs": [
    {
     "data": {
      "text/html": [
       "<div>\n",
       "<style scoped>\n",
       "    .dataframe tbody tr th:only-of-type {\n",
       "        vertical-align: middle;\n",
       "    }\n",
       "\n",
       "    .dataframe tbody tr th {\n",
       "        vertical-align: top;\n",
       "    }\n",
       "\n",
       "    .dataframe thead th {\n",
       "        text-align: right;\n",
       "    }\n",
       "</style>\n",
       "<table border=\"1\" class=\"dataframe\">\n",
       "  <thead>\n",
       "    <tr style=\"text-align: right;\">\n",
       "      <th></th>\n",
       "      <th>SeniorCitizen</th>\n",
       "      <th>Partner</th>\n",
       "      <th>Dependents</th>\n",
       "      <th>tenure</th>\n",
       "      <th>PhoneService</th>\n",
       "      <th>MultipleLines</th>\n",
       "      <th>OnlineSecurity</th>\n",
       "      <th>OnlineBackup</th>\n",
       "      <th>DeviceProtection</th>\n",
       "      <th>TechSupport</th>\n",
       "      <th>...</th>\n",
       "      <th>Male</th>\n",
       "      <th>InternetYes</th>\n",
       "      <th>FiberOptic</th>\n",
       "      <th>Contract_Month-to-month</th>\n",
       "      <th>Contract_One year</th>\n",
       "      <th>Contract_Two year</th>\n",
       "      <th>Pay_Bank transfer (automatic)</th>\n",
       "      <th>Pay_Credit card (automatic)</th>\n",
       "      <th>Pay_Electronic check</th>\n",
       "      <th>Pay_Mailed check</th>\n",
       "    </tr>\n",
       "  </thead>\n",
       "  <tbody>\n",
       "    <tr>\n",
       "      <th>0</th>\n",
       "      <td>-0.440296</td>\n",
       "      <td>1.035543</td>\n",
       "      <td>-0.652259</td>\n",
       "      <td>-1.280157</td>\n",
       "      <td>-3.056117</td>\n",
       "      <td>-0.854275</td>\n",
       "      <td>-0.633701</td>\n",
       "      <td>1.378232</td>\n",
       "      <td>-0.723866</td>\n",
       "      <td>-0.639215</td>\n",
       "      <td>...</td>\n",
       "      <td>-1.009358</td>\n",
       "      <td>0.525093</td>\n",
       "      <td>-0.886833</td>\n",
       "      <td>0.902549</td>\n",
       "      <td>-0.514500</td>\n",
       "      <td>-0.561324</td>\n",
       "      <td>-0.529938</td>\n",
       "      <td>-0.525313</td>\n",
       "      <td>1.404664</td>\n",
       "      <td>-0.543565</td>\n",
       "    </tr>\n",
       "    <tr>\n",
       "      <th>1</th>\n",
       "      <td>-0.440296</td>\n",
       "      <td>-0.965539</td>\n",
       "      <td>-0.652259</td>\n",
       "      <td>0.064298</td>\n",
       "      <td>0.327166</td>\n",
       "      <td>-0.854275</td>\n",
       "      <td>1.577806</td>\n",
       "      <td>-0.725464</td>\n",
       "      <td>1.381274</td>\n",
       "      <td>-0.639215</td>\n",
       "      <td>...</td>\n",
       "      <td>0.990588</td>\n",
       "      <td>0.525093</td>\n",
       "      <td>-0.886833</td>\n",
       "      <td>-1.107816</td>\n",
       "      <td>1.943357</td>\n",
       "      <td>-0.561324</td>\n",
       "      <td>-0.529938</td>\n",
       "      <td>-0.525313</td>\n",
       "      <td>-0.711813</td>\n",
       "      <td>1.839445</td>\n",
       "    </tr>\n",
       "    <tr>\n",
       "      <th>2</th>\n",
       "      <td>-0.440296</td>\n",
       "      <td>-0.965539</td>\n",
       "      <td>-0.652259</td>\n",
       "      <td>-1.239416</td>\n",
       "      <td>0.327166</td>\n",
       "      <td>-0.854275</td>\n",
       "      <td>1.577806</td>\n",
       "      <td>1.378232</td>\n",
       "      <td>-0.723866</td>\n",
       "      <td>-0.639215</td>\n",
       "      <td>...</td>\n",
       "      <td>0.990588</td>\n",
       "      <td>0.525093</td>\n",
       "      <td>-0.886833</td>\n",
       "      <td>0.902549</td>\n",
       "      <td>-0.514500</td>\n",
       "      <td>-0.561324</td>\n",
       "      <td>-0.529938</td>\n",
       "      <td>-0.525313</td>\n",
       "      <td>-0.711813</td>\n",
       "      <td>1.839445</td>\n",
       "    </tr>\n",
       "  </tbody>\n",
       "</table>\n",
       "<p>3 rows × 25 columns</p>\n",
       "</div>"
      ],
      "text/plain": [
       "   SeniorCitizen   Partner  Dependents    tenure  PhoneService  MultipleLines  \\\n",
       "0      -0.440296  1.035543   -0.652259 -1.280157     -3.056117      -0.854275   \n",
       "1      -0.440296 -0.965539   -0.652259  0.064298      0.327166      -0.854275   \n",
       "2      -0.440296 -0.965539   -0.652259 -1.239416      0.327166      -0.854275   \n",
       "\n",
       "   OnlineSecurity  OnlineBackup  DeviceProtection  TechSupport  \\\n",
       "0       -0.633701      1.378232         -0.723866    -0.639215   \n",
       "1        1.577806     -0.725464          1.381274    -0.639215   \n",
       "2        1.577806      1.378232         -0.723866    -0.639215   \n",
       "\n",
       "         ...             Male  InternetYes  FiberOptic  \\\n",
       "0        ...        -1.009358     0.525093   -0.886833   \n",
       "1        ...         0.990588     0.525093   -0.886833   \n",
       "2        ...         0.990588     0.525093   -0.886833   \n",
       "\n",
       "   Contract_Month-to-month  Contract_One year  Contract_Two year  \\\n",
       "0                 0.902549          -0.514500          -0.561324   \n",
       "1                -1.107816           1.943357          -0.561324   \n",
       "2                 0.902549          -0.514500          -0.561324   \n",
       "\n",
       "   Pay_Bank transfer (automatic)  Pay_Credit card (automatic)  \\\n",
       "0                      -0.529938                    -0.525313   \n",
       "1                      -0.529938                    -0.525313   \n",
       "2                      -0.529938                    -0.525313   \n",
       "\n",
       "   Pay_Electronic check  Pay_Mailed check  \n",
       "0              1.404664         -0.543565  \n",
       "1             -0.711813          1.839445  \n",
       "2             -0.711813          1.839445  \n",
       "\n",
       "[3 rows x 25 columns]"
      ]
     },
     "execution_count": 51,
     "metadata": {},
     "output_type": "execute_result"
    }
   ],
   "source": [
    "def standardize(df, col):\n",
    "    df_stand = df.copy()\n",
    "    for col in list(col):\n",
    "        df_stand[col] = ((df_stand[col]-df_stand[col].mean())/df_stand[col].std())\n",
    "        \n",
    "    return df_stand\n",
    "\n",
    "features_list = list(encoded_data.drop(columns = ['Churn']).columns)\n",
    "stand_feat = standardize(features, features_list)\n",
    "stand_feat.head(3)"
   ]
  },
  {
   "cell_type": "markdown",
   "metadata": {},
   "source": [
    "We finally obtained our encoded data and target, we now need to divide it into training and test sets."
   ]
  },
  {
   "cell_type": "code",
   "execution_count": 52,
   "metadata": {},
   "outputs": [
    {
     "data": {
      "text/plain": [
       "' Remove comment from this line to use non-normalized features'"
      ]
     },
     "execution_count": 52,
     "metadata": {},
     "output_type": "execute_result"
    }
   ],
   "source": [
    "seed = 2\n",
    "#Split standardized features\n",
    "X_train, X_test, y_train, y_test = train_test_split(stand_feat, target, test_size = 0.2, random_state = seed)\n",
    "\n",
    "#Split normal features\n",
    "''' Remove comment from this line to use non-normalized features'''\n",
    "#X_train, X_test, y_train, y_test = train_test_split(features, target, test_size = 0.2, random_state = seed)"
   ]
  },
  {
   "cell_type": "markdown",
   "metadata": {},
   "source": [
    "We need to separate a part of the training set known as validation set. We can then tune parameters by measuring their performance on the validation set. Finally we obtain the test score by training our model on the training set and measuring its performance on the test set.\n",
    "We divide data into training (60%), validation (20%) and test sets (20%)."
   ]
  },
  {
   "cell_type": "code",
   "execution_count": 53,
   "metadata": {},
   "outputs": [],
   "source": [
    "seed = 1\n",
    "\n",
    "# Separate target and features into test, training, and validation sets\n",
    "\n",
    "X_train_train, X_train_val, y_train_train, y_train_val = train_test_split(X_train, y_train, test_size = 0.25, random_state = seed)"
   ]
  },
  {
   "cell_type": "markdown",
   "metadata": {},
   "source": [
    "## 1. Logistic Regression Model :"
   ]
  },
  {
   "cell_type": "markdown",
   "metadata": {},
   "source": [
    "### Hyper-parameter tuning"
   ]
  },
  {
   "cell_type": "code",
   "execution_count": 54,
   "metadata": {},
   "outputs": [
    {
     "name": "stdout",
     "output_type": "stream",
     "text": [
      "best C = 0 with auc score = 0.8109\n"
     ]
    }
   ],
   "source": [
    "estimators = []\n",
    "estimators.append(('lr_clf', LogisticRegression()))\n",
    "pipeline = Pipeline(estimators)\n",
    "pipeline.set_params(lr_clf__penalty='l1')\n",
    "\n",
    "# Finding best value of C parameter using validation set\n",
    "scores = []\n",
    "Cs = []\n",
    "for C in np.logspace(-4, 5, 10):\n",
    "    pipeline.set_params(lr_clf__C=C) \n",
    "    pipeline.fit(X_train_train,y_train_train)\n",
    "    y_train_pred = pipeline.predict(X_train_val)\n",
    "    scores.append(accuracy_score(y_train_val, y_train_pred))\n",
    "    Cs.append(C)\n",
    "\n",
    "best_C = Cs[scores.index(max(scores))]\n",
    "print ('best C = %d with auc score = %2.4f' %(best_C, max(scores)))"
   ]
  },
  {
   "cell_type": "markdown",
   "metadata": {},
   "source": [
    "### Performance of the tuned model on test set"
   ]
  },
  {
   "cell_type": "code",
   "execution_count": 55,
   "metadata": {},
   "outputs": [
    {
     "name": "stdout",
     "output_type": "stream",
     "text": [
      "Logistic regression classifer score with l1 regularization = 0.8038\n"
     ]
    }
   ],
   "source": [
    "pipeline.set_params(lr_clf__penalty='l1')\n",
    "pipeline.set_params(lr_clf__C=best_C)\n",
    "pipeline.fit(X_train,y_train)\n",
    "y_pred = pipeline.predict(X_test)\n",
    "score = accuracy_score(y_test, y_pred)\n",
    "print ('Logistic regression classifer score with l1 regularization = %2.4f' %score)"
   ]
  },
  {
   "cell_type": "markdown",
   "metadata": {},
   "source": [
    "### Roc Curve "
   ]
  },
  {
   "cell_type": "code",
   "execution_count": 56,
   "metadata": {},
   "outputs": [
    {
     "name": "stdout",
     "output_type": "stream",
     "text": [
      "Area Under Curve Score : 0.8370679346278685\n"
     ]
    },
    {
     "data": {
      "image/png": "[encoded data removed]",
      "text/plain": [
       "<Figure size 720x576 with 1 Axes>"
      ]
     },
     "metadata": {
      "needs_background": "light"
     },
     "output_type": "display_data"
    }
   ],
   "source": [
    "y_pred_lr = pipeline.predict_proba(X_test)\n",
    "fpr, tpr, _ = roc_curve(y_test,  y_pred_lr[:,1])\n",
    "auc_LR = roc_auc_score(y_test, y_pred_lr[:,1])\n",
    "\n",
    "print(\"Area Under Curve Score : \" + str(auc_LR))\n",
    "\n",
    "#PLOT ROC\n",
    "lw = 1\n",
    "plt.figure(figsize=(10,8))\n",
    "plt.plot(fpr, tpr, label= 'ROC Curve, auc='+str(auc_LR))\n",
    "plt.plot([0, 1], [0, 1], color='navy', lw=lw, linestyle='--')\n",
    "plt.legend(loc=4)\n",
    "plt.xlim([0.0, 1.0])\n",
    "plt.ylim([0.0, 1.05])\n",
    "plt.xlabel('False Positive Rate')\n",
    "plt.ylabel('True Positive Rate')\n",
    "plt.title('Receiver Operating Characteristic for Logistic Classifier')\n",
    "plt.show()"
   ]
  },
  {
   "cell_type": "markdown",
   "metadata": {},
   "source": [
    "## 2. Gradient boosted trees model :"
   ]
  },
  {
   "cell_type": "markdown",
   "metadata": {},
   "source": [
    "Function for nested cross-validation, useful for tuning the hyper parameters n_estimators."
   ]
  },
  {
   "cell_type": "code",
   "execution_count": 57,
   "metadata": {},
   "outputs": [],
   "source": [
    "def nested_cv(X, y, est_pipe, p_grid, p_score, n_splits_inner = 3, n_splits_outer = 3, n_cores = 1, seed = 0):\n",
    "    ests = []\n",
    "    # cross-validation schema for inner and outer loops\n",
    "    inner_cv = StratifiedKFold(n_splits = n_splits_inner, shuffle = True, random_state = seed)\n",
    "    outer_cv = StratifiedKFold(n_splits = n_splits_outer, shuffle = True, random_state = seed)\n",
    "\n",
    "    # grid search to tune hyper parameters\n",
    "    est = GridSearchCV(estimator = est_pipe, param_grid = p_grid, cv = inner_cv, scoring = p_score, n_jobs = n_cores)\n",
    "    ests.append(est)\n",
    "    # nested CV with parameter optimization\n",
    "    nested_scores = cross_val_score(estimator = est, X = X, y = y, cv = outer_cv, scoring = p_score, n_jobs = n_cores)\n",
    "    \n",
    "    print('Average score: %0.4f (+/- %0.4f)' % (nested_scores.mean(), nested_scores.std() * 1.96))\n",
    "    \n",
    "    return nested_scores, ests"
   ]
  },
  {
   "cell_type": "markdown",
   "metadata": {},
   "source": [
    "### Hyper-parameter tuning"
   ]
  },
  {
   "cell_type": "code",
   "execution_count": 58,
   "metadata": {},
   "outputs": [
    {
     "name": "stdout",
     "output_type": "stream",
     "text": [
      "Average score: 0.8009 (+/- 0.0008)\n",
      "Optimal n_estimators value : 10\n"
     ]
    }
   ],
   "source": [
    "seed=0\n",
    "\n",
    "array = []\n",
    "array.append(('XGB_clf', XGBClassifier()))\n",
    "pipe = Pipeline(array)\n",
    "pipe.set_params(XGB_clf__random_state = seed)\n",
    "\n",
    "# Possible optimized values \n",
    "p_grid = {\"XGB_clf__n_estimators\": [int(i) for i in np.linspace(10.0, 40.0, 5)]}\n",
    "\n",
    "nested_scores_xgb, ests_xgb = nested_cv(X = stand_feat, y = target, est_pipe = pipe, p_grid = p_grid, p_score = 'accuracy', n_cores = -1)\n",
    "optimal_param = list(p_grid.values())[0][np.argmax(nested_scores_xgb)]\n",
    "print('Optimal n_estimators value : '+str(optimal_param))"
   ]
  },
  {
   "cell_type": "markdown",
   "metadata": {},
   "source": [
    "### Performance of the tuned model on test set"
   ]
  },
  {
   "cell_type": "code",
   "execution_count": 59,
   "metadata": {},
   "outputs": [
    {
     "name": "stdout",
     "output_type": "stream",
     "text": [
      "Optimal Gradient Boosted trees model score : 0.7974413646055437\n"
     ]
    }
   ],
   "source": [
    "optimal_xgb =  XGBClassifier(n_estimators=optimal_param)\n",
    "optimal_xgb.fit(X_train,y_train)\n",
    "xgb_pred = optimal_xgb.predict(X_test)\n",
    "score = accuracy_score(y_test, xgb_pred)\n",
    "\n",
    "print(\"Optimal Gradient Boosted trees model score : \" + str(score))"
   ]
  },
  {
   "cell_type": "markdown",
   "metadata": {},
   "source": [
    "### Roc Curve "
   ]
  },
  {
   "cell_type": "code",
   "execution_count": 60,
   "metadata": {},
   "outputs": [
    {
     "name": "stdout",
     "output_type": "stream",
     "text": [
      "Gradient Boosted trees model AUC score : 0.8370744055784771\n"
     ]
    },
    {
     "data": {
      "image/png": "[encoded data removed]",
      "text/plain": [
       "<Figure size 720x576 with 1 Axes>"
      ]
     },
     "metadata": {
      "needs_background": "light"
     },
     "output_type": "display_data"
    }
   ],
   "source": [
    "xgb_prob = optimal_xgb.predict_proba(X_test)[:, 1]\n",
    "\n",
    "fpr_xgb, tpr_xgb, thresholds = roc_curve(y_test, xgb_prob)\n",
    "\n",
    "auc_xgb = roc_auc_score(y_test, xgb_prob)\n",
    "\n",
    "print(\"Gradient Boosted trees model AUC score : \" + str(auc_xgb))\n",
    "\n",
    "plt.figure(figsize=(10,8))\n",
    "plt.plot(fpr_xgb, tpr_xgb, label= 'ROC Curve, auc='+str(auc_xgb))\n",
    "plt.plot([0, 1], [0, 1], color='navy', lw=lw, linestyle='--')\n",
    "plt.legend(loc=4)\n",
    "plt.xlim([0.0, 1.01])\n",
    "plt.ylim([0.0, 1.01])\n",
    "plt.xlabel('False Positive Rate')\n",
    "plt.ylabel('True Positive Rate')\n",
    "plt.title('Receiver Operating Characteristic for Gradient boosted trees model')\n",
    "plt.show()"
   ]
  },
  {
   "cell_type": "markdown",
   "metadata": {},
   "source": [
    "## 3. Random Forest:"
   ]
  },
  {
   "cell_type": "markdown",
   "metadata": {},
   "source": [
    "### Hyper-parameter tuning"
   ]
  },
  {
   "cell_type": "code",
   "execution_count": 61,
   "metadata": {},
   "outputs": [
    {
     "name": "stdout",
     "output_type": "stream",
     "text": [
      "best NS = 70 with auc score = 0.7982\n"
     ]
    }
   ],
   "source": [
    "# Define a random classifier pipeline\n",
    "estimators = []\n",
    "estimators.append(('rf_clf', RandomForestClassifier()))\n",
    "pipeline = Pipeline(estimators)\n",
    "pipeline.set_params(rf_clf__random_state = seed)\n",
    "    \n",
    "# Finding best value of n_estimators using validation set\n",
    "scores = []\n",
    "NSs = []\n",
    "for NS in [int(i) for i in np.linspace(10, 100, 10)]:\n",
    "    pipeline.set_params(rf_clf__n_estimators = NS) \n",
    "    pipeline.fit(X_train_train,y_train_train)\n",
    "    y_train_pred = pipeline.predict(X_train_val)\n",
    "    scores.append(accuracy_score(y_train_val, y_train_pred))\n",
    "    NSs.append(NS)\n",
    "\n",
    "best_NS = NSs[scores.index(max(scores))]\n",
    "print ('best NS = %d with auc score = %2.4f' %(best_NS, max(scores)))"
   ]
  },
  {
   "cell_type": "markdown",
   "metadata": {},
   "source": [
    "### Performance of the tuned model on test set"
   ]
  },
  {
   "cell_type": "code",
   "execution_count": 62,
   "metadata": {},
   "outputs": [
    {
     "name": "stdout",
     "output_type": "stream",
     "text": [
      "Random Forest Classifier accuracy score = 0.7939\n"
     ]
    }
   ],
   "source": [
    "# Performance of the tuned model on test set\n",
    "pipeline.set_params(rf_clf__n_estimators = best_NS)\n",
    "pipeline.fit(X_train,y_train)\n",
    "y_pred_rf = pipeline.predict(X_test)\n",
    "score = accuracy_score(y_test, y_pred_rf)\n",
    "print ('Random Forest Classifier accuracy score = %2.4f' %score)"
   ]
  },
  {
   "cell_type": "markdown",
   "metadata": {},
   "source": [
    "### Roc Curve "
   ]
  },
  {
   "cell_type": "code",
   "execution_count": 63,
   "metadata": {},
   "outputs": [
    {
     "name": "stdout",
     "output_type": "stream",
     "text": [
      "Area under curve score : 0.8249944349824766\n"
     ]
    },
    {
     "data": {
      "image/png": "[encoded data removed]",
      "text/plain": [
       "<Figure size 720x576 with 1 Axes>"
      ]
     },
     "metadata": {
      "needs_background": "light"
     },
     "output_type": "display_data"
    }
   ],
   "source": [
    "rf_prob = pipeline.predict_proba(X_test)[:, 1]\n",
    "fpr_rf, tpr_rf, thresholds = roc_curve(y_test, rf_prob)\n",
    "auc_rf = roc_auc_score(y_test, rf_prob)\n",
    "\n",
    "print(\"Area under curve score : \" + str(auc_rf))\n",
    "\n",
    "plt.figure(figsize=(10,8))\n",
    "plt.plot(fpr_rf, tpr_rf, label= 'ROC Curve, auc='+str(auc_rf))\n",
    "plt.plot([0, 1], [0, 1], color='navy', lw=lw, linestyle='--')\n",
    "plt.legend(loc=4)\n",
    "plt.xlim([0.0, 1.01])\n",
    "plt.ylim([0.0, 1.01])\n",
    "plt.xlabel('False Positive Rate')\n",
    "plt.ylabel('True Positive Rate')\n",
    "plt.title('Receiver Operating Characteristic for Random Forest model')\n",
    "plt.show()"
   ]
  },
  {
   "cell_type": "markdown",
   "metadata": {},
   "source": [
    "## 4. KNN :"
   ]
  },
  {
   "cell_type": "code",
   "execution_count": 64,
   "metadata": {},
   "outputs": [
    {
     "name": "stdout",
     "output_type": "stream",
     "text": [
      "The optimal number of neighbors is 27\n"
     ]
    }
   ],
   "source": [
    "# creating odd list of K for KNN\n",
    "numbers = list(range(1,30))\n",
    "\n",
    "# subsetting just the odd ones\n",
    "neighbors = list(filter(lambda x: x % 2 != 0, numbers))\n",
    "\n",
    "# empty list that will hold cv scores\n",
    "cv_scores = []\n",
    "\n",
    "# perform 5-fold cross validation\n",
    "for n in neighbors:\n",
    "    knn = KNeighborsClassifier(n_neighbors=n)\n",
    "    scores = cross_val_score(knn, X_train, y_train, cv=5, scoring='accuracy')\n",
    "    cv_scores.append(scores.mean())\n",
    "\n",
    "\n",
    "# determining best number of neighbors n\n",
    "optimal_n = neighbors[np.argmax(cv_scores)]\n",
    "print(\"The optimal number of neighbors is %d\" % optimal_n)"
   ]
  },
  {
   "cell_type": "markdown",
   "metadata": {},
   "source": [
    "### Performance of the tuned model on test set"
   ]
  },
  {
   "cell_type": "code",
   "execution_count": 65,
   "metadata": {},
   "outputs": [
    {
     "name": "stdout",
     "output_type": "stream",
     "text": [
      "KNN Accuracy score : 0.7761194029850746\n"
     ]
    }
   ],
   "source": [
    "knn = KNeighborsClassifier(n_neighbors=optimal_n)\n",
    "knn.fit(X_train, y_train)\n",
    "y_pred = knn.predict(X_test)\n",
    "\n",
    "score = accuracy_score(y_test, y_pred)\n",
    "\n",
    "print(\"KNN Accuracy score : \" + str(score))"
   ]
  },
  {
   "cell_type": "markdown",
   "metadata": {},
   "source": [
    "### Roc Curve "
   ]
  },
  {
   "cell_type": "code",
   "execution_count": 66,
   "metadata": {},
   "outputs": [
    {
     "name": "stdout",
     "output_type": "stream",
     "text": [
      "The auc score for KNN : 0.8203845297689611\n"
     ]
    },
    {
     "data": {
      "image/png": "[encoded data removed]",
      "text/plain": [
       "<Figure size 720x576 with 1 Axes>"
      ]
     },
     "metadata": {
      "needs_background": "light"
     },
     "output_type": "display_data"
    }
   ],
   "source": [
    "y_prob = knn.predict_proba(X_test)[:, 1]\n",
    "auc = roc_auc_score(y_test, y_prob)\n",
    "print(\"The auc score for KNN : \" + str(auc))\n",
    "fpr, tpr, thresholds = roc_curve(y_test, y_prob)\n",
    "plt.figure(figsize=(10,8))\n",
    "plt.plot(fpr, tpr, label= 'ROC Curve, auc='+str(auc))\n",
    "plt.plot([0, 1], [0, 1], color='navy', lw=lw, linestyle='--')\n",
    "plt.legend(loc=4)\n",
    "plt.xlim([0.0, 1.01])\n",
    "plt.ylim([0.0, 1.01])\n",
    "plt.xlabel('False Positive Rate')\n",
    "plt.ylabel('True Positive Rate')\n",
    "plt.title('Receiver Operating Characteristic for KNN model')\n",
    "plt.show()"
   ]
  },
  {
   "cell_type": "markdown",
   "metadata": {},
   "source": [
    "**We can see from the proposed models the best one is logistic regression with an accuracy of 80.38%.\n",
    "Logistic regression and Gradient Boosted trees give a maximal acuracy of 0.837.**\n",
    "\n",
    "**Thanks to these models, we can predict almost 84% of costumer loyalty correctly.**"
   ]
  },
  {
   "cell_type": "markdown",
   "metadata": {},
   "source": [
    "## Feature Importance"
   ]
  },
  {
   "cell_type": "markdown",
   "metadata": {},
   "source": [
    "In this section, we will compute the scores of each feature of our data, the higher the score more important or relevant is the feature towards our target variable.\n",
    "\n",
    "Feature importance is an inbuilt class that comes with Tree Based Classifiers, we will be using Extra Tree Classifier for extracting the top 10 features for our dataset.\n",
    "\n",
    "This will give us an intuition about the most influencial features on our target churn."
   ]
  },
  {
   "cell_type": "code",
   "execution_count": 71,
   "metadata": {},
   "outputs": [
    {
     "name": "stdout",
     "output_type": "stream",
     "text": [
      "[0.02575454 0.0293981  0.02455159 0.16020028 0.0095704  0.02461009\n",
      " 0.02488253 0.02922171 0.02710931 0.02196339 0.02293493 0.02330276\n",
      " 0.03167444 0.13268255 0.1381774  0.03635466 0.00975971 0.04080532\n",
      " 0.07019224 0.0160667  0.0288391  0.0112158  0.01367084 0.03640967\n",
      " 0.01065195]\n"
     ]
    },
    {
     "data": {
      "image/png": "[encoded data removed]",
      "text/plain": [
       "<Figure size 432x288 with 1 Axes>"
      ]
     },
     "metadata": {
      "needs_background": "light"
     },
     "output_type": "display_data"
    }
   ],
   "source": [
    "model = ExtraTreesClassifier()\n",
    "model.fit(stand_feat, target)\n",
    "#plot graph of feature importances \n",
    "feat_importances = pd.Series(model.feature_importances_, index=stand_feat.columns)\n",
    "feat_importances.nlargest(10).plot(kind='barh')\n",
    "plt.show()"
   ]
  },
  {
   "cell_type": "markdown",
   "metadata": {},
   "source": [
    "**As we can see in the plot, tenure, TotalCharges and MonthlyCharges are the most important criterias in detecting whether a client will churn or not. This makes sense as clients with high tenure are more likely to stick to the phone company. Plus, as it is the case for all of us, charges is the most important criteria if we're thinking about unsubscribing from a phone company.**"
   ]
  }
 ],
 "metadata": {
  "kernelspec": {
   "display_name": "Python 3",
   "language": "python",
   "name": "python3"
  },
  "language_info": {
   "codemirror_mode": {
    "name": "ipython",
    "version": 3
   },
   "file_extension": ".py",
   "mimetype": "text/x-python",
   "name": "python",
   "nbconvert_exporter": "python",
   "pygments_lexer": "ipython3",
   "version": "3.7.1"
  },
  "toc": {
   "base_numbering": 1,
   "nav_menu": {},
   "number_sections": true,
   "sideBar": true,
   "skip_h1_title": false,
   "title_cell": "Table of Contents",
   "title_sidebar": "Contents",
   "toc_cell": true,
   "toc_position": {},
   "toc_section_display": true,
   "toc_window_display": true
  },
  "varInspector": {
   "cols": {
    "lenName": 16,
    "lenType": 16,
    "lenVar": 40
   },
   "kernels_config": {
    "python": {
     "delete_cmd_postfix": "",
     "delete_cmd_prefix": "del ",
     "library": "var_list.py",
     "varRefreshCmd": "print(var_dic_list())"
    },
    "r": {
     "delete_cmd_postfix": ") ",
     "delete_cmd_prefix": "rm(",
     "library": "var_list.r",
     "varRefreshCmd": "cat(var_dic_list()) "
    }
   },
   "types_to_exclude": [
    "module",
    "function",
    "builtin_function_or_method",
    "instance",
    "_Feature"
   ],
   "window_display": false
  }
 },
 "nbformat": 4,
 "nbformat_minor": 2
}
