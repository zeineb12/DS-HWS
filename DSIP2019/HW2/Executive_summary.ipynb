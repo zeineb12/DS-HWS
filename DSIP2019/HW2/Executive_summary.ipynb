{
 "cells": [
  {
   "cell_type": "markdown",
   "metadata": {},
   "source": [
    "# Executive summary for homework 2"
   ]
  },
  {
   "cell_type": "markdown",
   "metadata": {},
   "source": [
    "## Contributors :\n",
    "\n",
    "- Nourchene Ben Romdhane\n",
    "- Firas Kanoun\n",
    "- Zeineb Sahnoun\n",
    "- Sami Ben Hassen"
   ]
  },
  {
   "cell_type": "markdown",
   "metadata": {},
   "source": [
    "The goal of this homework was to find out the most influencial customers in our database. Given a network of customers, with nodes representing customers and edges the exchanged sms, we wanted to point out the most influancial customers so that we directly contact them in case of a security breach, sending too many sms being extremely costly.\n",
    "\n",
    "The first thing we started to do was read the network file and try to represent the graph using networkx library. \n",
    "\n",
    "Then we looked at the customers with the highest in-degrees, meaning the customers that received messages the most. Indeed, the results showed that the highest number of exchanged messages for a user is 1045, with a mean of only 43 contacts.\n",
    "\n",
    "We tried to look for communities in the graph using the louvain method for detecting communities. The idea behind this algorithm is to maximize intra-community edges while minimizing inter-community edges. Formally, the algorithm tries to maximize the modularity of network, or the fraction of edges that fall within the community minus the expected fraction of edges if the edges were distributed by random. Good communities should have a high number of intra-community edges, so by maximizing the modularity, we detect dense communities that have a high fraction of intra-community edges.\n",
    "\n",
    "Once we obtained the communities the final step was to look for customers with the highest number of exchanged messages within each community. Having them at hand, the customer relations team can now only target these people instead everyone. By sending only messages to them, the team maximizes the chances of the message to go viral, and minimizes the cost of convincing everyone."
   ]
  }
 ],
 "metadata": {
  "kernelspec": {
   "display_name": "Python 3",
   "language": "python",
   "name": "python3"
  },
  "language_info": {
   "codemirror_mode": {
    "name": "ipython",
    "version": 3
   },
   "file_extension": ".py",
   "mimetype": "text/x-python",
   "name": "python",
   "nbconvert_exporter": "python",
   "pygments_lexer": "ipython3",
   "version": "3.7.0"
  }
 },
 "nbformat": 4,
 "nbformat_minor": 2
}
